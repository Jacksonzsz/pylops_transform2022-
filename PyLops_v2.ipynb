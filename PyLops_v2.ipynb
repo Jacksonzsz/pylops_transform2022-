{
 "cells": [
  {
   "cell_type": "markdown",
   "metadata": {},
   "source": [
    "[![Binder](https://mybinder.org/badge_logo.svg)](https://mybinder.org/v2/gh/PyLops/pylops_transform2022/HEAD?labpath=PyLops_v2.ipynb)\n",
    "\n",
    "[![Open In Colab](https://colab.research.google.com/assets/colab-badge.svg)](https://colab.research.google.com/github/PyLops/pylops_transform2022/blob/main/PyLops_v2.ipynb)"
   ]
  },
  {
   "cell_type": "markdown",
   "metadata": {
    "id": "fvzDiWgxrEbB"
   },
   "source": [
    "# Building Operators in PyLops V2: What's New? \n",
    "\n",
    "**Author: C. Costa, PyLops Dev Team**"
   ]
  },
  {
   "cell_type": "markdown",
   "metadata": {
    "id": "JXwvtkqirEbE"
   },
   "source": [
    "The aim of this second tutorial is to introduce you to some features in our latest creation (still in the making): **PyLops V2**\n",
    "\n",
    "As any new Major version, there will be breaking changes! \n",
    "\n",
    "Nevetheless, this is the very first time since the initial creation of PyLops that we decided to sit back and revisit some the early design choices. We hope the benefit introduced by such changes outweights the pain of making a few changes to your codes.\n",
    "\n",
    "In the following we want to give you a taste of some new features and highlight along the way if (and how) these have required breaking changes.\n",
    "\n",
    "For more details on how to quickly migrate your PyLops v1.x codes into PyLops v2.x codes please refer to this [document](https://github.com/PyLops/pylops/blob/dev/MIGRATION_V1_V2.md)."
   ]
  },
  {
   "cell_type": "markdown",
   "metadata": {
    "id": "hvtyDt5KrEbF"
   },
   "source": [
    "## Useful links\n",
    "\n",
    "- Tutorial Github repository: https://github.com/PyLops/pylops_transform2022\n",
    "        \n",
    "- PyLops Github repository: https://github.com/PyLops/pylops\n",
    "\n",
    "- PyLops reference documentation: https://pylops.readthedocs.io/en/latest/"
   ]
  },
  {
   "cell_type": "markdown",
   "metadata": {
    "id": "d4BKiX3mrEbG"
   },
   "source": [
    "## Let's Get Shifty\n",
    "\n",
    "To get started, let's suppose we want to implement a simple shift operator.\n",
    "Stating the problem more descriptively, we want an operator that\n",
    "\n",
    "1. Depends on a (possibly fractional) parameter `shift`\n",
    "2. Can be applied to a vector along a certain given `axis`.\n",
    "3. A positive `shift` should shift the vector to the right; a negative `shift` to the left.\n",
    "4. The shift is not circular, that is, when shifting to the right, the last samples will not appear in the beginning of the array.\n",
    "\n",
    "PyLops already features a much fancier [Shift operator](https://pylops.readthedocs.io/en/stable/api/generated/pylops.signalprocessing.Shift.html) that works in the Fourier domain, but it is circular.\n",
    "Numpy offers the `roll` function, but on its own, it does not support fractional shifts and is also circular.\n",
    "Note that both of these options could be made non-circular by padding, but for now we're gonna \"roll\" our own! 😉\n",
    "\n",
    "\n",
    "---------------------\n",
    "\n",
    "Before we jump on creating the operator, let's code a function to do the shift.\n",
    "After we have the workhorse, it will be easier to write the boilerplate code required for the `LinearOperator`."
   ]
  },
  {
   "cell_type": "code",
   "execution_count": 1,
   "metadata": {
    "colab": {
     "base_uri": "https://localhost:8080/"
    },
    "id": "uumt2jRqrI_L",
    "outputId": "141a4b16-64cf-45f7-fad0-93260ceb87e4"
   },
   "outputs": [],
   "source": [
    "!pip install git+https://github.com/cako/pylops.git@patch-nd-mult numba==0.55.1"
   ]
  },
  {
   "cell_type": "code",
   "execution_count": 2,
   "metadata": {
    "id": "jOGDxvC1sV0G"
   },
   "outputs": [],
   "source": [
    "# Uncomment for Google Colab\n",
    "# !pip install -q --upgrade ipympl\n",
    "# from google.colab import output\n",
    "# output.enable_custom_widget_manager()"
   ]
  },
  {
   "cell_type": "code",
   "execution_count": 4,
   "metadata": {
    "id": "rVj---WSrEbG"
   },
   "outputs": [],
   "source": [
    "%matplotlib widget\n",
    "\n",
    "import cupy as cp\n",
    "import matplotlib.pyplot as plt\n",
    "import numba\n",
    "import numpy as np\n",
    "import numpy.typing as npt\n",
    "import pylops\n",
    "\n",
    "from typing import Tuple\n",
    "\n",
    "plt.style.use('tableau-colorblind10')\n",
    "np.random.seed(0)"
   ]
  },
  {
   "cell_type": "code",
   "execution_count": 5,
   "metadata": {
    "colab": {
     "base_uri": "https://localhost:8080/"
    },
    "id": "x6gkOnozv0Pj",
    "outputId": "4fd3bb10-4164-4dee-edc5-1f805d465085"
   },
   "outputs": [
    {
     "name": "stdout",
     "output_type": "stream",
     "text": [
      "numba     : 0.55.1\n",
      "google    : 2.0.3\n",
      "matplotlib: 3.5.1\n",
      "numpy     : 1.21.5\n",
      "IPython   : 5.5.0\n",
      "cupy      : 9.4.0\n",
      "pylops    : 1.13.1.dev405+g7eda999\n",
      "\n",
      "Watermark: 2.3.0\n",
      "\n"
     ]
    }
   ],
   "source": [
    "!pip install -q --upgrade watermark\n",
    "%load_ext watermark\n",
    "%watermark --iversions -w"
   ]
  },
  {
   "cell_type": "markdown",
   "metadata": {
    "id": "K8BNlzHcrEbI"
   },
   "source": [
    "We're going to start with an integer-based shifting function, which we will exploit later to convert into a fractional shifter. We want this function to be pretty fast, so we're going to pad the original array and pad it with the correct number of zeros.\n",
    "\n",
    "<center>\n",
    "\n",
    "<img src=\"figs/crop_pad_concatenate.png\" width=\"300\">\n",
    "</center>\n"
   ]
  },
  {
   "cell_type": "code",
   "execution_count": 6,
   "metadata": {
    "colab": {
     "base_uri": "https://localhost:8080/"
    },
    "id": "EKKC25SFrEbI",
    "outputId": "85a6f5c6-da35-4d41-ec16-dc025a43ebf5"
   },
   "outputs": [
    {
     "name": "stdout",
     "output_type": "stream",
     "text": [
      "Original array: [1. 2. 3. 4. 5. 6. 7. 8. 9.]\n",
      "Positive shift: [0. 0. 0. 1. 2. 3. 4. 5. 6.]\n",
      "Negative shift: [4. 5. 6. 7. 8. 9. 0. 0. 0.]\n",
      "No shift      : [1. 2. 3. 4. 5. 6. 7. 8. 9.]\n",
      "Big pos. shift: [0. 0. 0. 0. 0. 0. 0. 0. 0. 0. 0. 0.]\n",
      "Big neg. shift: [0. 0. 0. 0. 0. 0. 0. 0. 0. 0. 0. 0.]\n"
     ]
    }
   ],
   "source": [
    "# Original array\n",
    "x = 1.0 + np.arange(9)\n",
    "\n",
    "print(\"Original array:\", x)\n",
    "\n",
    "# Tests for our (integer) shifting method\n",
    "shift = 3\n",
    "shifted = np.concatenate((np.zeros(shift), x[:-shift]))\n",
    "print(\"Positive shift:\", shifted)\n",
    "\n",
    "shift = -3\n",
    "shifted = np.concatenate((x[-shift:], np.zeros(-shift)))\n",
    "print(\"Negative shift:\", shifted)\n",
    "\n",
    "shift = 0\n",
    "shifted = np.concatenate((x[-shift:], np.zeros(-shift)))\n",
    "print(\"No shift      :\", shifted)\n",
    "\n",
    "shift = 12\n",
    "shifted = np.concatenate((np.zeros(shift), x[:-shift]))  # Oops!!\n",
    "print(\"Big pos. shift:\", shifted)\n",
    "\n",
    "shift = -12\n",
    "shifted = np.concatenate((x[-shift:], np.zeros(-shift)))  # Oops!!\n",
    "print(\"Big neg. shift:\", shifted)"
   ]
  },
  {
   "cell_type": "markdown",
   "metadata": {
    "id": "Np6MOMTurEbK"
   },
   "source": [
    "Now that we know what to do, we can package it into a simple 1D function."
   ]
  },
  {
   "cell_type": "code",
   "execution_count": 7,
   "metadata": {
    "colab": {
     "base_uri": "https://localhost:8080/"
    },
    "id": "lthU4sVprEbK",
    "outputId": "485e2bf3-9b3f-4f18-c949-29165bde23ef"
   },
   "outputs": [
    {
     "name": "stdout",
     "output_type": "stream",
     "text": [
      "[0. 0. 0. 1. 2. 3. 4. 5. 6.]\n",
      "[4. 5. 6. 7. 8. 9. 0. 0. 0.]\n",
      "[1. 2. 3. 4. 5. 6. 7. 8. 9.]\n",
      "[0. 0. 0. 0. 0. 0. 0. 0. 0.]\n",
      "[0. 0. 0. 0. 0. 0. 0. 0. 0.]\n"
     ]
    }
   ],
   "source": [
    "def shift1d(x: npt.NDArray, shift: int):\n",
    "    shift = max(\n",
    "        min(shift, len(x)), -len(x)\n",
    "    )  # Fix the oops: ensure shift between -len(x) and len(x)]\n",
    "    if shift > 0:\n",
    "        return np.concatenate((np.zeros(shift), x[:-shift]))\n",
    "    else:\n",
    "        return np.concatenate((x[-shift:], np.zeros(-shift)))\n",
    "\n",
    "\n",
    "for shift in [3, -3, 0, 12, -12]:  # This should be probably be a unit test...\n",
    "    print(shift1d(x, shift))"
   ]
  },
  {
   "cell_type": "markdown",
   "metadata": {
    "id": "A08Ip7VIrEbL"
   },
   "source": [
    "Looking good! Now we need to make sure this works for N-dimensional arrays.\n",
    "The trick here is to rely on swapaxes (it returns a view, cheap!) and the ellipsis notation.\n",
    "Let's have a go:"
   ]
  },
  {
   "cell_type": "code",
   "execution_count": 8,
   "metadata": {
    "colab": {
     "base_uri": "https://localhost:8080/"
    },
    "id": "XiNGPNUrrEbL",
    "outputId": "2d511cf8-4c95-46aa-ad07-d7c368042a9e"
   },
   "outputs": [
    {
     "name": "stdout",
     "output_type": "stream",
     "text": [
      "(2, 3, 9)\n"
     ]
    },
    {
     "data": {
      "text/plain": [
       "array([[[1., 2., 3., 4., 5., 6., 7., 8., 9.],\n",
       "        [1., 2., 3., 4., 5., 6., 7., 8., 9.],\n",
       "        [1., 2., 3., 4., 5., 6., 7., 8., 9.]],\n",
       "\n",
       "       [[1., 2., 3., 4., 5., 6., 7., 8., 9.],\n",
       "        [1., 2., 3., 4., 5., 6., 7., 8., 9.],\n",
       "        [1., 2., 3., 4., 5., 6., 7., 8., 9.]]])"
      ]
     },
     "execution_count": 8,
     "metadata": {},
     "output_type": "execute_result"
    }
   ],
   "source": [
    "x_3d = np.tile(x, (2, 3, 1))\n",
    "print(x_3d.shape)\n",
    "x_3d"
   ]
  },
  {
   "cell_type": "code",
   "execution_count": 9,
   "metadata": {
    "colab": {
     "base_uri": "https://localhost:8080/"
    },
    "id": "_U3B8sNLrEbM",
    "outputId": "d0b196a5-8ca6-498e-c47d-98951f39fef2"
   },
   "outputs": [
    {
     "data": {
      "text/plain": [
       "array([[[0., 0., 0., 0., 1., 2., 3., 4., 5.],\n",
       "        [0., 0., 0., 0., 1., 2., 3., 4., 5.],\n",
       "        [0., 0., 0., 0., 1., 2., 3., 4., 5.]],\n",
       "\n",
       "       [[0., 0., 0., 0., 1., 2., 3., 4., 5.],\n",
       "        [0., 0., 0., 0., 1., 2., 3., 4., 5.],\n",
       "        [0., 0., 0., 0., 1., 2., 3., 4., 5.]]])"
      ]
     },
     "execution_count": 9,
     "metadata": {},
     "output_type": "execute_result"
    }
   ],
   "source": [
    "shift = 4\n",
    "axis = -1  # Last axis\n",
    "\n",
    "x_3d_tmp = np.swapaxes(x_3d, axis, -1)  # It's view, chill\n",
    "x_3d_crop = x_3d_tmp[..., :-shift]  # Same as x_3d_tmp[:, :, :-shift] for 3D arrays\n",
    "\n",
    "pad_shape = list(x_3d.shape)\n",
    "pad_shape[-1] = abs(shift)\n",
    "pad = np.zeros(pad_shape)\n",
    "\n",
    "shifted = np.concatenate((pad, x_3d_crop), axis=-1)  # Beware, default is axis=0!\n",
    "shifted"
   ]
  },
  {
   "cell_type": "markdown",
   "metadata": {
    "id": "64_c_JHQrEbM"
   },
   "source": [
    "Packaging it:"
   ]
  },
  {
   "cell_type": "code",
   "execution_count": 10,
   "metadata": {
    "colab": {
     "base_uri": "https://localhost:8080/"
    },
    "id": "T44TpVOFrEbM",
    "outputId": "30b15ebb-44ac-49d3-f97f-e370413502a6"
   },
   "outputs": [
    {
     "name": "stdout",
     "output_type": "stream",
     "text": [
      "Shift = 1\n",
      "Axis = 0 :\n",
      "[[[0. 0. 0. 0. 0. 0. 0. 0. 0.]\n",
      "  [0. 0. 0. 0. 0. 0. 0. 0. 0.]\n",
      "  [0. 0. 0. 0. 0. 0. 0. 0. 0.]]\n",
      "\n",
      " [[1. 2. 3. 4. 5. 6. 7. 8. 9.]\n",
      "  [1. 2. 3. 4. 5. 6. 7. 8. 9.]\n",
      "  [1. 2. 3. 4. 5. 6. 7. 8. 9.]]]\n",
      "Axis = -1:\n",
      "[[[0. 1. 2. 3. 4. 5. 6. 7. 8.]\n",
      "  [0. 1. 2. 3. 4. 5. 6. 7. 8.]\n",
      "  [0. 1. 2. 3. 4. 5. 6. 7. 8.]]\n",
      "\n",
      " [[0. 1. 2. 3. 4. 5. 6. 7. 8.]\n",
      "  [0. 1. 2. 3. 4. 5. 6. 7. 8.]\n",
      "  [0. 1. 2. 3. 4. 5. 6. 7. 8.]]]\n",
      "\n",
      "Shift = 0\n",
      "Axis = 0 :\n",
      "[[[1. 2. 3. 4. 5. 6. 7. 8. 9.]\n",
      "  [1. 2. 3. 4. 5. 6. 7. 8. 9.]\n",
      "  [1. 2. 3. 4. 5. 6. 7. 8. 9.]]\n",
      "\n",
      " [[1. 2. 3. 4. 5. 6. 7. 8. 9.]\n",
      "  [1. 2. 3. 4. 5. 6. 7. 8. 9.]\n",
      "  [1. 2. 3. 4. 5. 6. 7. 8. 9.]]]\n",
      "Axis = -1:\n",
      "[[[1. 2. 3. 4. 5. 6. 7. 8. 9.]\n",
      "  [1. 2. 3. 4. 5. 6. 7. 8. 9.]\n",
      "  [1. 2. 3. 4. 5. 6. 7. 8. 9.]]\n",
      "\n",
      " [[1. 2. 3. 4. 5. 6. 7. 8. 9.]\n",
      "  [1. 2. 3. 4. 5. 6. 7. 8. 9.]\n",
      "  [1. 2. 3. 4. 5. 6. 7. 8. 9.]]]\n",
      "\n",
      "Shift = -2\n",
      "Axis = 0 :\n",
      "[[[0. 0. 0. 0. 0. 0. 0. 0. 0.]\n",
      "  [0. 0. 0. 0. 0. 0. 0. 0. 0.]\n",
      "  [0. 0. 0. 0. 0. 0. 0. 0. 0.]]\n",
      "\n",
      " [[0. 0. 0. 0. 0. 0. 0. 0. 0.]\n",
      "  [0. 0. 0. 0. 0. 0. 0. 0. 0.]\n",
      "  [0. 0. 0. 0. 0. 0. 0. 0. 0.]]]\n",
      "Axis = -1:\n",
      "[[[3. 4. 5. 6. 7. 8. 9. 0. 0.]\n",
      "  [3. 4. 5. 6. 7. 8. 9. 0. 0.]\n",
      "  [3. 4. 5. 6. 7. 8. 9. 0. 0.]]\n",
      "\n",
      " [[3. 4. 5. 6. 7. 8. 9. 0. 0.]\n",
      "  [3. 4. 5. 6. 7. 8. 9. 0. 0.]\n",
      "  [3. 4. 5. 6. 7. 8. 9. 0. 0.]]]\n",
      "\n"
     ]
    }
   ],
   "source": [
    "def shiftnd(x: npt.NDArray, shift: int, axis: int = -1):\n",
    "    if shift > x.shape[axis] or shift < -x.shape[axis]:\n",
    "        return np.zeros_like(x)\n",
    "    x = np.swapaxes(x, axis, -1)  # Relax, original x is unchanged\n",
    "    pad = np.zeros((*x.shape[:-1], abs(shift)))\n",
    "    if shift > 0:\n",
    "        out = np.concatenate((pad, x[..., :-shift]), axis=-1)\n",
    "    else:\n",
    "        out = np.concatenate((x[..., -shift:], pad), axis=-1)\n",
    "    return np.swapaxes(out, axis, -1)\n",
    "\n",
    "\n",
    "for shift in [1, 0, -2]:  # This should be definitely be a unit test...\n",
    "    print(f\"Shift = {shift}\")\n",
    "    print(\"Axis = 0 :\")\n",
    "    print(shiftnd(x_3d, shift, axis=0))\n",
    "    print(\"Axis = -1:\")\n",
    "    print(shiftnd(x_3d, shift, axis=-1))\n",
    "    print()"
   ]
  },
  {
   "cell_type": "markdown",
   "metadata": {
    "id": "nnMWEc-7rEbN"
   },
   "source": [
    "We're almost done. We figured out how to shift by an integer amount in either direction. To shift a fractional amount, we will linearly interpolate the result of shifting by the floor and ceil of the fractional shift! Let $L_\\delta$ represent the fractional shift operator by $\\delta$ shift, and let $S_\\delta$ represent the integer shift operator by $\\delta$. Let $w = \\delta - ⌊\\delta⌋$ represent the fractional amount of the shift.\n",
    "\n",
    "$$\n",
    "L_\\delta x \\equiv (1 - w) S_{⌊\\delta⌋}x + w S_{⌈\\delta⌉}\n",
    "$$"
   ]
  },
  {
   "cell_type": "code",
   "execution_count": 11,
   "metadata": {
    "colab": {
     "base_uri": "https://localhost:8080/"
    },
    "id": "4TCmU2vDrEbN",
    "outputId": "48fdcb86-0206-4505-8108-2ed6f552d148"
   },
   "outputs": [
    {
     "name": "stdout",
     "output_type": "stream",
     "text": [
      "[1. 2. 3. 4. 5. 6. 7. 8. 9.]\n",
      "[0.  0.  0.9 1.9 2.9 3.9 4.9 5.9 6.9]\n",
      "[0. 0. 0. 0. 0. 0. 0. 0. 1.]\n",
      "[0.  0.  0.  0.  0.  0.  0.  0.  0.1]\n",
      "[0. 0. 0. 0. 0. 0. 0. 0. 0.]\n"
     ]
    }
   ],
   "source": [
    "def shiftnd_linear(x: npt.NDArray, shift: float, axis: int = -1):\n",
    "    shift_floor = int(np.floor(shift))\n",
    "    w = shift - shift_floor\n",
    "    return (1 - w) * shiftnd(x, shift_floor, axis) + w * shiftnd(\n",
    "        x, shift_floor + 1, axis\n",
    "    )\n",
    "\n",
    "\n",
    "print(x)\n",
    "print(shiftnd_linear(x, 2.1))\n",
    "print(shiftnd_linear(x, 8))\n",
    "print(shiftnd_linear(x, 8.9))\n",
    "print(shiftnd_linear(x, 9))"
   ]
  },
  {
   "cell_type": "markdown",
   "metadata": {
    "id": "PsEHsV7KrEbO"
   },
   "source": [
    "## A Simple  `LinearOperator`\n",
    "\n",
    "In this section we will take what we learned about shifting and package that in a `LinearOperator` class.\n",
    "What follows is a fairly generic template that can serve as a basis for implementing a wide array of linear operators."
   ]
  },
  {
   "cell_type": "code",
   "execution_count": 12,
   "metadata": {
    "id": "8uaZorqtrEbO"
   },
   "outputs": [],
   "source": [
    "class LinearShift(pylops.LinearOperator):\n",
    "    \"\"\"LinearShift shifts an N-dimensional array by a single real value along a given axis.\n",
    "\n",
    "    Since we are responsible coders, this is the entirety of our very long\n",
    "    and detailed documentation for this class. At least we're annotating...\n",
    "    \"\"\"\n",
    "\n",
    "    def __init__(\n",
    "        self,\n",
    "        shift: float,\n",
    "        dims: Tuple[int, ...],\n",
    "        axis: int = -1,\n",
    "        dtype: npt.DTypeLike = np.float32,\n",
    "        name: str = \"L\",  # Not required but good practice since v2.0.0\n",
    "    ):\n",
    "        # We need to store these variables for computing the shifts\n",
    "        self.shift = shift\n",
    "        self.axis = axis\n",
    "\n",
    "        # Every operator needs a dtype and a shape. Since v2.0.0, we can instead give\n",
    "        # dims (model shape) *and* dimsd (data shape). `self.shape` is automatically\n",
    "        # inferred as (np.prod(dimsd), np.prod(dims)).\n",
    "        # Calling `super()` will also populate `self.clinear` (defaults to True) and\n",
    "        # `self.explicit` (defaults to False). See the latest documentation:\n",
    "        # https://pylops.readthedocs.io/en/latest/api/generated/pylops.LinearOperator.html\n",
    "        super().__init__(dtype=dtype, dims=dims, dimsd=dims, name=name)\n",
    "\n",
    "    def _matvec(self, x: npt.NDArray):\n",
    "        x = x.reshape(self.dims)\n",
    "        y = shiftnd_linear(x, shift=self.shift, axis=self.axis)\n",
    "        y = y.ravel()\n",
    "        return y"
   ]
  },
  {
   "cell_type": "markdown",
   "metadata": {
    "id": "fzMFZWBbrEbO"
   },
   "source": [
    " In the new version, we use the name of the operator to `describe` it: "
   ]
  },
  {
   "cell_type": "code",
   "execution_count": 13,
   "metadata": {
    "colab": {
     "base_uri": "https://localhost:8080/",
     "height": 57
    },
    "id": "TMIpJC6arEbO",
    "outputId": "18680c36-fd59-4466-e89f-ab8c4cab2135"
   },
   "outputs": [
    {
     "data": {
      "text/latex": [
       "$\\displaystyle L$"
      ],
      "text/plain": [
       "L"
      ]
     },
     "metadata": {},
     "output_type": "display_data"
    },
    {
     "name": "stdout",
     "output_type": "stream",
     "text": [
      "where: {'L': 'LinearShift'}\n"
     ]
    }
   ],
   "source": [
    "from pylops.utils.describe import describe\n",
    "\n",
    "\n",
    "LOp = LinearShift(0.5, dims=x_3d.shape)\n",
    "describe(LOp)"
   ]
  },
  {
   "cell_type": "code",
   "execution_count": 14,
   "metadata": {
    "colab": {
     "base_uri": "https://localhost:8080/"
    },
    "id": "uAde_-PYrEbP",
    "outputId": "1e0fd95b-4646-474f-cab9-46ee5085b7e8"
   },
   "outputs": [
    {
     "data": {
      "text/plain": [
       "array([[[0.5, 1.5, 2.5, 3.5, 4.5, 5.5, 6.5, 7.5, 8.5],\n",
       "        [0.5, 1.5, 2.5, 3.5, 4.5, 5.5, 6.5, 7.5, 8.5],\n",
       "        [0.5, 1.5, 2.5, 3.5, 4.5, 5.5, 6.5, 7.5, 8.5]],\n",
       "\n",
       "       [[0.5, 1.5, 2.5, 3.5, 4.5, 5.5, 6.5, 7.5, 8.5],\n",
       "        [0.5, 1.5, 2.5, 3.5, 4.5, 5.5, 6.5, 7.5, 8.5],\n",
       "        [0.5, 1.5, 2.5, 3.5, 4.5, 5.5, 6.5, 7.5, 8.5]]])"
      ]
     },
     "execution_count": 14,
     "metadata": {},
     "output_type": "execute_result"
    }
   ],
   "source": [
    "# Taking it for a spin\n",
    "shifted = (LOp @ x_3d.ravel()).reshape(LOp.dimsd)\n",
    "shifted"
   ]
  },
  {
   "cell_type": "markdown",
   "metadata": {
    "id": "d5M_097ErEbP"
   },
   "source": [
    "Great! But what if we try the following?"
   ]
  },
  {
   "cell_type": "code",
   "execution_count": 15,
   "metadata": {
    "colab": {
     "base_uri": "https://localhost:8080/"
    },
    "id": "fCvpbfmtrEbP",
    "outputId": "4fa02a2d-069f-4552-9343-68d00c2c68c2"
   },
   "outputs": [
    {
     "name": "stdout",
     "output_type": "stream",
     "text": [
      "Oops!\n"
     ]
    }
   ],
   "source": [
    "try:\n",
    "    LOp.T @ shifted.ravel()\n",
    "except AttributeError:\n",
    "    print(\"Oops!\")"
   ]
  },
  {
   "cell_type": "markdown",
   "metadata": {
    "id": "jz7P4udHrEbQ"
   },
   "source": [
    "This is because we need to define both the forward and the adjoint. The good news for us is that the adjoint should just be a negative shift."
   ]
  },
  {
   "cell_type": "code",
   "execution_count": 16,
   "metadata": {
    "colab": {
     "base_uri": "https://localhost:8080/"
    },
    "id": "-tk6FvWPrEbQ",
    "outputId": "00788517-30bb-45c5-bea5-5d69cea857f7"
   },
   "outputs": [
    {
     "data": {
      "text/plain": [
       "array([[[1.  , 2.  , 3.  , 4.  , 5.  , 6.  , 7.  , 8.  , 4.25],\n",
       "        [1.  , 2.  , 3.  , 4.  , 5.  , 6.  , 7.  , 8.  , 4.25],\n",
       "        [1.  , 2.  , 3.  , 4.  , 5.  , 6.  , 7.  , 8.  , 4.25]],\n",
       "\n",
       "       [[1.  , 2.  , 3.  , 4.  , 5.  , 6.  , 7.  , 8.  , 4.25],\n",
       "        [1.  , 2.  , 3.  , 4.  , 5.  , 6.  , 7.  , 8.  , 4.25],\n",
       "        [1.  , 2.  , 3.  , 4.  , 5.  , 6.  , 7.  , 8.  , 4.25]]])"
      ]
     },
     "execution_count": 16,
     "metadata": {},
     "output_type": "execute_result"
    }
   ],
   "source": [
    "class LinearShift(pylops.LinearOperator):\n",
    "    \"\"\"LinearShift shifts an N-dimensional array by a single real value along a given axis.\n",
    "\n",
    "    Since we are responsible coders, this is the entirety of our very long\n",
    "    and detailed documentation for this class. At least we're annotating...\n",
    "    \"\"\"\n",
    "\n",
    "    def __init__(\n",
    "        self,\n",
    "        shift: float,\n",
    "        dims: Tuple[int, ...],\n",
    "        axis: int = -1,\n",
    "        dtype: npt.DTypeLike = np.float32,\n",
    "        name: str = \"L\",  # Not required but good practice since v2.0.0\n",
    "    ):\n",
    "        # We need to store these variables for computing the shifts\n",
    "        self.shift = shift\n",
    "        self.axis = axis\n",
    "\n",
    "        # Every operator needs a dtype and a shape. Since v2.0.0, we can instead give\n",
    "        # dims (model shape) *and* dimsd (data shape). `self.shape` is automatically\n",
    "        # calculated as (np.prod(dimsd), np.prod(dims)).\n",
    "        # Calling `super()` will also populate `self.clinear` (defaults to True) and\n",
    "        # `self.explicit` (defaults to False). See the latest documentation:\n",
    "        # https://pylops.readthedocs.io/en/latest/api/generated/pylops.LinearOperator.html\n",
    "        super().__init__(dtype=dtype, dims=dims, dimsd=dims, name=name)\n",
    "\n",
    "    def _matvec(self, x: npt.NDArray):\n",
    "        x = x.reshape(self.dims)\n",
    "        y = shiftnd_linear(x, shift=self.shift, axis=self.axis)\n",
    "        y = y.ravel()\n",
    "        return y\n",
    "\n",
    "    def _rmatvec(self, y: npt.NDArray):\n",
    "        y = y.reshape(self.dimsd)\n",
    "        #                         negative shift!\n",
    "        x = shiftnd_linear(y, shift=-self.shift, axis=self.axis)\n",
    "        x = x.ravel()\n",
    "        return x\n",
    "\n",
    "\n",
    "# Taking it for a spin\n",
    "LOp = LinearShift(0.5, dims=x_3d.shape)\n",
    "shifted_back = (LOp.T @ shifted.ravel()).reshape(LOp.dimsd)\n",
    "shifted_back"
   ]
  },
  {
   "cell_type": "markdown",
   "metadata": {
    "id": "c5q8NwIxrEbQ"
   },
   "source": [
    "Are we done now? Nope! We need to ensure that the operations in `_matvec` and `_rmatvec` are actually transposes of each other. To do so, we can use the [`dottest`](https://pylops.readthedocs.io/en/latest/api/generated/pylops.utils.dottest.html) utility function."
   ]
  },
  {
   "cell_type": "code",
   "execution_count": 17,
   "metadata": {
    "colab": {
     "base_uri": "https://localhost:8080/"
    },
    "id": "Osnv0zh0rEbQ",
    "outputId": "9da28a64-eb74-463e-848a-6d947cba326e"
   },
   "outputs": [
    {
     "name": "stdout",
     "output_type": "stream",
     "text": [
      "Dot test passed, v^H(Opu)=-1.8444506555541245 - u^H(Op^Hv)=-1.844450655554124\n"
     ]
    },
    {
     "data": {
      "text/plain": [
       "True"
      ]
     },
     "execution_count": 17,
     "metadata": {},
     "output_type": "execute_result"
    }
   ],
   "source": [
    "from pylops.utils import dottest\n",
    "\n",
    "dottest(LOp, verb=True, raiseerror=True)"
   ]
  },
  {
   "cell_type": "markdown",
   "metadata": {
    "id": "9IAXekvmrEbQ"
   },
   "source": [
    "Since it passes the dot test, we're done!"
   ]
  },
  {
   "cell_type": "markdown",
   "metadata": {
    "id": "ts0N0wwlrEbR"
   },
   "source": [
    "Interestingly enough, we see saw that applying the adjoint in succession to the forward is not an inverse"
   ]
  },
  {
   "cell_type": "code",
   "execution_count": 18,
   "metadata": {
    "colab": {
     "base_uri": "https://localhost:8080/",
     "height": 57
    },
    "id": "biq89j4vrEbR",
    "outputId": "c6dbc86b-15e2-4134-f49d-3322a039fc1b"
   },
   "outputs": [
    {
     "data": {
      "text/latex": [
       "$\\displaystyle L^{T} L$"
      ],
      "text/plain": [
       "L.T*L"
      ]
     },
     "metadata": {},
     "output_type": "display_data"
    },
    {
     "name": "stdout",
     "output_type": "stream",
     "text": [
      "where: {'L': 'LinearShift'}\n"
     ]
    }
   ],
   "source": [
    "describe(LOp.T @ LOp)"
   ]
  },
  {
   "cell_type": "code",
   "execution_count": 19,
   "metadata": {
    "colab": {
     "base_uri": "https://localhost:8080/"
    },
    "id": "XGVXG1d8rEbR",
    "outputId": "ed0acd09-1de1-4df3-fc89-ae2644b3a7cf"
   },
   "outputs": [
    {
     "data": {
      "text/plain": [
       "False"
      ]
     },
     "execution_count": 19,
     "metadata": {},
     "output_type": "execute_result"
    }
   ],
   "source": [
    "shifted_back_adj = (LOp.T @ LOp @ x_3d.ravel()).reshape(x_3d.shape)\n",
    "np.allclose(shifted_back_adj, x_3d)"
   ]
  },
  {
   "cell_type": "code",
   "execution_count": 20,
   "metadata": {
    "colab": {
     "base_uri": "https://localhost:8080/",
     "height": 17,
     "referenced_widgets": [
      "17fe01e151c14d2cb7a7fb6c46d23a32"
     ]
    },
    "id": "6n93iNbBrEbR",
    "outputId": "a1c11263-e7dd-46cf-f57a-bab48a0d6388"
   },
   "outputs": [
    {
     "data": {
      "application/vnd.jupyter.widget-view+json": {
       "model_id": "17fe01e151c14d2cb7a7fb6c46d23a32",
       "version_major": 2,
       "version_minor": 0
      },
      "image/png": "[encoded data removed]",
      "text/html": [
       "\n",
       "            <div style=\"display: inline-block;\">\n",
       "                <div class=\"jupyter-widgets widget-label\" style=\"text-align: center;\">\n",
       "                    Figure\n",
       "                </div>\n",
       "                <img src='data:image/png;base64,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' width=432.0/>\n",
       "            </div>\n",
       "        "
      ],
      "text/plain": [
       "Canvas(toolbar=Toolbar(toolitems=[('Home', 'Reset original view', 'home', 'home'), ('Back', 'Back to previous …"
      ]
     },
     "metadata": {
      "application/vnd.jupyter.widget-view+json": {
       "colab": {
        "custom_widget_manager": {
         "url": "https://ssl.gstatic.com/colaboratory-static/widgets/colab-cdn-widget-manager/a8874ba6619b6106/manager.min.js"
        }
       }
      }
     },
     "output_type": "display_data"
    }
   ],
   "source": [
    "fig, ax = plt.subplots(figsize=(6, 3))\n",
    "ax.plot(x_3d[0, 0, :], label=r\"$x$\")\n",
    "ax.plot(shifted_back_adj[0, 0, :], \"--\", label=\"$L^T L x$\")\n",
    "ax.legend(loc=2)\n",
    "fig.tight_layout()"
   ]
  },
  {
   "cell_type": "markdown",
   "metadata": {
    "id": "3hY8ejvarEbR"
   },
   "source": [
    "Of course, when we have values at the edges and shift them out of the array we lose them. So in a way, the operator will never have a true inverse.\n",
    "But we can use solvers to aid us in filling this null space.\n",
    "In this case, the least-squares solution we get is the following:"
   ]
  },
  {
   "cell_type": "code",
   "execution_count": 21,
   "metadata": {
    "id": "myGas9kRrEbS"
   },
   "outputs": [],
   "source": [
    "shifted_back_lsqr = (LOp / shifted.ravel()).reshape(LOp.dimsd)"
   ]
  },
  {
   "cell_type": "code",
   "execution_count": 22,
   "metadata": {
    "colab": {
     "base_uri": "https://localhost:8080/",
     "height": 17,
     "referenced_widgets": [
      "5a0f1c5b6bb04e688b01e714ff9a4b79"
     ]
    },
    "id": "ZnUBXioGrEbS",
    "outputId": "b568c873-f90e-4e13-af5f-d857e968de2b"
   },
   "outputs": [
    {
     "data": {
      "application/vnd.jupyter.widget-view+json": {
       "model_id": "5a0f1c5b6bb04e688b01e714ff9a4b79",
       "version_major": 2,
       "version_minor": 0
      },
      "image/png": "[encoded data removed]",
      "text/html": [
       "\n",
       "            <div style=\"display: inline-block;\">\n",
       "                <div class=\"jupyter-widgets widget-label\" style=\"text-align: center;\">\n",
       "                    Figure\n",
       "                </div>\n",
       "                <img src='data:image/png;base64,iVBORw0KGgoAAAANSUhEUgAAAbAAAADYCAYAAACKnrapAAAAOXRFWHRTb2Z0d2FyZQBNYXRwbG90bGliIHZlcnNpb24zLjUuMSwgaHR0cHM6Ly9tYXRwbG90bGliLm9yZy/YYfK9AAAACXBIWXMAAAsTAAALEwEAmpwYAAAh00lEQVR4nO3deVxVdeL/8ddHQAHFBdxFBZfMXQRcCTFNLROndbTt1zZmTaalzUxN00zTLN9vqTW2215jNWVZauZSuWsIaIhCkrsoKqIiIshyP78/4juPVkGEe+69vJ+Ph48H994j5+3Cfd/P+XzOOcZai4iIiLep53QAERGR6lCBiYiIV1KBiYiIV1KBiYiIV1KBiYiIV1KBiYiIV1KBiYiIV1KBiYiIV1KBiYiIV1KBiYiIV/Kv7R00b97cRkRE1PZuRETEB6Smph6z1raoyra1XmARERGkpKTU9m5ERMQHGGP2VXVbHUIUERGvpAITERGvpAITERGvVOtzYD+ntLSU7OxsiouLndi92wUGBhIeHk5AQIDTUUREfIYjBZadnU1ISAgREREYY5yI4DbWWvLy8sjOziYyMtLpOCIitaKkrJz6/n5u3acjhxCLi4sJCwvz+fICMMYQFhZWZ0abIlK3pCct4/3Zkxk8aznWWrfu25ERGFAnyuv/1KU/q4j4vrLSUjYte4OQLS/R2/Ut4TaYb3tdR0mZiwYB7huFOVZgIiLiXQqKS1m4YgmXpE5niMlln23J6q4ziE68lz+GNHN7HhWYiIic08F9WXy4Lpk/bQnAnj3FilZtORT9R2Ivu4mO/s4tTqvTBTZ8+HAefvhhLrvsMh555BHy8/N55plnnI4lIuIRMlJXcuLLpxhYuJZLyttyeY+XeODSSxkQcafT0QAPKLBp81P4OvtEjX7PfuHNePramEq3e+yxx3j00Uc5evQoW7ZsYeHChTWaQ0TE27hclg0rP6LRxpn0K8/glA1kXYtr6DJ2Bu9FXOx0vB9wvMCcFB8fj7WW2bNns2rVKvz83LsEVETEUxQW5DMvZS9PrtnHoFOr+WfIEVZ1uo/+ifeT0DTU6Xg/y/ECq8pIqbakp6eTk5NDWFgYISEhjuUQEXHK4ezdfLN4Fn0OL+DbwlGEtpxA4tiptO47k/CA+k7HO6c6eympnJwcbrzxRj755BMaNWrE0qVLnY4kIuI2O9LWs27W1YS+EkP84XlkBfXhpmtv5KsZo7kupjP+Hl5e4AEjMCecOXOGq6++mlmzZtG9e3f+9Kc/8fvf/54xY8Y4HU1EpNa4XJalmYeY/eU3/O7wwwwJ2MPGsEQiLp/OoC69nY533upkgQUHB7Nx48b/Po6Pj//BYxERX1JcVMimRc/TMvMt7sqbhCukHXsG/pUBcf0YFtrK6XjVVicLTESkLsg9coBtC2fT6+AHxJsCvjEdeWlcJ0YOH+P26xbWBhWYiIiPycjJ54XPU/jHrokMN2fZ1CCWg3FT6Dt0HBfX852lDyowEREfYF0utqxZwDfJS7lxXwKBAX7EdruHuOHjGdAtyul4tUIFJiLixc4WnSF5yVxabH+V/nY/4bYxT465lVsTomneKNDpeLVKBSYi4oXyTp9l0dIFjNn2e+LMSb4lnLU9/0zs2LuYEdTQ6XhuoQITEfEie7O+5oMNafw5rQENygro1rYrBwfdRf9h19DVh+a3qqJaBWaMuR+4E7BAOnCbtVZ3bBQRqQXW5WLrxk8pXjuH2OJk4ssjmBjzIvcPv5hebX/jdDzHnHeBGWPaAfcBPay1RcaY94EJwBs1nE1EpE4rLXexftm7tEyZSV+7mzzbiDVtb6HnuOm82qaj0/EcV91DiP5AkDGmFAgGDtVcJGe9/vrrJCUlsWzZMkaPHk1UVBR33XWX07FEpA7JP57LG8n7mbVuPyOLNvBISBFruj1E7Lh7SGjY2Ol4HuO8C8xae9AYMxPYDxQBy621y2s8mRu89NJLbN26leeee+6/z912222MHz+e0tJSXnzxxV/cTkSkph3YncHuJTPpf2wxuwvH0aX9RK4Z9iARvebQSXfL+InqHEJsBowHIoGTwAfGmJustf/+3jaTgEkAHTp0qJmktSA9PZ3evX96/a/U1FSio6Mr3U5EpCakJy3j9Op/MeDMBlpjSGqUwOSrbqd736FOR/No1VmyMhLYY63NtdaWAh8BQ76/gbV2rrU2xlob06JFi5rIWSu2bt1apQL7pe2GDx/OihUrAHjkkUeYMmVK7YUVEZ9SXl7O/C37GTJrGXkL/0j3M1tY02oix+5MIW7GApVXFVRnDmw/MMgYE8x3hxBHACk1mspNtm3bRq9evX7yfFpaGlOnTq10O93RWUTOV0H+cTYvmkP4zveYcvw+gkPbsf+SJ4gZGsXwkGZOx/Mq1ZkDSzLGzAc2A2XAFmDuBaV4Y+xPn+v5K4j9DZSegXnX/fT1fjdAvxvhTB68f8sPX7v100p3eeDAAUJCQmjSpMlPXnv33XertJ3u6CwiVXVofxZZi2cSdXQhw0wRaf4X8/Z1FzN8aAJ+dez8rZpSrVWI1to/A3+u4SxuVdV5rXNtpzs6i0hlUvfn8dLyJOZk30wcLjYFx9Fk+DT6xo5wOprX84wrcZxrxBQQfO7Xg8OqNOL6sV+a16rqdt+/o/N9993H0qVLdUNMEQHAVV5O8ufzyNqykluyRxIS6M+l3R8gbsQ1DIm42Ol4PsMzCswB6enpLF269L+HC9u0afOzN7X8ue2++OIL3dFZRH6isCCflMXP0iHrLQZymLa2OXPG/Zb/F9+XxkEBTsfzOcZaW6s7iImJsSkpP1zjkZmZSffu3Wt1v56mLv6ZReqKnPwiPl38Lld/+wihppBt9bpwKuouBoy+Ff+A+k7H8yrGmFRrbUxVtq2zIzARkQu1I20972/awePbgmhiS+neLoqQ+HvpPXA0Rgszap0KTETkPLjKy9m88j/US3qB/mVbGVZ2EblxLzA1oRudW+iyc+6kAhMRqYLi0nLWLX6VyK1PEcMhcmxTVnW8m37j7yc+tJXT8eokFZiIyDnkHjnA3KQc/rVhP1eXpTKtcQDre/+d2CvuIKFBkNPx6jTHCsxaizHGqd27VW0vlBGRmrczI5lDy2YyIP9zDp6+hoFdbuDXCY/S7aI2mt/yEI4UWGBgIHl5eYSFhfl8iVlrycvLIzAw0OkoIlIJ63KxZc0Cyjc+S2zJZtrZADY1Hc30CXfT+eIop+PJjzhSYOHh4WRnZ5Obm+vE7t0uMDCQ8PBwp2OIyC84W1LKe5sPMHtlJs8X/o2L/I+xKvxOeic+QHzLdk7Hk1/gSIEFBAQQGRnpxK5FRP7reO5hti6aReT+BczIm0Gr1uEcvHQO0YP7kxDU0Ol4Ugkt4hCROmdvVhr7PnuSmBPLSDAlpNTvx4Kb+zA0drDPT2v4EhWYiNQJ1lrW7jrKa8s38MrR22lDPTY1HkHrUdOJ6TXQ6XhSDSowEfFppSVn2fTZq+xI/4o7Do8mrGEDPu7xMPGjrueSNh2djicXQAUmIj4p/3guWxY9Tdc97zDUHKcVbXn5uge5YXB3guvrrc8X6F9RRHzKnmOnWb7oTW7Y9xgJ5iybA3pxMPZxYkZMpItuOutTVGAi4hPSk5bzTup+nsgMpnU9P3q0j6PFiGn0j4p3OprUEhWYiHitstJSkpe/SaPNL9HblcXwst7Ykc8wZVg32jWd7HQ8qWUqMBHxOgXFpaz/+Dl6fPMsg00u+2xLVnedwZDEexkV0szpeOImKjAR8RqH9mfxTHIez288wC1so23TUA5F/5HYy26io7/ueFzXqMBExONlpK7ixJezGVi4luOnJzKmx0RuGv4P+kS2dDqaOEgFJiIeyVXuInnF2zRIeZF+5RmcsoGsa3ENj9w6lfYR3ZyOJx5ABSYiHqWw6CxvJu/jqZWZvFM6k+b+hazqdB9RidNIaBrmdDzxICowEfEIRw7tJWPhTLrmfMojxx+iS4cO5Ax+maiB/QkPqO90PPFAKjARcdSOrRvIXTGLAQUrGYaLTcGDWHZ1DDF9onRhXTknFZiIuJ3LZVmWeYh5K9bw7/zJtLMN2BA6jsgrZjCoS2+n44mXUIGJiNsUFxWSvOh5vvkmjUlHL6dtkyAW9nqM+NETSQht5XQ88TIqMBGpdblHDrD9k1n0PDSfS0wBoaYT8256lGtjOlPfX9cnlOpRgYlIrcnIyWfVope5/dA/STBlbGoQQ3bcFPoNTaRnvXpOxxMvpwITkRplXS42r/2Yf3+dy9PfNqJT/Yb06jCa8NHTGdA92ul44kNUYCJSI84WF5H86Uu02P4q0XY/h8qjCR37LybHdaVFyN1OxxMfVK0CM8Y0BV4BegEWuN1au7EGc4mIl8g7fZakj2bSf/dc4sxJviWctT0f5bKxkxkX1NDpeOLDqjsC+xew1Fp7rTGmPhBcg5lExAvszUrjqdQCXt6UzWT/XbRsFkH2oN8SnXAtXTW/JW5w3gVmjGkCxAO3AlhrS4CSmo0lIp7Iulxs3biEorVzGFC8icIzNzMh+gZuS5hJ7/BQp+NJHVOdEVgkkAu8bozpC6QCU621hTWaTEQ8RmlZGcmfvkyTtLn0tbvJs41Y3fYW/jFuOi3bdHQ6ntRR1Rnn+wP9gRestVFAIfCH729gjJlkjEkxxqTk5ubWQEwRccLJgkJmfp5B58cWEpzyLMH2DGu6PUTQg5kMnzRH5SWOqs4ILBvIttYmVTyez48KzFo7F5gLEBMTYy8ooYi43YHdGez+9EkuOvYFfzv+J/p3jSR30Nv0ie5LpJ9OPBbPcN4FZq09bIw5YIzpZq3dAYwAMmo+moi4W3rSck6vfpoBZzbQGkNSyDDWThxK74t7OB1N5CequwpxCjCvYgXibuC2moskIu5U7nKxIC2b+Z9/wXtnpnHSBrO21QQuuvJB4tp3djqeyC+qVoFZa78GYmo2ioi4U0H+cTYvmkPmzizuPjaWTs1DWdLzf4gfM4GEkGZOxxOplK7EIVLHHNqfRdbimUQdXcgwU0Qj/558eMcQxvftiJ/O3xIvogITqSNS9+fx1cLnmXRsNq2wJAXH0Xj4NKJjR6IrFIo3UoGJ+DBXeTnJn8/jtfTTzN3bhO5BYfTseDVdxs5gSGR3p+OJXBAVmIgPKizIJ2Xxc3TIepOBHCbbNYSLrprNnUM60yToHqfjidQIFZiID8nJL2LzB48zOPsNhplCttfrzIZ+/8v4MbfjH1Df6XgiNUoFJuIDdmzdyBNfl/F2ajb3NzhIWFgfguPvo/fAMRgtzBAfpQIT8VKuchepq96n3lfPEV22FdeZO7hr6ER+k/AMXVo2djqeSK1TgYl4meKzZ9m08BnaZrxGLAfJsU1Z1XEys8fdT7PmrZ2OJ+I2KjARL3H0RD4vbNzHc2t2sDLgFcoC6rOu998YcMWdJDQIcjqeiNupwEQ83K7MFA4tnUmXk+uZefwvDOvRiRNDP2Ror+5crPktqcNUYCIeyLpcbFn7CeUb5hBbspm2NoDkZqPYfGsCXSN1fUIRUIGJeJSSsnLeTdnHoi+WMb/sD+TaxqwKv5NeiQ8Q37Kd0/FEPIoKTMQDnDiWQ9rC2Wzbk82UE1fSs017VvR7iktG/ZqEoIZOxxPxSCowEQftzUpj32dPEntiKQmmlAZBsSybmMBl3dtijHE6nohHU4GJuJm1lrW7jpK++F/cffJ52uBHcuNLaTVqOoN7DXI6nojXUIGJuElpyVmSP3uNlzLLeSu7Gf0btadn5M30SJxBXJuOTscT8ToqMJFaln88ly2LnqbrnncYYo6zn0sZMuEJbh4QSXB9/QiKVJd+ekRqyZ5jp8n44BHij7xDgjnL5oBeHIx9nOtHTKSen5/T8US8ngpMpIalb/qcv231Z37aIX4fdIKmLYcQOuIB+kfFOx1NxKeowERqQHlZKZuWvUWjzS/S25VFUNFkHhw5gXvif0V4s2Cn44n4JBWYyAUoKCwkdcFMOu18m8Eml322Jau7TufZxCk0CmnmdDwRn6YCE6mG7KO5zNlwgJfXZ5EU+G9ONgjlUP8/EjvqJjr6BzgdT6ROUIGJnIfMzas4/sVTdD69meePP87YqM6cGvoZMd26OB1NpM5RgYlUwlVeTvLn82iQ/AL9yjM4ZQPZ3GIcGZNG0qFduNPxROosFZjILzhTUsabSbv54stPmc9fyLZhrOp0H1GJU0lo2tzpeCJ1ngpM5EeOHNpL5sInSTtwjGn5icR27M7qXs8zdOR1hAfUdzqeiFRQgYlUyNq6nqMrZjOgYCXxuKjXJJ61t41kaOeWurCuiAdSgUmdZq1lacYh9ix5knvOvE47W5+NoVcSccWDxHfp7XQ8ETkHFZjUScVFhSQvep45OwKZfySUuCYX0aPLZPol3s+wsNZOxxORKlCBSZ2Se+QA2xfOpufBD7jEFLDX7wrG3/IPru/fgfr+uj6hiDdRgUmdkHk4n73vP8jw4x+SYMrY1CCW7Lh7uWloIqZePafjiUg1qMDEZ1mXi83rF/Po1oYsyTzMnxoV07D1KMJHz2BA92in44nIBapWgRlj/IAU4KC19sqajSRyYUrOFpG0eC4ttr9KtN1HWMkU/jr219x9yTU0bxTodDwRqSHVHYFNBTKBxjWYReSCHM/PJ+3Dv9N9/3+4xJzkW8JZ2/NR5o6dTGBQQ6fjiUgNO+8CM8aEA2OBvwMP1HgikfO0M/sQT63P5q2knXzd6EOyAyPIHvRbohOupavmt0R8VnVGYE8DvwNCajaKSNVZl4utG5dQvHYOHYoyeTv/71wX05XioSuJiezgdDwRcYPzKjBjzJXAUWttqjEm4RzbTQImAXTooDcTqTmlJWdJ/uw1mqbNpa/dTZ5tRHrbq/l2yuW0at7C6Xgi4kbGWlv1jY35J3AzUAYE8t0c2EfW2pt+6ffExMTYlJSUC80pdVx+UQkvr9/JV6sXMt//n+yhNQe63UbMuHsIbqipWBFfYYxJtdbGVGXb8xqBWWsfAh6q2EkCMONc5SVyoQ7szmD3kpkkHzrDg6fGMbxrNBt7vcrAhKuI9NOJxyJ1mc4DE4+0bdMKClY9zYAz62mNoTxsNKl3X07/9qFORxMRD1HtArPWrgJW1VgSqfPKXS4+Tssmd+nfmVzyHidtMGtbTaDb2Blc2kF3PBaRH9IITBxXkH+c1EXPMPPbpnya15zLmvele5d2RI+fQkJIM6fjiYiHUoGJY3L272TH4ieIOrqQBFPE7sBrueM3fyGxdzv8dP6WiFRCBSZul7o/j7wP7mN4wRJaYkkKjqPx8GncHjvS6Wgi4kVUYOIWrvJykr78gIe2NWP1rmP8tbEfDdpeTeexMxgS2d3peCLihVRgUqsKT58iZdGzdMh6k8Ecpn35dGZddR13DLmOJkH1nY4nIl5MBSa14vCxY2TO/wt9D3/EMFPI9nqd2dDvf3l9zO34B6i4ROTCqcCkRm3fvZcn1+fwfsoutjdZQlbDPgTH30fvgWN040gRqVEqMLlg1uUi5cv/UC/peVqf3cfHp//BHUO7YeM2MqhtK6fjiYiPUoFJtRUXFZK86HnaZL5OLAfJsU3ZETmRPVePpVkTnb8lIrVLBSbnLbegmOfXZpG+7mPmN5jFDtOR9b3/RuwVd5LQIMjpeCJSR6jApMp2ZaZwcOlMNh6x/OV0Ilf2vITNfaKJGnw53TS/JSJupgKTc7IuF1vWfkL5hmeILUmlrQ2guO14Mq+/kotbN3E6nojUYSow+VklZeW8l7qP0uV/4Q7XJ+TaxqwKv5Ne4+5nVKtwp+OJiKjA5IdOHDtM2sLZPL6rHV/mN2d868Fc1KMvsVdOJiGoodPxRET+SwUmAOzNSmPfZ08Sc2IZCaaEnU1v4Xc3Xseo7m0wxjgdT0TkJ1RgdZi1lrW7jlL+0V0MO7OKNviR3Hg4LS+bzp29BzsdT0TknFRgdVBpyVk2rniX6dtaknLgBP9o0gTT4WZ6JM4grk1Hp+OJiFSJCqwOOXniGF8vfIque94h3hynGw9z54SruXnArwmur/8KIuJd9K5VB+w9eIi9Hz1CdN5iEsxZtgT05GDsX3lrxA3U8/NzOp6ISLWowHxYcsY3PLExl0Vf7+GbZitJazyEsBEPEBUV73Q0EZELpgLzMeVlpWxa9haNNr9Iq9JcVhX9k2kje+M/JJW4FqFOxxMRqTEqMB9RkH+c1EXP0Gnn2ww2uey3Ldhz0e3suWocjRo2cjqeiEiNU4F5uewTZ5iz+ht2f7WA+UFz2OrXjZyYh4m57GY6+Ac4HU9EpNaowLxU5pY15H0xm9W5gcw6k8h1/Uayre9w+sRc6nQ0ERG3UIF5EVd5Ocmfz6NB8gv0K8/glA2kMOJ6dl2fSESYDhOKSN2iAvMCZ0rKeDNpN0FfPsKtLOOgDWV15BT6jZ/G6KbNnY4nIuIIFZgHO3JoH5mLnuTh3V3YWNiCie1HcFGPSxkw5nbaBdR3Op6IiKNUYB4oK30jR5bPYkDBSuIp59Y2d/HEuBsY2qmFLqwrIlJBBeYhrLUsyzhEo09uI640iXa2Pl+FjiXiigeZ1KW30/FERDyOCsxhxUWFrFv6NlO3tSPjyCmeaNaGsk6T6Tf+AYaFtnI6noiIx1KBOeTYkWy2LZxFz4MfMNIUEB3wVx66JZHr+0+gvr+uTygiUpnzLjBjTHvgLaAVYIG51tp/1XQwX5W1dy+HF/yBAfkrSDBlbGoQQ/bQe3kzbjymXj2n44mIeI3qjMDKgOnW2s3GmBAg1RizwlqbUcPZfIZ1uVi3NZ3/2XicL7bvY0fYJjY1G0346OkM6B7tdDwREa903gVmrc0Bciq+LjDGZALtABXYj5ScLWLTp3Npse1V2pWdZnPp//LHsdEED04jvmmI0/FERLzaBc2BGWMigCggqUbS+IgTxw6TtnA2F+//D3HmJN8SzsE+v2XPleMIDAx0Op6IiE+odoEZYxoBHwLTrLWnfvTaJGASQIcOHS4ooDf59kg+T6/awbHUj/hPw5dIrd+X7EFPEp1wLV01vyUiUqOqVWDGmAC+K6951tqPfvy6tXYuMBcgJibGXlBCD2ddLrZ+9RlFa+aw7EQor5xN5KboK8nq9yuiew9yOp6IiM+qzipEA7wKZFprZ9d8JO9QWnKW5M9eo+nWufR17SbPNuJk15vZd/2vaN04yOl4IiI+rzojsKHAzUC6MebriucettYuqbFUHiy/qIRXNuyizZrfc0O91eyhNWu6/YGYcb9lTMPGTscTEakzqrMKcR1Q5y7Il70nk12fPsn9+/qypag5d0SOo0vv64gZcQORfjrxWETE3XQljkps2/Q5BaueYsCZ9bTCMLlje2LG30z/9qFORxMRqdNUYD+j3OXi468P0GHJjcSWp5Nvg1jbagLdxs5gUocuTscTERFUYD9QkH+c9Uvf5p6MCPbknWZ2866c6TqK6MQpJIQ0czqeiIh8jwoMyNm/kx2LZxJ19GPGmCLiGz3BzKsuZ3yfifjp/C0REY9Upwts644dFCz8HQMK19ASS1JwHE2GT+WN2MucjiYiIpWocwXmKi/ni+RU/v5VPsk7D7A9LJ31La6hy9jpDIns7nQ8ERGpojpTYGcKT5Gy8FnaZ71JxzIXe/gf/nrVYJoN2k5EQ514LCLibXy+wI4c2kfmoifpk/MR8aaQDNOJk7GT2Hl5IgEBAU7HExGRavLZAtuancdTK7Mo3voh8xr+m02BAwkeNpXeA8foxpEiIj7ApwrMulykrvoAs/E5Ps5vz/tl47hj4LUciL6FQV36OB1PRERqkE8UWHFRIcmLX6BNxmvEcJAc25ShvUZx/zVXEdqwgdPxRESkFnh1geUWFPPCum/psXEG1/p9xTemI+t6P86AK37DmAZamCEi4su8ssB2ZaZwcNksJh8YQubZUO696Ho695tMv7jxXKz5LRGROsFrCsy6XHy97hPK1j9DbEkqbW0A93frR1ziLXRv3cTpeCIi4mZeUWCfpO0l8pNriLI7ybWNWRV+B73GPcBvWoU7HU1ERBziFQW2O6+IA/TlZI8bGHDlZBKCGjodSUREHOYVBXbvsG74D38VY+rcfTRFROQXeEWBBfhpYYaIiPyQmkFERLySCkxERLySCkxERLySCkxERLySCkxERLySsdbW7g6MyQX21cC3ag4cq4Hv407K7D7emFuZ3UOZ3aOmMne01raoyoa1XmA1xRiTYq2NcTrH+VBm9/HG3MrsHsrsHk5k1iFEERHxSiowERHxSt5UYHOdDlANyuw+3phbmd1Dmd3D7Zm9Zg5MRETk+7xpBCYiIvJfXlFgxpgxxpgdxpidxpg/OJ2nMsaY14wxR40x25zOUlXGmPbGmJXGmAxjzHZjzFSnM1XGGBNojNlkjEmryPyY05mqyhjjZ4zZYoxZ7HSWqjDG7DXGpBtjvjbGpDidpyqMMU2NMfONMd8YYzKNMYOdzlQZY0y3ir/j//t1yhgzzelclTHG3F/xM7jNGPOuMSbQLfv19EOIxhg/IAu4DMgGkoGJ1toMR4OdgzEmHjgNvGWt7eV0nqowxrQB2lhrNxtjQoBU4Fce/vdsgIbW2tPGmABgHTDVWvuVw9EqZYx5AIgBGltrr3Q6T2WMMXuBGGut15ybZIx5E1hrrX3FGFMfCLbWnnQ4VpVVvPcdBAZaa2viXNpaYYxpx3c/ez2stUXGmPeBJdbaN2p7394wAhsA7LTW7rbWlgDvAeMdznRO1to1wHGnc5wPa22OtXZzxdcFQCbQztlU52a/c7riYUDFL8/+RAYYY8KBscArTmfxVcaYJkA88CqAtbbEm8qrwghglyeX1/f4A0HGGH8gGDjkjp16Q4G1Aw5873E2Hv7G6u2MMRFAFJDkcJRKVRyK+xo4Cqyw1np8ZuBp4HeAy+Ec58MCy40xqcaYSU6HqYJIIBd4veJQ7SvGGG+7lfsE4F2nQ1TGWnsQmAnsB3KAfGvtcnfs2xsKTNzIGNMI+BCYZq095XSeylhry621/YBwYIAxxqMP2RpjrgSOWmtTnc5ynuKstf2By4HfVhwm92T+QH/gBWttFFAIePz8+f+pOOSZCHzgdJbKGGOa8d1RsUigLdDQGHOTO/btDQV2EGj/vcfhFc9JDauYR/oQmGet/cjpPOej4vDQSmCMw1EqMxRIrJhTeg+41Bjzb2cjVa7iUzbW2qPAAr47tO/JsoHs743I5/NdoXmLy4HN1tojTgepgpHAHmttrrW2FPgIGOKOHXtDgSUDXY0xkRWfSiYACx3O5HMqFkS8CmRaa2c7nacqjDEtjDFNK74O4ruFPt84GqoS1tqHrLXh1toIvvu//KW11i2fVqvLGNOwYmEPFYfhRgEevcLWWnsYOGCM6Vbx1AjAYxck/YyJeMHhwwr7gUHGmOCK95ERfDeHXuv83bGTC2GtLTPG3AssA/yA16y12x2OdU7GmHeBBKC5MSYb+LO19lVnU1VqKHAzkF4xpwTwsLV2iXORKtUGeLNitVY94H1rrVcsS/cyrYAF37034Q+8Y61d6mykKpkCzKv44LsbuM3hPFVS8SHhMuAup7NUhbU2yRgzH9gMlAFbcNNVOTx+Gb2IiMjP8YZDiCIiIj+hAhMREa+kAhMREa+kAhMREa+kAhMREa+kAhMREa+kAhMREa+kAhMREa+kAhMREa+kAhMREa+kAhMREa+kAhMREa/0/wGjEiu2zIbEMgAAAABJRU5ErkJggg==' width=432.0/>\n",
       "            </div>\n",
       "        "
      ],
      "text/plain": [
       "Canvas(toolbar=Toolbar(toolitems=[('Home', 'Reset original view', 'home', 'home'), ('Back', 'Back to previous …"
      ]
     },
     "metadata": {
      "application/vnd.jupyter.widget-view+json": {
       "colab": {
        "custom_widget_manager": {
         "url": "https://ssl.gstatic.com/colaboratory-static/widgets/colab-cdn-widget-manager/a8874ba6619b6106/manager.min.js"
        }
       }
      }
     },
     "output_type": "display_data"
    }
   ],
   "source": [
    "fig, ax = plt.subplots(figsize=(6, 3))\n",
    "ax.plot(x_3d[0, 0, :], label=r\"$x$\")\n",
    "ax.plot(shifted_back_lsqr[0, 0, :], \"--\", label=\"$L^T L x$\")\n",
    "ax.legend(loc=2)\n",
    "fig.tight_layout()"
   ]
  },
  {
   "cell_type": "markdown",
   "metadata": {
    "id": "31eUxyhJrEbS"
   },
   "source": [
    "Pretty good, huh?\n",
    "\n",
    "Ok, but now let's try a harder one."
   ]
  },
  {
   "cell_type": "code",
   "execution_count": 23,
   "metadata": {
    "id": "nA6zJbm4rEbS"
   },
   "outputs": [],
   "source": [
    "dims = (20,)\n",
    "\n",
    "LOp1D = LinearShift(5.9, dims=dims)\n",
    "\n",
    "x_noise = np.random.uniform(low=1, high=10, size=dims)  # Sample away from 0-mean\n",
    "\n",
    "shifted_noise = LOp1D @ x_noise\n",
    "\n",
    "shifted_back_noise_adj = LOp1D.T @ LOp1D @ x_noise\n",
    "\n",
    "shifted_back_noise_lsqr = LOp1D / shifted_noise"
   ]
  },
  {
   "cell_type": "code",
   "execution_count": 24,
   "metadata": {
    "colab": {
     "base_uri": "https://localhost:8080/",
     "height": 17,
     "referenced_widgets": [
      "9514404cd5354755a56f90ecf5e03d9a"
     ]
    },
    "id": "xq1QrsJIrEbS",
    "outputId": "0856609f-87af-459d-9430-bc0513a8900b"
   },
   "outputs": [
    {
     "data": {
      "application/vnd.jupyter.widget-view+json": {
       "model_id": "9514404cd5354755a56f90ecf5e03d9a",
       "version_major": 2,
       "version_minor": 0
      },
      "image/png": "[encoded data removed]",
      "text/html": [
       "\n",
       "            <div style=\"display: inline-block;\">\n",
       "                <div class=\"jupyter-widgets widget-label\" style=\"text-align: center;\">\n",
       "                    Figure\n",
       "                </div>\n",
       "                <img src='data:image/png;base64,iVBORw0KGgoAAAANSUhEUgAAAbAAAADYCAYAAACKnrapAAAAOXRFWHRTb2Z0d2FyZQBNYXRwbG90bGliIHZlcnNpb24zLjUuMSwgaHR0cHM6Ly9tYXRwbG90bGliLm9yZy/YYfK9AAAACXBIWXMAAAsTAAALEwEAmpwYAABU/0lEQVR4nO3dd3hUVfrA8e+ZTJJJ741USMgESKGD9CICiuKqWNZVFxu4q2v9WXZdu6uuiu5aYde+YG+oBEGk954QQiohhIQA6b3N+f0xGQyQQMq0wPk8Tx6SuXfufRmGvHPPfc97hJQSRVEUReltNLYOQFEURVG6QyUwRVEUpVdSCUxRFEXplVQCUxRFUXollcAURVGUXkklMEVRFKVXUglMURRF6ZVUAlMURVF6JZXAFEVRlF5JJTBFURSlV9La6sT+/v4yKirKVqdXFEVR7NDOnTtPSCkDOrOvzRJYVFQUO3bssNXpFUVRFDskhDjU2X3VEKKiKIrSK6kEpiiKovRKXU5gQoj3hRDHhBD72jzmK4RYKYTIav3Tx7xhKoqiKMqpunMP7EPgTeDjNo89CqySUr4ohHi09edHunrgpqYmCgoKqK+v70ZYvY9OpyMsLAxHR0dbh6IoitLrdDmBSSnXCSGiTnt4NjCp9fuPgDV0I4EVFBTg4eFBVFQUQoiuPr1XkVJSUlJCQUEBffv2tXU4iqIovY657oEFSSmLWr8/CgR15yD19fX4+fmd98kLQAiBn5/fBXO1qShnVbgbVj0DdrRCfHl5ORMnTmTLli22DkXpgNmLOKSUEmj3XSiEuFMIsUMIseP48ePtPv9CSF4mF9LfVVHOaundsOFVMDTbOpKTFi5cyLp160hOTrZ1KEoHzJXAioUQIQCtfx5rbycp5SIp5XAp5fCAgE7NU1MU5ULgEQwhSeBgH/eDGxsb+de//gVARkaGjaNROmKuBLYUuKX1+1uA7810XEVRLgSlueAVDk11to4EgE8//ZSioiL8/PxUArNj3Smj/xTYDOiFEAVCiNuAF4FpQogs4OLWn3utyZMns3LlSgAef/xx7rnnHhtHpCjnsZYmYwI78CNsW2jraJBS8uqrrxIfH8+NN95IZmYm0o7uzSm/6U4V4g0dbJraw1hOcd9997Fnzx5zHpLBgwfz+uuvn3O/p59+mieeeIJjx46xe/duli5datY4FEVpo7oYHN2gqQbK8mwdDStXriQ1NZUPP/yQmpoaamtrOXLkCGFhYbYOTTmN6sTRjgkTJiClZMGCBXz22Wc4ODjYOiRFOX95hcFjRyA4Aco73QbPYl555RVCQkK44YYb0Ov1gLoPZq9s1sz3XDpzpWQpqampJ8e/PTw8bBaHolwwhADfaDiaatMw9u7dy8qVK3nhhRdwcnI6JYFNnWrWQSbFDNQV2GmKioq48cYb+f7773F3d2f58uW2DklRzm9b34Vl/wfekVBxGAwtNgtlwYIFuLm5MW/ePABCQ0NxdXUlMzPTZjEpHVMJrI3a2lquuuoqXn31VQYMGMDf//53nn76aVuHpSjnt+xf4PAWiJ0Okx4DQ5NNwigoKGDJkiXcfvvt+PgY27kKIYiNjVVDiHbKbocQbcHV1ZXNmzef/HnChAmn/KwoigWU5hrvf0WONX7ZyBtvvIHBYODee+895XG9Xs+2bdtsFJVyNuoKTFEU2zE0Q/kh6t1C2b5tm3EIsbrdPggWVVVVxcKFC7nmmmvO6E2q1+vJy8tTbd/skEpgiqLYTnk+GJpJ3prBuDGjka8nwPb/Wj2M9957j4qKCh566KEztun1eqSUZGdnWz0u5exUAlMUxXYaKsGvP9tySmlskRTVajCUHrRqCM3Nzbz22mtMmDCBESNGnLHdVImoCjnsj0pgiqLYTshguHsH3+08SnBwMJnHGijcv8mqIXz11Vfk5+e3e/UF0L9/f0DNBbNHKoEpNrP7s+dpfMKLkvwDtg7FIqTBwN6lb9NUX2vrUOxaU1MT2dnZzJ07l2aPMDQVhzl40DpXYVJKXnnlFfR6PZdddlm7+3h6ehISEqISmB1SCUyxmaDUt3FygKwV79k6FIvY/P4jJO1+jBumjyI11bYTdO3W0nuo+fwOmpubiYuLY8S0a+jjIbj3z/Ot0n9w3bp17Ny5kwceeACNpuNfh3q9XiUwO6QSmGIT0mDAuaUagIbstTaOxjIMB4zrSG04cJRhw4bx7bM30tRgH93W7Ub+ZmpOHAYgLi4Or5G/Z7nr1axYuYIvvvjC4qd/5ZVXCAgI4Kabbjrrfnq9Xt0Ds0MqgSk2sS91L3/9pY4lqc38d2uFrcMxO0NLM7EOh9lY2Yd9aek8/oeJ/M7wI1mPRpK5Qa02BBhL6MvyyK82rgEWFxcHQYOY9sB/iE8axr333ktZWZnFTp+ens6PP/7I3XffjYuLy1n31ev1lJaWcuLECYvFo3SdSmCd9MEHHzB//nz69u3L/PnzWbjQ9ss+9GY/r1zFop1NrPO/icVrsygtLbV1SGaVuf4bAl1B9puCv78/T7y/ki3hfyLAqYGoFTex5tlZ6mqsogAMTaQfradPnz54enqCNOBQuIOPFvyd48eP89hjj1ns9AsWLECn03HXXXedc9/Y2FjAPgo5XnrpJR555BFbh2EXVAJrx8KFC/nzn/98ymNz587lH//4B1OmTOHdd99l3rx57e6ndE7Zts+ZPEzP76+/jslRGvb88rmtQzKrovWfAKC/9E8nHxt96wto7t7GzpoQJhnWs+m+fhf2vbHSHAC25ZQar74AEPDxFQyq38Z9993HwoUL2bhxo9lPXVxczCeffMIf//hHOrM6vD11pf/oo49477331BplqATWrtTUVBISEs54fOfOnQwbNuyc+ylnV1txgr/rM3jyEj9GDh/CTze6otm72NZhmdWLv5Yyb2MfAvoOOuVxv3A9F72awZbwP/HO9iaGDRvGP5579sK8GnNwRvadxK97D/2WwIQwNvUtP8TTTz9NREQE8+bNo7Gx0aynfuutt2hsbOT+++/v1P5RUVE4OjraPIHV19eTkZFBSUkJhYWFNo3FHqgE1o6UlJROJbCO9lMrOp9d2rJF6LQC98Gz0bl7c6DKncDaLFuHZTYVFRWsWr8Vv+FXsftwKXWNzWfsM/rWF3hz+QGuvvpq6lY+R+YjkWRuvMDujUWN4+i0d8kqqmxzBQb4REJZHu7u7rz11lukpaXxyiuvmO20tbW1vPXWW8yePfvk0OC5aLVaYmJibF7IsX//fgwGA2D8/XOhUwmsHfv27SM+Pv6Mx/fu3UtiYuI593v66ad5/vnnWbx4Mbt377bp2mb2qCblB+qaJANn3A5AuddA9J51VJUU2Tgy89j7/Vs8NtYBz4EjGfpSMv6PfsXshWv5z8Zsiip+u9Ly9/fn008/5bI/PkiQroHI5Tfx6zMX0L0xKTlwwDgHcMCAAb897h0JZfkAzJo1i6uvvppnn33WbK2cPvzwQ0pLS3nwwQe79Dx7KKVvm7T27t1rw0jsg912o7/vqx3sKTBvBdLgMB9ev2b4Wfc5fPgwHh4eeHl5nbHt008/7dR+bVd0XrNmjVrR+TThDZmkGbwZ7ukLgEf8DBz2byfjl48Zfl3vvzkt9n3Jg2N0zK12J8ijmWuGRPBDagFLUwsAGBbuy+UJocyKD2VouC+j5/6DksO3sPv1K5jiuZ60RyJxnPMesWMvt/HfxMIWjsO/0rhg7KlXYFHQUAF1ZeDiw7///W9WrFjBXXfdxYoVKxBCdPuULS0tvPbaa4waNYqxY7vW+T42NpaffvqJ5uZmtFrb/OpMTU1Fp9MREBCgEhjqCuwMnb2vdbb9TCs6Ozk5qRWdT3MkYxfRXs1UB486+Zh+6k00GyRVaStsGJl5SIOBaHmQtIYglh04xg3Do3jz2hHkPXMlKY9dyj8uT8JJq+Hp5FSG/3M5YY9/y51LtrKp3I3EF9LYGvEn/J0auPn31/Dcc8/R1GSbtbEsztACJzIpLq3Czc2NjcXNjF3wMwaDhIGz4Y/LwNEVgD59+vDCCy/wyy+/sGTJkh6ddunSpWRnZ/PQQw91ORHq9XqamprIy8vrUQw9kZKSQnx8PEOGDFEJDDu+AjvXlZKldHRfq7P7tV3R+S9/+QvLly9nxowZlgi1V0pev4snXq3i1zW/3Tx39w3i9xv7UdjYwGQbxmYOOVt+IsZd8rN2Eo1FBq4fFgkYF0ZMCPUhIdSHx6bHc7yqnmVphfyYdoTPduXxn03Z6BwdmBp7CRdPmk3QkYX8/e9/xz3lfS699zVix8628d/MzCoLoKWRfUdqiIuL48vd+WzKPcHh8hoifcPBK/yU3efPn88nn3zC/fffz8yZM/H19e3WaV955RX69u3L7373uy4/t21T35iYmG6dv6dSUlKYNWsWffr04ccff6S+vh6dTmeTWOyBugI7TWpqKosWLSIqKoqoqCguuuiiTu+nVnQ+t59//hmNZx/0Q059XcOGXsLmrdupq+vd938K1n4EwE+O4+nr587ISL929wvw0HHL6H58edt4Trx4DSvvnsKdY2PYf7SS+5flsNTnYoY8spAb+1cR+fPNrDrf7o2V5gKwKeMYcXFxbM0rASCjuAqkhH1fQ8H2k7s7ODiwaNEiSktLefjhh7t1ys2bN7Np0ybuv//+bg3r27qUvri4mGPHjpGQkEBSUhIGg4G0tDSbxGIvVAI7zeLFiykpKSEvL4+8vLwOV2Rubz/Tis7Tpk0D1IrOp2tubOAGxxXce8UQhBD8mFpA8GNfU1xZx7SLEnlpimD/L/+zdZg9Upizj9QyHd8VOHD9sMhODVM5aR24OC6Ef10znJynriDtb7N4afZg3IKiSKh6lqXNQ5gq15P693jy950n76eTCewoobHxFJQbGx4fKK4wltIvexD2nDpcmJiYyIMPPsh7773HunXrunzKV199FR8fH+bOndutkP38/PDx8bFZAjMVcCQmJpKUlASoQg6zJjAhxP1CiDQhxD4hxKdCiAv32lY5Q/qqxVylh7FDjJ9k//nLfoqr6vlqdz4jx4znL6OcqNr1jY2j7L7q6mrmfnKQB7iPFoPkhtbhw64QQjAwxIuHpw1i/f2XkPaPuTRc+QF/lbcT41KNXHwVq3/52QLRW5lvNCciLqWwSiID+518OKO40vhN61yw0z3xxBNERUUxb948GhoaOn26nJwcvvnmG+666y7c3d27FbIQwqaViKYElpCQQL9+/XB1db3gS+nNlsCEEKHAX4DhUsp4wAG43lzHV3q/km1fYJCSuJnz2VdYzvqc4wB8sTsfr6BIMiuc8SzrvZ0p1qz+lcbGRoq9ohkY7EV8H+8eH9PP3Zk/jOzL80++wjOBL3F3w81MfXABCxYsQLbOB+qV+k1ihfPlSAmljj44OmhI6ONNxrEq43afKCjLO+Npbm5uvP322xw4cIB//vOfnT7da6+9hqOjI3fffXePwrZlAktNTSUkJISAgAAcHBxISEhQV2BmPp4WcBFCaAFXQE0VV07yK9vD/goXfMNieHdDFs5aDfdM1LM+5xhFFXUc1UUT515JY121rUPtFvcNz7H2Dh9SSxo7PXzYWUIIXrrrZmTMJchxN5G2/F22/d8AasqKzXYOq6o5wYED6Wg0GrIqJUmh3gwO8zEOIYLxCqzisLFa8TQzZ87kuuuu4/nnn+/UxOKSkhLef/99brzxRkJCQnoUtl6vp6ioiKqqqh4dpztSUlJOmYealJTE3r17L+iWUmZLYFLKI8ArQD5QBFRIKXt/XbRiFuVFeQz0quWEZyLVDU18vC2XOUMimD+uP1LCN3vyce4/BVdHQcaaXtgXUUr6tWTR4hUKiJPVh+bkoNHwxe0TGdXXH6+kcQx3P8rR5wZxePcqs5/LoqQBXhvI0NKl9IuOYVdBGaOi/NEHenKkvI7qhibjFVhLI1S1P7n99ddfR6fTMX/+udcNe/fdd6mrq+vyxOX2tK1EtKbm5mbS0tLOSGBlZWUcOXLEqrHYE3MOIfoAs4G+QB/ATQjxh9P2uVMIsUMIseP48ePmOrXSC2xdtZRdRQZ8R85hyfY8quqbuWt8LANDvBgU4sUXu/Ppf/HNFFUZyNpt/uatlpa361ciPAz8qh3JsHBf+gd6WuQ8rk5afpg3iR/cr+TK2nvxcmzG+8ur2P3psxY5n0VUHoGWBvbmVxKaMJLqhmZGRfkRF2R8zTKPVcGgK+Eve8Gj/Sum4OBgXnrpJVavXs3HH3/c4anq6+t54403mDlzJoMGDepwv86yVVf6zMxMGhsbT0lgpu8v5GFEcw4hXgwclFIel1I2Ad8AY9ruIKVcJKUcLqUc3pkO0Mr546u1qVz8uQMDLpnLOxuySAz15qK+/gDMGRLB+pxjNHlFMnVZGP/dcNTG0XbdoV+Nq0ovrknkhuFRFj1XgIeO5D9NZotDIrMc/klerY6kjJdZ9I8He8dwkqkC8cBRdJHGpDIq0h99awI7cLQCXHyNV2Gajsvd77jjDsaMGcODDz7Y4Tpdixcvpri4mIceesgsocfExCCEsHoCa1vAYaISmHkTWD4wWgjhKoyD/1OBdDMeX+mlpMHA2lU/M3XqVHYWVLCnoIy7xvU/eY9ozpBIpISv9+QzYcJENmzYQEvzmQ1w7Zlr4SZy6tw5aPDn2qERFj9fTIAHP86fREqtJ/OC3mVB4Qjm/W0Bc+bMoarCcotAmkWJcRmV/cUN1Hr0wcfVif6BHsQEeCAEvxVybH4TMjuuuNRoNCxcuJCKiop2E5TBYODVV19l8ODBTJ5sninyOp2OqKgoqw8hpqSkoNVqT2m55enpSd++fS/oSkRz3gPbCnwF7AJSW4+9yFzHV3qvgztWsPf35dwxMZx31mfi7qzlxhF9T243DSN+uTuf340IY++tksx1X9kw4q6pr6/nv5uO8+/mmYyPDiDcx80q5x0V5c9nc8extbCOtUMf5+VXF1C8Yyklz8ZwaMtSq8TQLaW5tAhHjlRJClt0jIz0QwiBztGBvn7uvxVybHkH0s4+rSI+Pp6HH36Yjz76iNWrV5+ybfny5aSnp3erbdTZ2KISMTU1lbi4OJydnU95PDExUV2BmYuU8kkpZZyUMl5KeZOUsvMTNZTz1uE1H+LiKIgYexWf7zrETSP74qFzPGWfa4dGsj7nGCFDptDXR0Pxtt4zH2z9+vUsyvbl3/WTuX5YlFXPfUViGG9eO5wf9xWSHTKGBf96Ey3NBP10E3s+/D+rxtJpsdNZ6zgZqXXmYEUTo6L8T27SB3oau3GAcVmVduaCne7xxx8nOjqaefPmUV9ff/LxV155hbCwMK699lqzhq/X68nMzLTqcO3pFYgmSUlJZGZm9voONt2lOnG042wrLQ8dOvT8bbBqIa5FWzhY6cDyikAamg3cNa7/GfvMGRKBlLCuyo9DVRp0xTttEGn3pK34mLDBI3DQCK4ZYvnhw9PdNT6WR6cNZOHGbH7RjYE717K3zIXBhxax46lxGBrt7Jdb1HiW5HjhHTsUg4RRUb+129IHeZJ5rNLY1LeDuWCnc3Fx4Z133iErK4sXXngBMK7dt3r1au677z4cHR3PcYSuiY2NpaamxmrVf+Xl5eTn53eYwC7kllIqgbXjbJ3mx4wZY5Elzs9X9dXlDHIr5ZBjf97dkMXYfgEkhPqcsd+A4N+GEfMJp7/zCQwtveM+2KyWZXwwMp+pscEEetim+czzlw/mxhFR/PWHvawu9yTxpSx+Ku/PcJHKO/PGUVFRYZO4ziANULCD/Kw0fPTGht1t+0XGBXlS19TC4fIa41ywqiJoru/oaCdNmzaNG2+8kRdeeIH09HReffVVPDw8uP32283+V7B2T8TUVOPk/vYS2IVeyKESWDvO1pF+5syZLF++vMPnqtWYT7V/+Xu4OgqORswk+3gVd40/8+rLxDSMWBc2Fj8XyN2abMVIu6cgbTMxXs381JzIDcPNP/erszQawfs3jmZybBC3/m8LmwpquHTBdr7xvJ37/5fCiBEjSE+xg6vaqiJ4byqJ4gAyKJpof3f83X9L+vrW6QcZxVXGKzAEVHTuSmfBggV4eHhw44038sUXX3DnnXe2u15fT1l7Llh7FYgm/fr1w93d/YJNYHa7nAoAH1525mODroQRd0BTLSyec+b2wb+HwTdCbQl8cfOp2/74U6dO29FKy2BMUM8880yHz3366ad54oknOHbsGLt372bpUju+mW4FP2/PZun2JtKvHoG/ex3XDO54iG3OkAie/CmFtKBp5P36Ie4+u4gZY9+LOh5csYgw4JemeJ5MDD/n/pbkpHXgm9snMP61FVz1n3Wsv38aV93/KquGX8k9t1yN9yeTSYm5nsQ7Fxob5tpCawXinsNVlCb5MKvN/S/gZCl9RnEll4ybDQOvBK3z6UdpV2BgIC+//DK33XYbWq2We++916yhm4SGhuLm5ma1K7CUlBR8fHwIDQ09Y5tGoyEhIeGCrURUV2CnOdtKywCurq54e3tTWNh+l6y2qzF/9tlnF/xqzJ8t38RK7RS+zqjg1tHRODt2/HoMCPYiPsSL74o9eGaXH0s32f8sDMf8deQ1exMdNxRvVydbh4O3qxPL/jQZD52WS99ZzeGyGsaPH8+yVevJqPYk8ejnpDw5nJY6Gw0pts4By6rzpLLF4ZT7XwDBnjo8dY7GSkStrtPJy2Tu3Llcd911PPDAA4SHW+YDhRCC2NhYqyawxMTEDispTZWIvWIOoJnZ9xXY2a6YHF3Pvt3Vr9NXXG11ZkXm6dOns3z5cm699dZ2n19UVISfn98Fvxrz0YP7iajfD8PnYqiSzBt37kUA5wyN5KllKVw58WKO7lmONBgQGvv8nNVYX8tA1xKWNI3lhhFRtg7npHAfN5Lvmsy411Yy8+3VbLj/Evr01eP3WjZf/3UaV3rsZfuLsxj99HrrB1eaSwsOFLhGA5xSgQitHd+DPH+bC7byCfCPhSF/OP1I7RJC8Nlnn5k15PbExsaybds2i5/HYDCwb9++sy4Bk5SUxMKFCzl8+DAREdYvIrIl+/zNYEOdWZG5o/tgbVdjdnd3P+u9sgtB9rI3+eH3rtQampg+IIR+/udO6KZqxOlxTqy5to78vWutEGn3bN66nYE7ZvBa/XRmxYfZOpxTJIT68M0dE8g8VsVV/11HQ1MLzjodVy9Yz44yT3yrD9gmsNIcjrd4IPrE4eSgYXA7BT36QI/fllXJTIYs+/t/pNfrycvL69KSLt2Rl5dHdXV1uwUcJqa1wS7EYUSVwE7TmRWZBwwYQGZmJi0tv3XKVqsxn0nkruZYvZbV1cHMb6d0vj2mYcRfNIMByF+/5OxPsKGfkpdzJGwSiQMTcXO2v8GMqfpg3rtxFKszi7ltyRZjaTqQ6z6ST3bWUG+LuUPjHuDt7FB0kYMYHObT7pByXJAXBeW1xqa+3pFQdu65YNam1+uRUpKdnW3R87RdxLIjpg/cF2Ihh0pgp+nsisyjR49my5YtJ39WqzGfytDSjN6xkHWGQYR6u3PZoDNvQHdkztBIvj7qyfE6gci339cw7sQPXOaVx02jzz00ais3jezHPy5PYvH2PP72wx4AnIf/gefW1rHHFr/wQofxydZj1HuGnDF8aKJv29TXJ8puExhYvpQ+JSUFIcRZGxF7eHjQr18/lcCUznv33XcZO3asrcOwWxlrvsTfBb5rHsydY2PQOnT+rWYcRhTsaYkiEvtcKqI4ew+3hh9msLaQ6QN6tsaUpT16ySDmj+vPiyv38876TEaNGoW3DvZvtvLKzvXlNOz5kurGRlqE9owCDhN9oHGoOaO40ngF1lABdfbV37F/f+OIgjUSWHR0NG5uZ29PZlob7EKjEphiEUc2Gdf0Wt08kNvHdO0KxTSMuNlxCOEeBo7s32qJEHskPXkhADXBo89aWWkPhBC8MWc4s+JDufuLHewskaT82YsBBZYvdjjF0VScv7+dwf0DgTMLOEz6B3oiBBworgTfvuAeBDX2tfySp6cnISEhVklgZxs+NElKSiIrK4va2lqLxmNvVAJTLOKpVRUMOvYwYxIHEeLl0uXnzxkayX+rhzLra8G6HfbXJqf50GaKWjy5dMaVtg6lU7QOGj6bO45hEb5c/8EGcmQfQoWVl61pLaHP1vXH29mBaH/3dnfTOToQ5etuvAKLmwUPZhorEe2MqSeipdTW1pKdnd2pBJaYmIiUkn379lksHntkf3eeFcC4BMnWjx7HsO8bChvc+KZUj0aj4YaAA3hpGwANBgQIDYUtPmxoGIBGo+FS173oNE0gHEBoQAiOEkAaccyePZvhw4dbPPbKyko2HzNgiI/ijU4Wb5zOOKnZl+O6ifTZsIUbbj5zyoKttDQ1MNSlkB8bk/i9PtjW4XSam7OWH+dPYvALy9gmhzBJd4TSgix8w7r3b9Rlpbm0oCHfK5GL+/qftUO8PsiDjGOV1omrm/R6PV9++aXFjp+WloaUstNXYGAs5Bg5cqTFYrI3dpfApJRmXfrAnnU08TB/7zqOfngzo73LKNK5UNDoxKoiA5q6Uu7yOkKktsGYvgRokBwr0vDZir0YDAbuuamFYHeJBk5+fZ3ewnNff8W777xFRloqvkGdL6jojtSlb/LutGbedKljcmxQt45hGkb0HDaAsILFZo6wZzatXo6rDOCwe2KX7u3Zg0APHdcOjWDFphge1kHO+i/xveGv1jl5aS5HG1wx+IYxpl/gWXeNC/JibdYxDAaJ5oc/g280jH/QOnF2kl6vp7S0lBMnTuDv3/5waE90pgLRJCoqCg8PjwuulN6uEphOp6OkpAQ/P7/zPolJKSkpKUGn+60PXENDA9++NI/ZTd/h4+nI/dVX84HhYiqRyNYipHHcBHXGYZZQLxdCvV0JHeDC3DmuhHm7stfblROtj4d4ueDooOH3QPyeXTS8PYHU137HxBctOwGzOvUHbvDJoeqiYT36d7x2aCRV5V/yxPBKjuXuI7Bf++29rG3Br1l8V/1Xlt022tahdMvlCWG8tzYCg4TqjLWAtRLYQTKqnEBoOrz/ZaIP9KCuqYWC8loiitOg6qjdJbDYWOOwZkZGhsUSmJubG3379j3nvqaWUhdaIYddJbCwsDAKCgo4fty+bthaik6nIyzMOAF21c/L+MOLH9ISPpD60FG853wdf75uCq8MjaDFICmqrONIeR1Hyms5UmH8s6C8liPltWw9VMKRvYdpaDaccnwhIMhDR6iXK6HertzmM4TLnPeSueE7YsddabG/V3/NYdY0xjB3/MAeHWfOkAhu+dk4vJWz+hMC+71kjvB6bH1BDU4uVUxP6mfrULplfHQAGmcP7syfgigvxzxrFZ+bYc7H/OXLP8GAUzvQt6dtT8QIn0gotr/7oG2b+lqiIjklJYX4+Hg0nexEk5SUxJIlSy6oUSy7SmCOjo6d+rRxPinI2kvaolvxcKineNCj9PV0xGPOraxNCkejMb4JHTQQ6etOpG/7N73BeEVXWtNoTGoVtW2SnTHR7SsqZ27tH8jU7qfmq7uRY66wSIum/dtWMVBXxbfNema5dq2P3enigr1o8I+nutGRxqzV536CFeRk7uNg9FssaLwCjWa+rcPpFietA9MHhLBk1+W4LH2ERVb6hXe42oE05wEEOhnwdTv7eyMuyNiL9EBxJdO8oyAj2bgUi7CfIduoqCgcHR0tUokopSQlJYWrr766089JSkrinXfeIT8/n8hI262MYE12lcAuJLV1dXz28l1c1ZzMJLdm3qqfwhc3j+DqEfpu/TIRQuDn7oyfuzNJYWe256lvauGyd1bzRP7VvOXzOVs+/Bujb33BHH+VU2xe/j8GAvHjrjLL8a4eFs2mDdFENOWZ5Xg9terb/3KnpoERw3rn8KHJrPhQftmTzow4Jw7t30HUoBGWPWFJDrW/vo5/SBhJIR1/EDMJ9tThodMaCzn6RUJLo3EpFk/L3r/tCq1WS0xMjEUSWFFREaWlpZ26/2XSdm0wayewqqoq0tPTGT58eKevGM3Bfj7OXCDqGpt5/oMl7H9uOLfKb9nd2Ifvh/yH+1/4gmtGxlnsk7DO0YHv7pzIDv/L2dvUh7qdn5h9GXIpJfvKWlhbG8El09pZCqcb5gyJYF1Tf8JdGyk9etgsx+wJn9JdHG9xZfqVt9g6lB65dFAfoh1KWDytmoINVpgPdmgjA/I/xsNNx5SB5244K4QgLsjLWErvr4fQYdBYY/k4u0iv11skgXWlgMMkISEBIYRN7oP9/PPPjBo1yurdh1QCs5Kahmae/3En/vd/wnM7G6hvlnzmdRsTn9/BtbOvssoQjofOkZ/unsb8lnuY3vg3HvjHv8x6/NUZhbzeNJ0nK68y2/BkXLAXPzhOw3f/fDZs222WY3bXkdIqJuhy2VYfgYPWvMvUW5u/uw7XsETqDQ405m059xN6qjSXJqkh3+DDlEGduzrQB3oYJzNHjYPbf7XLuWCxsbFkZ2fT3Gze1cPPtohlR9zd3YmOjrZJJWJycjLe3t6MGjXKqudVCczCquqbePHnffzl8YeYvOU2ZOF+LhXZJDy2ievvW4DGyuuF+bvr+OLhW9BqtfyvSMemreb7xPTK9xsQDVXMm5pktmMCXDk6kcbggSxbu8msx+2qL75ZQpCmCkOf82OezczEKPa0hONVZ4Veg2W55Dd6YDBIBrczxN0efZAnBeW11DSYNzmYk16vp6mpiUOHzPsapqSkEB4ejo9P514rE9PaYNYkpWT58uVMmzYNrda6d6Uu6HtgpceKKNi2lIrsbTQVH6BF44jwiUT0nUjooDFERUWdUubeFRV1jbyxNoPvV63iRaclPOqeQUqlB9senEz8uEvN/DfpmnAfN366fTTh385mz7dhHNEvJ9TbtUfHPFZVz7iSr1nkvxaPKebtBnDDiH4UrV3E5PpNwItmPXZXfL6/morGsfzplrtsFoM5XZ4QyqpVUdzmkU9jfS1Oup69B86qJJeMJl/8qcFJ27kPbaZCjsxjlQzZ8CfwCodLX7ZcjN3QtqlvdHS02Y7b2RZSp0tKSuLbb7+lpqbmnP0TzSU1NZXCwkJmzpxplfO1dd4nMGkwcOxgKoV7V1OZsx1xIpOVuc0sWleIR/Nxsv9ibBxa6+SIg5A41+zm5k2efPKrIyPEEr71/YBDzT4cNvhyBH+KNYHsdh5Ck3soPh5uuDprcXF0wNXJ+KeLowNV9c18uOkA92m+Z6PrCmqbYZ3HlYz9639wcLT9qr0Ak4cl8MP3cVzjspHrX36Ft//6yDkrw87mgy05XOKUzvFaJ8J8A8wYqXEYMU57nKv9D1FVUoSHn/Wb5x48Uc3WxmAK8iN4Kqpn0wPsxcBgL94SkbhpDezb/BPxk+dY5kRSYig9SBZD0Ht1fsTB1NT3QHElQxoqoTjVMvH1QNsEduml5vlg2tjYSHp6Opdd1vX7yElJSSdbSllrOC85ORmAGTNmWOV8bZk1gQkhvIH/AvGABG6VUlrlrp6hpZnC9G0Upa4h93AxKzNryDqQxrfj9hPkAqZ+EBUa2OcUyKxZs3Drm8Bt9cdZVRlE/5g4fpcUTl1xLj6ltcwua8C9HLY2RBFMCaO1WYQ57sFBSCZn17KmPprZPnk8G/QLeS1+5Bn8yTUEktHiz7LGQTQX5TLR7xe2G/oQ++cvmNC34+UQbGXqgx9z+B8DeNTxMy57azgr752Gu3PX7+0YDJLP1m7n/7T5rPMeZ4FIoSlwCNqqlexY9iGTb3rMIuc4m0/X7WSm0z70g8w/YdVWhBDImEsI3dWXh/YdI95SE8KEYEnC+zy1Ip/bE84+/6utmAAPhGjtSu8TBTn2MZWiLX9/f3x9fc1ayHHgwAGam5u7dQXWthLRmgksKSmJkBDrf7A09xXYv4DlUsprhBBOgAXHJOCbb77BY8MzhMpCIl3rCXMShAFHM5r4YZUHAwYMYFvLIFxco/DoN4LQwVMI7JvA1dUNbPt+D29szSXMO5LX5g7j6sHhrYUUAzo8X1N9LUcydvBEcTU35hdiyMulsNYV/5ZCBjrlENR6xR7zRh1OgTHINz9l7JRLLPkS9Iirlz97Y2/looJ3GXzse676jzM/zJvU5e7qP6cXMqBuDxpPCBh9vUVinT7rBpqWvEJR+nrA+gns8I4fWOb1H1KG/dPq57akK8cM5d09Ffy4exf3W/A8K9OPUi5dmTms84UYLk5aY1NfUyl9VSE014O2e8P6lhIbG2vWBJaaarzS7E4Ci4qKwtPT02r3wSorK9m4cSMPPfSQVc53OrMlMCGEFzAB+COAlLIRaDTX8duzc+dOLio5TK2PG9sN0Wi8BuAdM4qxt02lOOzMJTyaWwy8sS6TJ35KobaxhUenDeTxGQmdXk3XUedKRNIEIqC1e8Htp2yvrSih6MBW3pug46Kx43Byso/hwrMZPfcF9jzwP6bW/sK7ByZw08eb+HTuWBy6UEX4zvosrnVMpaQO4iZfZ5E4B8f2Y1tjH6JkvkWOfzb7iyoYZkijvEnLwEt6d/n86Sb1D+Jqxx2Mcd5huZPkrmFK2ed8XT+d8Yn6Lj1VH9RaiTi0tXKx/DD4W6n5cCfp9XpWrlxptuOlpKTg5OR0slVVVwghSExMtFol4qpVq2hubrbJ/S8w7xVYX+A48IEQIgnYCdwrpbTY5I1nn30Wjeb5Tu27PvsYd3+5nZQj5VwSF8K/5ww/2a7GXFy9/IgedSnmu5VreUKjQXvTV1w3chxj7zrEl7vBx9WJd68f2anS/vzSGn5KK6SlUEeVfwJ3WfAe325Df7xFBTlFJUSHdH4oqqc+3XGQeU772VcTwDgn+/r031POjg5c4pLHXK99lB0vwifAAsNAB9fxe+fN3FszAkfHrg1R6wM9WZd9DEPAADQDrjB/bGag1+v56KOPqKqqwsPDo8fHS0lJYeDAgV1+rUySkpL45JNPrNJSKjk5GU9PTy666CKLnqcj5iyj1wJDgXeklEOAGuDRtjsIIe4UQuwQQuwwR7/Dzsz4Lqqo46aPNjLh9ZWU1zby9e3jWf7nyWZPXr1Z/LCLmD9/PkeWPMljCQYWbczm8R86NwSxaGMWUkqWrdyKbvRtFo3TMHgu11fdzr9+st5kSSklW7euIcyhHBk53mrntSanPgk4CgOrl31ukeM3Hc/mYIs/oc4tXX5uXJAntY0tHHGJgWs/sburLzi1J6I5dLcC0SQxMZHKykry8vLMEk9HpJQkJydz8cUXdzvZ9pQ5E1gBUCClNC2f+xXGhHaSlHKRlHK4lHJ4QIB5K9VO19Ri4LVf09E/u5Qvdufzt+mDSP/75Vw1OOKCaXTZFc88+Xc23OrKNemPcceYaP6xIo0Fq9LP+pzG5hb+uymH69wOMMKzjEsusez9vhtmTISSfJLTCix6nrZ2HS5lQIPxnkTM9HlWO681TZh2DQBFmZZZpaC2OJPslgCSgrte1m36oHngaOvaYIauJ0FLa1uJ2FMnTpygsLCwSxOYT2daG8zSw4j79++noKDAZsOHYMYEJqU8ChwWQpgGuacC+811/K5Ym1XM0BeX8cA3uxjXL5B9f72M5y4fjKvTeT9roNv8AoPJDr6CoT5V3FL/HXOGRPDgt7v4YHNOh8/5LqWA4qp67m3+lP9d60NoqGX71Hl7e/NT0P94x/V9jpRbZ+n0z3Ye4s3aCVyxKpIQveUXA7WFfvpEjjR5ENhsgVZdUuJckUd2SwCTBpy7hdTp9IGtXemPVcIHM+CrP5o5wJ6Ljo5GCGGWK7CeFHCYxMfHW6WllC3L503M3YnjHmCxECIFGAz8w8zHP6vC8lpu/HAjk/71C1UNzXx35wR+umsS/QPVcGFnjP3Lf8iscCRy/0IW/S6OaXHB3L5kK9/tbf8X2zvrs4jzcWCI6zEKdXFWidFB580Yx1y+3Ga5pdxNDAbJZzvykIfTiBttu/+k1pDWFIzWQVBo7g8GDRXUGRzIqnZmWHzX3yMhXi7Gpr7FleDkDmV55o3PDHQ6HVFRUWa5AjNHAnNzcyMmJsYqCSw+Pv7kklC2YNYEJqXc0zpEmCilvFJKWWbO43ekqcXAq6vS0T/7A1/vyefvM+LZ//gsZieGq+HCLtA66aid8CRhHgb2vHkL39wxgRGRvlz/wQbWZBafsm/60QrWZBVzh/cBnLUCj8GzrRKjZ+xEXEUTuzb/bPFzbTp4nJjaPbzt+QWzpo6x+PlsaU3ArVxVOY//rTfvZGHp7EVE6Qu8leFzcqitK4QQ6AM9jZWI3pFQboW2V91grqa+KSkpBAQEEBTUvZXMTZKSkiw6hFhVVcX69ettOnwI50EvxNWZRxn8wjIe+nYXE2MCSfvbLJ6ZlaSGC7tp8JX3sLE8mH3b11FaXMRP8ycT7e/BFYvWsDO/5OR+727IwtFBQ+KJldQ1SQbOsGwBh0n/i28GoE91msWHET/beYg5Trv4Q2QZo8ZNsei5bO13E0dA1Qm+3NHxkHF35JfVUG1wwKuxDHf3cy+j0h59kKdxCNEnCuoroM4qn4u7RK/Xk5mZiZSyR8cxFXD09IN3UlISOTk5VFdX9+g4HVm9ejVNTU0qgfXEo9/vZsq/V1HX1MLSeRP58a7JRAf0vIz1Qhf2l2T+75cWHn74YfzcnVlx9xT83JyZ8fZqMoorqWlo5qOtuVwzOJw+tRmk1Xjj4ulrldj8I+LIqnJmgmM2X++x3Jyw5hYDX+4+xEyHvaTV+uHsdn4PQyclDGKlz5tMqF1JfZP5CiVOrHmH/3l8gN6r+7+Q44I8OVxWS71761CVHV6FxcbGUlNTw5EjR7p9jJaWFvbt29ej4UOTxMREpJQnhyTNLTk5GXd3d4usRN0VvTqBTY0N5qlLE0j722VcnmC7cdjzTWTffjzyyCPkbviSXT/+l1BvV1b8eQoaIZj25ipeWbWfiromror1YujbJewOu9Wq8W1sGczi0hi+2GW5X2SrM4vxqs2nr3MlDWHnZ/l8W046V/o51zDBMZvVmUfNdlxN/kZGaQ8yLCq428cwFXLkOETBqD+Bs/19SDVHKX1OTg51dXVmSWCmSkRL3Aczlc9PnTrV5s0aenUCmzYghCcvTcRFDRea3cMPPcBX13vgtuoxWpoa6R/oyfI/TaairomnlqUyKMSL0rQtNDTDmBkWagLbAeeRc1myo5KNuScsNoz46c48ZjmnARB1sXWGR23tuEMwo7QHWZpivmpEXWUe2XVuDBrQ9ftfJqZS+tQ6H5jxAvjaX6sAc5TSd2cNsI5ERETg5eVlkftgGRkZHDp0yObDh9DLE5hiOa7unhTE3Yneu5GNb9wJwJBwX36cPwkvF0cemTYQv71v8eT0AAYOtG539vHjx9O/ZAuDHAotMozY0NTCN3sP415XypajTkQkTTD7OeyRQ9hwgh2q2LZ3T4/v5QA0NbfQp6WIrDJBXFz3q1T7m5r6Hqs09kKsOdHj2MwtNDQUNze3HiWw1NRUNBqNWf4/mVpKWeIKzB7K501UAlM6dNGtL7KnzJ1Bx76lvCgPgPExgZx48RpuGNyHqZ4HmZoQYvVKz7CwMFZe3cALLt/w5W7zJ7Dl6YVU1DXx0vICPnX6vdmPb6+ChxmX74hszCa1sLzHx0vPzcVLU092cR0DBnTcJPtcXJy0RPq6GSsRP5gB39nfhHIhRI+b+qakpBAbG4uLi4tZYjJVIhoMBrMczyQ5OZkBAwYQGdm5lbUtSSUwpUNCo8H16jfwdpbs/ddvTXq1DhrSVy3GWwcOett0288nnIscstiYU2z2YcTPdh4iyKmJxtzddvEp01pCh07nl8OOVEtnfkjtfjGCyb6Dh9jZFM7B4lqCg7t/DwyM98EyiivBOwLK7K+IA4yFHD25B9bTFlKnS0pKorq62qwtpWpqali7dq1dDB+CSmDKOcSOv4pVdYNYtjGFfft+W2m5ZOsXGKRkwKW2WZ1YRI3F36mJAQ5HzTKMWN/Uwmc78pj2xio+33WIl50+JeceVyZNOP8LOEyEo44FhSPZUOLND/t63q5rxTE3LjpxH0c1oT2+So9rLaWXXq1zwaR5ryrMQa/Xk5eXR0NDQ5efW1VVRW5urlkTWNu1wcxlzZo1NDY2qgSm9B7DHvmR/6S5cO+99568N+JXsZf9FS749Olnk5gixt8AwBUumT0aRtx9uJS7v9hOyF+/4YYPN5J1vIonZyYwpmknpcIbF7fuzV3qrUaNGoUmaz3bDx2nuLKuR8famncCh+MHGdCD+18m+tamvmW6PtDSCFXmq5Q0F71ej8FgIDs7u8vPNX04NGcCi4+PR6PRmDWBJScn4+rqyvjx9vHBTiUw5Zz8/Px49pln8Ctex6aPn6GstISsoioKPYfZLKbwhHEUVgsmGHazIed4l4YRS2saeHNtBkNeXMbQl5L576ZsZg4MYeXdU8h9aja3RVQR7dlETbBtloiwpctjoOKStcRqilmWVtjt45TXNnJ3zSI+8v+8RwUcJnGtlYh5La3L6NhhS6meVCKaswLRxNXVlf79+5utEtFUPj9lyhScnZ3NcsyeUglM6ZR5d97Oc5d4EZH6Osk/fMfVn9fidsnfbBaP0Gh4p2QsDybXA5xzGNFgkKxML+L69zcQ8rdvuOfLHWiE4M05wyl8/iqWzB3HxXEhaDSC3JX/ASB88lyL/z3sTb+R03HQwESnXH7c1/37YNsPlTBSm4eXoapHBRwmprlge5pCYdpz4GV/8z5NC1B2N4F5eHiYvTAiKSnJbFdg2dnZ5Obm2s3wIagEpnSS1klHzfgnCPcwcOzLB/Dy8mLUqFE2jSls1BWk70tD7+/CF7vaT2B5JdU89VMKfZ/8jkve+pUVB4qYN7Y/ux+dyc5HZvLniXp83U79NOl8eD0F1Rr6DrdNgYoteUePoLpRMNaQxooDRTR0syvH1rzj9Hc4TnZxjVmuwEK8XHB31rK73AnG3GMs5rAzHh4ehISEdKuQIzU11SwtpE6XmJhIbm4ulZWVPT6WPZXPm6gZwEqnDfndX9i8/k3uG1HM8P6BaLW2fftMHDuaB8c44eawnWdy4zlSXkuotyv1TS18u/cw723OYVXGUYSAafoQ/nnlEGYnhqNzdGj3eBUVFbz88svsTS7kyhmTuK0TC6aedzQOHGr2ZVBLFtXNzazNPsYlA7q+SvP+g3l4a+o4WNJCdHTPJx4LIU4WclBxGBprIMA6KyB0RXea+kopSUlJ4fe/N/+UDVNHjn379jFmTM8aUicnJxMbG0u/fra5790elcCULgm/9UPqPp+JZqDtl3fXD0zgkXE6UiuSgXhe/mU/zQbJ4u15lNc1EuXnxtOXJfLHUf2I8O14McW6ylK2vnUHhqxVPP9BBTfccAOXP/a61f4e9qbOZwCJtevxrGzhh9SCLicwKSVlh9NBB9XOQWZbrVcf5Mm67GPw7TxjFeLc5WY5rjnp9Xq+/PLLLj3n8OHDVFRUmLWAw6RtS6meJLC6ujrWrFnDvHn2NQdPJTClS8Lix2AYUMIYB9u/dYRGQ3ZTIP01h0gM9eZfazJw1mq4enAEt14UzeT+QWg0HQ/JNDfWs/mdu4kp+IpJ7pIdXt7s3bKUxFEXRueNjjgPnsNDT/1CwnQDP6Yd4d9yeJeGtvJKaiiuM7C8JggCzPdpXR/oyeLteTR5hON4aJ3ZjmtOer2e0tJSTpw4gb+/f6eeYyqysEQCCwsLw9vbu8f3wdauXUt9fb1d3f8ClcCUbtDYQfIyaQweTnjdMl69SEee0yiuHhyOj+vZK6QMBgPLP32bAbueYLxnC6lNLhQP/jvDZ//ZSlHbt/6TrufdXXcyZWwxeQ2OpBVVEN/Hu9PP35p3gt3NEVz+tYGH/jjEbHGZKhFPOAYTUlVkbCul1Znt+ObQtqlvVxNYfHy82eMRQphlbbDk5GR0Oh0TJtjXh7sLcJBfOZ8Ej7oKAJf077l9TMxZk5c0GFj70xeMHDmSK2+5h/xqR7b2u5/4BYUMVsnrJJ1OxyWjBhKa+xNAl6sRtx4qwVULzcUHzVLAYWJq6nvI4A9IKDdf02Fz6U4lYkpKClFRUXh6WmbJHnO0lEpOTmby5Mlma3NlLiqBKb1azJjZHK+F4qxdZ90vbcXH7H4gguhfb6Oq7Dj/ff8jxr1dyKibnkJciMUa5/DC+CYeDt/D0DCfLnfl2Jp3go1eL7PkKmezJjBTU9/9DT7GB+xwXbCoqCgcHR27lMBMFYiWkpiYSE1NDbm5ud16fk5ODllZWXY3fAgqgSm9nIOjE3ekj+Oxn463uz1n6zK2PBDDoM33EO5cRU7w5aSk7uPmm2/GwaH9akQFmoOS0PsJJgY0sfngCU5U13fqeY3NLew6XEpfUUx5vTRrAjM19d1YHQDXfADBlvul311arZaYmJhOJ7D6+noyMjIsmsBMhRzdHUZcvtxYLKMSmKJYwNjxk8jMzOTo0d/aC+Xn5/PkvKuIWnY9A3XHWCPGonv4ABP/bwnOrva3IKK98U+aDkBCxWakpNNdOVKOlOPaUoWXqKW4yR0vLy+zxqUP9GT38RYYdBW4B5r12ObSlVL69PR0WlpaLJrABg0a1KOWUsnJyURHRxMTE2PmyHpOJTCl15s6chBr57qS89O/KTmcwaKH59C/f39e+mgZPzReRNNdO5j0xDI8/Lo+n+lCFTpiFgBeRzYS4unS6ftgW/NOEONgvBpu9gw3e1z6IE8yj1Uhj+yCg/ZZiRgbG0t2djYtLeeeBG7JCkQTFxcXYmNju5XA6uvr+fXXX+3y6gtUAlPOAwmjJjE0xIGAtEU4vjOC6xx+5rabriczM5MrX/gZv/BYW4fY62jc/DhS54xXdTaXxfdheXohjc3n/oW89VAJI9zLAHAK7nkLqdPFBXlS09hM/cpnYYXtWpmdjV6vp6mpqVPLmKSkpKDT6Sx+ddPdSsT169dTV1enEpiiWIqjzpX0Wl9ivZrYXx/IiSs/4+3/fkREhP21G+pNfnK8gju/OsG0/v5U1TezPqf9+4xtbc07gZNvFG9ua8QvZqjZYzL1RDzhGGyXRRzQtaa+KSkpDBo0yOL3Y5OSkjh48GCXW0olJyfj7OzMpEmTLBNYD6kEppwXIu7+nuxp/2P0gmyiR11q63DOCyEjZ5Nb2ox39RGctRp+SD17NWJZbQOZx6qocY3knmX19B9gvs7qJqZS+nwZAPUVUF9u9nP0VFcSmKUrEE1M5+jqVVhycjITJ07E1dXVEmH1mNkTmBDCQQixWwjxo7mPrSgdCYpOImbM5bYO47wyemg8fxrhSPH2pUzVB/PDviMn14Nrz7a8EgD6VGWg1WCWLvSn69Pa1DfdVEpvh6sz+/v74+vre86mvsXFxRQXF1slgbVtKdVZeXl5HDhwwG6HD8EyV2D3AukWOK6iKFYUEBjMv2a64Jb/K7PiQ8k9Uc2B4o6HoLYeKkEIeKj6n7x7hTuhoaFmj0kIgT7Qk51VrQuN2uG6YGAs5DjXFVhqaipg2QIOk9DQUHx9fbt0BWbP5fMmZk1gQogw4DLgv+Y8rqIoNuDowuEGT/wb85kVb0xGZxtG3Jp3gtFBWtw1DVQ5BqCx0ARxfZAnq0o84daVED3ZIufoqc6U0ltiEcuOmFpKdeUKLDk5maioqJPdReyRud9hrwMPA93vWaIoit2o9OxPgm8TjvWVJIX6dFhOL6Vka14JM0OME54N3n0tFlNckCdZZc3UBg0FZ8u0X+opvV5PYWEhVVVVHe6TkpJCSEgIAQEBVokpMTGR1NTUTpX3NzQ0sGrVKmbOnGn2NcrMyWwJTAgxCzgmpdx5ln3uFELsEELsOH783BVNiqLYlmvMWHxcBGnrf+DyhFA25p6gpLrhjP1yT1RTUtPASLdS4/PCLXdVYSrkKNr1A6R8YbHz9ETbpr4dSUlJscrwoUlSUhK1tbWdaim1ceNGampq7Hr4EMx7BTYWuEIIkQd8BkwRQvyv7Q5SykVSyuFSyuHW+tShKEr3hY26EoOUFKWuYVZ8KAYpWZ5+ZleOrXknAOhTlwNAoH6kxWIydaV3SlkM616y2Hl64lwJrLm5mf3791tl+NCkK4UcycnJODk5MXmyfQ7RmpgtgUkpH5NShkkpo4DrgV+llH8w1/EVRbE+l/DBTPipLx9tOc6ICD8CPXT8kHrmMOLWQyW4OjlQIPtw97I6Ygda7srC1NT3sAyA8nzj4pZ2Jjo6GiFEh/fBsrKyaGhosOoV2MCBA3FwcOh0Ahs/fjzu7u5WiKz71DwwRVE6pnEgfthFbN++HZBcNsjYlaOp5dSksTXvBMMj/NhyqIF3drRYtLOEi5OWCB83Yyl9SyNUHT33k6xMp9MRFRXVYQKzRgup9mLS6/XnrEQ8fPgwaWlpdj98CBZKYFLKNVLKWZY4tqIo1vW7RE8+ubSRzPQ0Lk8Io6KuiQ05x05ub2hqYXdBGaOi/BD5mxgaF4lOZ9mFJuOCPNld3VrAYccdOc6WwLRarVm79XdGZyoRe0P5vIm6AlMU5awG9gvjcr0jWRu/Z1pcME5azSnViHuPlNHYbGBcHyeeitrGXRdZvjJQH+TJhtLW7hB2OhdMr9eTmZnZ7uTvlJQU4uLicHY+++rh5paYmMihQ4coLy/vcJ/k5GTCw8MtMhHd3FQCUxTlrPqMMHY4qc5Yi7uzI5P7B51yH2xraweOEe7lADj4W37ZDX2gJ/vqvSmauxMSr7P4+bpDr9dTU1NDYeGZRS/WrkA0MRVymCZRn66xsZFffvnF7svnTVQCUxTlrBx8oyhv1OJWfgCAWfGhZB2vIrO1K8fWQyfo4+WCpsh4b8UjarDFY4oL8qQFB/bXuYOwz19jpgnApw8jlpeXk5+fb9UKRJNzVSJu3ryZqqqqXjF8CCqBKYpyLkJw1KEP/XTl1NfX/9aVo3UYcWteCaOi/Kk4uAuAkIEXWTwk01www97PYePrFj9fd3TU1Hffvn2AdQs4TEJCQvDz8+swgSUnJ6PVapkyZYqVI+selcAURTmn5rCLKK42sHvXDqL83IkP8eLHfUcoqW4g+3gVo6L8aCrOpKDSQOygwRaPx9TU17NwA2xdaPHzdUdoaChubm5nJDBbVCCamFpKdVSJmJyczLhx4/D0tM8OJ6dTCUxRlHPynfUUF39cy7btxkY7lyeEsT7nGCsOFAEwKtKfL46EcP9qZ/z8/Cwej6mpb0ajL1QVQXO9xc/ZVUIIYmNjz5jMnJKSgo+Pj0WaHXdGUlJSuy2ljhw5QkpKSq8ZPgSVwBRF6YQ+ffoQFhbG1q1bAON9sBaD5NnlqWiEYHikL7+mFlLsPtBqMemDPNlT4wFIKD9stfN2RXtd6U0FHLYqkkhMTKSuro7s7OxTHv/555+B3lE+b6ISmKIonfLVHGeuc1wFwKgoP/zdnUk/WsmgEC/cRSMJMo3RA623CrY+yJNtFR7GH+x4LlheXh4NDcb+kQaDwWqLWHbEVMhx+jBicnIyoaGhxMfH2yKsblEJTFGUTvHy9SfJt44TJ07goNFw6cA+gDGZleVs5+1pLYzr62K1eOKCPDlo8EcKB6ixz+bger0eg8Fw8monLy+P6upqmyawgQMHotVqTynkaG5uZuXKlcyYMaNXlM+bqASmKEqnaCNHE+WtYc/GlYDxPhjAqCh/itM3A+ATPdRq8egDPSk0ePHVpdsh6QarnbcrTm/qa5p/ZYsSehNnZ2fi4uJOSWCbN2+moqKiVw0fgkpgiqJ0Up8Rxu5wxbuTAbgiIZSXZg/muqGRVB8y/jIMT5xotXj6B3oAgvTjtVY7Z1edPhcsJSUFIQSDBg2yZVgkJiaeMoS4fPlyHBwcmDp1qg2j6jqVwBRF6RTXfqNpkcARYyWik9aBh6cNwkPniCzJobBKEh6tt148Tloifd2IyF4Myx6y2nm7wsPDg5CQkFMSWHR0tM27vCclJZGfn09ZWRlgvP81ZswYvL29bRpXV6kEpihK5zi5s6o6lhV7C8/o7+daf5TCeh0ODg5WDUkf6IlbRTak2ufClnBqU19btZA6XdtCjqNHj7J79+5eN3wIKoEpitIFh/R38vH2cnJyck55/LbljnxSYblFLDtiLKX3gvoKqC+3+vk7w5TAamtrycrKsosEZoohJSWlV5bPm6gEpihKp40cOZJgd8HOzWtPPlZfX8/29EP4RA+3ejxxQZ4caPAx/lBmv6X0paWlrFu3DimlXSSw4OBgAgIC2Lt3L8nJyQQHB5+8KutNVAJTFKXTBvlD0UMe1KV8f/KxQ3vX88hYLUOig6wejz7Ik1yDv/EHO15WBeCrr74CbFuBaGJqKbVr1y5WrFjR68rnTVQCUxSl07TBA2loETgd/205jtJ9v/CPqTr0EQFWj0cf6MnBFj+qnIOgpcnq5+8MUyXit99+i6urK/369bNxREaJiYns3r2bsrKyXjl8CCqBKYrSFQ6OFBFIhPYEjY2NANQdSQMgIsl6JfQmod4uNDt68njMEki4xurn74yoqCgcHR0pLS0lISEBjcY+fu2ahgw1Gg0XX3yxjaPpHvt4JRVF6TWaAhIYGizYu9u4fIqmPI9jtQJXb+tfgQkh0Ad5ktG6Npk90mq1xMQYF/m0h/tfJqYENnr0aHx9fW0cTfeoBKYoSpf4xF+Mq6MgZ8uPAHg2H6e42cNm8cQFeTL52BL41D5XZobf7oPZUwIbMGAAAQEBXHvttbYOpdu0tg5AUZTexW/Yldzz5BM098vmWoMBf20dRc7hNotHH+SJQ3oZMmc9QhrscoVme0xgTk5O5OXlodPpbB1Kt9nfv7SiKHZNeIaQ7zOGXzfvpqCggL6vV5EWfpPN4tEHepDT4o9oaYCqozaL42wmT55MREQEgwcPtnUop3B1dbWbe3Ld0XsjVxTFZmaMjCVRm8vmzZsxSIgeONhmscQFeXGwpXURTTtdVmX69OkcOnSo16x03FuYLYEJIcKFEKuFEPuFEGlCiHvNdWxFUezLjJBSPr3GhX3f/5u3L9MxIDLQZrH0D/Sw+7lgimWY8wqsGXhQSjkQGA38WQhhveVZFUWxmsAhM9FqBCPFHu4a4URAcKjNYnF10iI9w8h0HgBObjaLQ7E+syUwKWWRlHJX6/dVQDpgu3e1oigW49Z/PACXx2opadAidLYdGusX5M/vxZMw4AqbxqFYl0XugQkhooAhwFZLHF9RFBtzD6Kk2bj6cqn0snEwxkrEjGOVZ3TJV85vZk9gQgh34GvgPill5Wnb7hRC7BBC7Dh+3D6XAFcUpXMq3IwtkerdbD/Qog/04BGHb2h+a5StQ1GsyKwJTAjhiDF5LZZSfnP6dinlIinlcCnl8IAA68/aVxTFfAxTnqSiXuIWYfsu5nHBXjSjQVuSCc0Ntg5HsRKzTWQWxlbG7wHpUsoF5jquoij2KWbkdE70y6Wfn5+tQ0Ef6MlHLf4IJFQcBr8YW4ekWIE5r8DGAjcBU4QQe1q/LjXj8RVFsTP+/v5gB8twhHq7cFTTupyLKqW/YJjtCkxKuQGw/TtZUZQLjhACjV9faEAlsAuI6sShKMp5wS8wnO/kReAdaetQFCtRCUxRlPNCbLA3V5XcRF3kZFuHoliJSmCKopwX4oI8kRKyi47ZOhTFSlQCUxTlvKAP8uRVt6/QL1ZzwS4UKoEpinJe6B/gSZHBC6emSqgvt3U4ihWoBKYoynnBzVlLlUsf4w9l9rmsimJeKoEpinLe0PhGGb+x03XBFPNSCUxRlPOGR3AsAFLNBbsgqASmKMp5IyIkhOdrplPiNcjWoShWoBKYoijnDX2QJ4/XzibVcRAYWmwdjmJhKoEpinLeiAsyrk12NDcF3h4FBdttHJFiSSqBKYpy3gj1dsHNSUtWaSMYmuHj2XBwra3DUixEJTBFUc4bQggGh/nw2u46Vo35ELwjYPEcyFxu69AUC1AJTFGU88rHN19EpK8b0z5K459hLyMDB8LnN6orsfOQSmCKopxX+vl7sOnBS/jDiL48siKfa5v+j/qht0PYCFuHppiZSmCKopx3XJ20fHTTRbw5ZzjfZVQQv30MKccaoKESUj63dXiKmagEpijKeUkIwZ8n6ll73zRqG1sY/crP7P36Bfj2TljzIkhp6xCVHlIJTFGU89qYfgHsenQmIyL9GLZpAFu9p8PaF2Dl4yqJ9XIqgSmKct4L9nThl3um8pfJg7go63K+cpwBm9+EH+9VE557Ma2tA1AURbEGRwcNC64exshIP25ZouWImwPzDyzHefLfwD3I1uEp3aCuwBRFuaBcPzyKrQ/N5C3t9UQUPMS/d5QhDS3Q3GDr0JQuUglMUZQLTnwfb7Y/PIPRA/Xc+9VOVrx+Cy3/uwYaq20dmtIFKoEpinJB8nJx4ts7JvDcrCSWFPrAofXUvX+FWs25FzFrAhNCzBBCZAghsoUQj5rz2IqiKOam0Qj+NiOe39/6GLfWz8fh6B4q3r0Eao7bOjSlE8yWwIQQDsBbwExgIHCDEGKguY6vKIpiKdMH9uGpBx/nfqf/w7E8l6K3ZmBobrZ1WMo5mPMKbCSQLaXMlVI2Ap8Bs814fEVRFIvp6+/OKw/9H6+HvsAdR6cxa9F6SmtUYYc9M2cZfShwuM3PBcAoMx5fURTFolyctDx2++0s3JDFX77ayfP//Bu/88pDtvmsX+wUSrLPdQBcVfI+ns3lpxyjwLkvv3j/DoDrji/ExVBzyvaDOj1rvS4D4Mbjb+JoaDxle6ZLAps8pwHwx+IFZ8S433Uo2zwmoTU08ofjb56xfa/baHa7j8GlpZrrTiw6Y/sO9/HscxuBZ3MpV5V8eMb2zR5TyXBNwq+pmMtLF5+xfZ3XTHJ1AwhqPMzMsi9PPr7NYyJzrv4jEb5uZzzHUqw6D0wIcSdwJ0BERIQ1T60oitIpQgjmj49laLALLp++jF9l2SnbK2UJK45OAOAOhz1EiFPvlx2V1awoGg3AvQ678BeVp2zPLW9iReFQAB7V7sCNU6/yUssdWHEkHoBntWcuyLm13JUVBj0uNPBkO9vXlHuzwtAXfyr4azvbfyoPZoUhjAiO8X/tbP+yLJIVMpA4DnNfO9s/KotlhfRmiMjjboffti8t60NVQ9MZ+1uSkGZqpSKEuAh4Sko5vfXnxwCklC+0t//w4cPljh07zHJuRVEU5fwghNgppRzemX3NeQ9sO9BfCNFXCOEEXA8sNePxFUVRFOUksw0hSimbhRB3Az8DDsD7Uso0cx1fURRFUdoy6z0wKeUyYJk5j6koiqIo7VGdOBRFUZReSSUwRVEUpVdSCUxRFEXplcxWRt/lEwtxHDhkhkP5AyfMcBxbULFbX2+NG1TsttJbY++tcUdKKQM6s6PNEpi5CCF2dHbOgL1RsVtfb40bVOy20ltj761xd4UaQlQURVF6JZXAFEVRlF7pfEhgZ3ar7D1U7NbXW+MGFbut9NbYe2vcndbr74EpiqIoF6bz4QpMURRFuQD1mgQmhJghhMgQQmQLIR5tZ7uzEOLz1u1bhRBRNgjzDEKIcCHEaiHEfiFEmhDi3nb2mSSEqBBC7Gn9esIWsbZHCJEnhEhtjeuM5QOE0b9bX/cUIcRQW8R5Wkz6Nq/lHiFEpRDivtP2sZvXXAjxvhDimBBiX5vHfIUQK4UQWa1/+nTw3Fta98kSQtxivahPnr+92F8WQhxofT98K4Tw7uC5Z31vWVoHsT8lhDjS5n1xaQfPPevvI0vqIO7P28ScJ4TY08Fzbfqam52U0u6/MDYHzgH6AU7AXmDgafv8CXi39fvrgc9tHXdrLCHA0NbvPYDMdmKfBPxo61g7iD8P8D/L9kuBZEAAo4Gtto65nffOUYxzS+zyNQcmAEOBfW0e+yfwaOv3jwIvtfM8XyC39U+f1u997CD2SwBt6/cvtRd7Z95bNor9KeChTrynzvr7yNpxn7b9VeAJe3zNzf3VW67ARgLZUspcKWUj8Bkw+7R9ZgMftX7/FTBVCCGsGGO7pJRFUspdrd9XAekYV68+X8wGPpZGWwBvIUSIrYNqYyqQI6U0x6R5i5BSrgNKT3u47fv5I+DKdp46HVgppSyVUpYBK4EZloqzPe3FLqVcIaVsbv1xCxBmzZg6q4PXvTM68/vIYs4Wd+vvvGuBT60Vjy31lgQWChxu83MBZyaBk/u0/uepAPysEl0ntQ5rDgG2trP5IiHEXiFEshBikHUjOysJrBBC7GxdUft0nfm3saXr6fg/s72+5gBBUsqi1u+PAkHt7GPvrz3ArRiv0NtzrveWrdzdOvz5fgdDt/b8uo8HiqWUWR1st9fXvFt6SwLr9YQQ7sDXwH1SysrTNu/COMSVBLwBfGfl8M5mnJRyKDAT+LMQYoKtA+qs1oVVrwC+bGezPb/mp5DGsZ9eVy4shPgb0Aws7mAXe3xvvQNEA4OBIozDcb3JDZz96sseX/Nu6y0J7AgQ3ubnsNbH2t1HCKEFvIASq0R3DkIIR4zJa7GU8pvTt0spK6WU1a3fLwMchRD+Vg6zXVLKI61/HgO+xTh80lZn/m1sZSawS0pZfPoGe37NWxWbhmJb/zzWzj52+9oLIf4IzAJubE3AZ+jEe8vqpJTFUsoWKaUB+E8HMdnl6976e+8q4POO9rHH17wneksC2w70F0L0bf1UfT2w9LR9lgKmKqxrgF87+o9jTa1j0u8B6VLKBR3sE2y6XyeEGInx38XmyVcI4SaE8DB9j/Hm/L7TdlsK3NxajTgaqGgz9GVrHX4atdfXvI227+dbgO/b2edn4BIhhE/rUNclrY/ZlBBiBvAwcIWUsraDfTrz3rK60+7f/o72Y+rM7yNbuBg4IKUsaG+jvb7mPWLrKpLOfmGsdsvEWP3zt9bHnsH4nwRAh3GoKBvYBvSzdcytcY3DOPyTAuxp/boUmA/Mb93nbiANYzXTFmCMreNujatfa0x7W+Mzve5tYxfAW63/LqnAcFvH3RqXG8aE5NXmMbt8zTEm2SKgCeP9lNsw3r9dBWQBvwC+rfsOB/7b5rm3tr7ns4G5dhJ7NsZ7RKb3u6k6uA+w7GzvLTuI/ZPW93EKxqQUcnrsrT+f8fvIlnG3Pv6h6f3dZl+7es3N/aU6cSiKoii9Um8ZQlQURVGUU6gEpiiKovRKKoEpiqIovZJKYIqiKEqvpBKYoiiK0iupBKYoiqL0SiqBKYqiKL2SSmCKoihKr6QSmKIoitIrqQSmKIqi9EoqgSmKoii9kkpgiqIoSq/0/7avMBopz3kyAAAAAElFTkSuQmCC' width=432.0/>\n",
       "            </div>\n",
       "        "
      ],
      "text/plain": [
       "Canvas(toolbar=Toolbar(toolitems=[('Home', 'Reset original view', 'home', 'home'), ('Back', 'Back to previous …"
      ]
     },
     "metadata": {
      "application/vnd.jupyter.widget-view+json": {
       "colab": {
        "custom_widget_manager": {
         "url": "https://ssl.gstatic.com/colaboratory-static/widgets/colab-cdn-widget-manager/a8874ba6619b6106/manager.min.js"
        }
       }
      }
     },
     "output_type": "display_data"
    }
   ],
   "source": [
    "fig, ax = plt.subplots(figsize=(6, 3))\n",
    "ax.plot(x_noise, \"k\", label=r\"$x$\")\n",
    "ax.plot(shifted_back_noise_adj, label=r\"$L^T L x$\")\n",
    "ax.plot(shifted_back_noise_lsqr, \"--\", label=\"$L$ \\ $x$\")\n",
    "ax.legend(loc=2)\n",
    "fig.tight_layout()"
   ]
  },
  {
   "cell_type": "markdown",
   "metadata": {
    "id": "WhnFbg2erEbS"
   },
   "source": [
    "Here we can see that\n",
    "1. Both the least-squares solution ($L\\backslash b$) and the adjoint ($L^T b$) sets unknown values to be zero (or very close to zero)\n",
    "2. The adjoint solution does not recover the exact values where we did not lose information. This does not happen to the least-squares solution.\n",
    "   \n",
    "The first observation can be explained by the nature of adjoint operator, which pads elements with zero. The least-squares solution does not deviate substantially from this in the null space. Importantly, however, the least-squares solution recovers the signal exactly outside of the null space.\n",
    "\n",
    "In PyLops, when we call the division operator, we are actually calling an iterative least-squares method — the favored approach when you do not have matrices. There are many other solvers available, some of them showcased in the [previous presentation](https://github.com/PyLops/pylops_transform2022/blob/main/Decon.ipynb). Find more about them here: https://pylops.readthedocs.io/en/latest/tutorials/solvers.html\n",
    "\n",
    "\n",
    "For this small operator, we can compute the matrix and use a dense solver to obtain a solution. In large problems, we would not have this choice!"
   ]
  },
  {
   "cell_type": "code",
   "execution_count": 25,
   "metadata": {
    "id": "ko4ykssNrEbT"
   },
   "outputs": [],
   "source": [
    "from scipy.sparse.linalg import lsqr\n",
    "\n",
    "L1D = LOp1D.todense()\n",
    "\n",
    "shifted_back_noise_dense, *_ = np.linalg.lstsq(L1D, shifted_noise, rcond=None)"
   ]
  },
  {
   "cell_type": "code",
   "execution_count": 26,
   "metadata": {
    "colab": {
     "base_uri": "https://localhost:8080/",
     "height": 17,
     "referenced_widgets": [
      "501f7173ad144e3eaf871debccb3558e"
     ]
    },
    "id": "y8QprXdJrEbT",
    "outputId": "9c61f5ee-c4c8-407d-dd20-220a74bd8f5a"
   },
   "outputs": [
    {
     "data": {
      "application/vnd.jupyter.widget-view+json": {
       "model_id": "501f7173ad144e3eaf871debccb3558e",
       "version_major": 2,
       "version_minor": 0
      },
      "image/png": "[encoded data removed]",
      "text/html": [
       "\n",
       "            <div style=\"display: inline-block;\">\n",
       "                <div class=\"jupyter-widgets widget-label\" style=\"text-align: center;\">\n",
       "                    Figure\n",
       "                </div>\n",
       "                <img src='data:image/png;base64,iVBORw0KGgoAAAANSUhEUgAAAbAAAADYCAYAAACKnrapAAAAOXRFWHRTb2Z0d2FyZQBNYXRwbG90bGliIHZlcnNpb24zLjUuMSwgaHR0cHM6Ly9tYXRwbG90bGliLm9yZy/YYfK9AAAACXBIWXMAAAsTAAALEwEAmpwYAABXA0lEQVR4nO3deXiU1dn48e+ZLZNtsu8BEgKZACFhFURBFlFxr7svta3WCra2avVX9W3ftra1dnGrrWvrVotatWoVDYIKCqjskLBlAbJByL7OZDLb8/tjMhggCVmeWQLnc11cJDPPcjNM5s45z/3cRyiKgiRJkiSNNJpAByBJkiRJQyETmCRJkjQiyQQmSZIkjUgygUmSJEkjkkxgkiRJ0ogkE5gkSZI0IskEJkmSJI1IMoFJkiRJI5JMYJIkSdKIJBOYJEmSNCLpAnXi+Ph4JSMjI1CnlyRJkoLQtm3bGhRFSRjItgFLYBkZGWzdujVQp5ckSZKCkBCiYqDbyilESZIkaUSSCUySJEkakQadwIQQLwoh6oQQu3s8FiuEWCOEKO3+O0bdMCVJkiTpeEO5BvYy8Dfgnz0eux/4VFGUPwgh7u/+/r7BHtjhcFBdXY3NZhtCWGcuo9FIeno6er0+0KFIkiT5zaATmKIoXwghMk54+ApgfvfXrwDrGEICq66uJjIykoyMDIQQg939jKQoCo2NjVRXV5OZmRnocCRJkvxGrWtgSYqi1HR/fRRIGspBbDYbcXFxMnkNghCCuLg4OWqVRrTmkq/ZvfIZFLc70KEc09LSwnnnncfXX38d6FCkPqhexKEoigIovT0nhLhNCLFVCLG1vr6+1/1l8ho8+ZpJI926XQfZb0vA0dUZ6FCOee655/jiiy8oKCgIdChSH9RKYLVCiBSA7r/rettIUZTnFUWZoSjKjISEAd2nJknSGcAlDABYbPYAR+Jht9v5y1/+AkBxcXGAo5H6olYCex/4bvfX3wX+q9JxJUk6g1jamgMdAgCvv/46NTU1xMXFyQQWxIZSRv868BVgFkJUCyG+D/wBWCyEKAXO7/5+xFqwYAFr1qwB4Be/+AU//vGPAxyRJJ2+3I6uY19b9n8WwEg8FEXh0UcfJTc3l6VLl1JSUoLnyogUbIZShXhjH08tGmYsx7nrrrvYuXOnmodkypQpPPHEE6fc7sEHH+SXv/wldXV17Nixg/fff1/VOCRJ+oatqRqtuwuXJoQI25FAh8OaNWsoKiri5ZdfxmKxYLVaOXz4MOnp6YEOTTpBwHohBrN58+ahKAqPPfYY69atQ6vVBjokSTpthSVlceU1mSh/Pw9NeHygw+GRRx4hJSWFG2+8kfXr1wOe62AygQWfoE1gAxkp+UpRUdGx+e/IyMiAxSFJZwqh0SBix+I8ui+gH0q7du1izZo1PPzwwxgMBsxmM+BJYIsWqTrJJKlA9kI8QU1NDUuXLuW///0vERERrFq1KtAhSdJprfSTl9nx3t/YYzyL/yb/FMXlDFgsjz32GOHh4SxbtgyAtLQ0wsLCKCkpCVhMUt9kAuvBarVy1VVX8eijjzJhwgT+7//+jwcffDDQYUnSaa2zoYoOq43EzAlMiuzA7ew69U4+UF1dzWuvvcatt95KTIynnasQguzsbFmJGKSCdgoxEMLCwvjqq6+OfT9v3rzjvpckSX159e9C8mTIvZeE3IUBi+Ovf/0rbrebO++887jHzWYzmzdvDlBUUn/kCEySpMBxO6GlAlt4Gps3bcJ6tAxbY7Xfw2hvb+e5557jmmuuOamnqNlspry8XLZrC0IygUmSFDCWmlJWZ/6Sj3a3MH/euXy0fjsHvv7Q73G88MILtLa2cu+99570nNlsRlEUysrK/B6X1D+ZwCRJCpj21ibajGnsO9xCp92Jwd6MpdO/Ix2n08njjz/OvHnzmDlz5knPeysRZSFH8JEJTJKkgOkweBaueO/LUpKTk3F31NFs9W8V4ttvv01lZWWvoy+A8ePHA7InYjCSCUwKmB1vPIT9l1E0Vu4PdCg+4Xa5+Pq9v9Nl7Qh0KEGro6MDrVbLzp07ufnmm9E4rHTpTBw6dMgv51cUhUceeQSz2cwll1zS6zYmk4mUlBSZwIKQTGBSwISXvY8rJJr9a14JdCg+sfZff6LaGcMrL7/I1q1bAx1OUOo4sIlQRxNOp5OcnBxGpaVgN8Rw909+5Jf+g1988QXbtm3jpz/9KRpN3x+HZrNZJrAgJBOYFBBul4v9WbfxoflRmk/T4q5OqwWdy4o+NJKysjL+8/SDdHVaAh1WULE4wGBrACAnJ4fYcTMA2FW4izfffNPn53/kkUdISEjgpptu6nc7s9ksr4EFIZnApIDYvm0Ldn0U7vpiVq/fEuhwVOdyOnBFZ6JrLuPCCy/EUleBkjiJr5/5ISUb5GpDAG6nnQ5tFPbOdsCTwMJTsgGYOesc7rzzTpqbfbe8yr59+1i5ciV33HEHoaGh/W5rNptpamqioaHBZ/FIgycT2AC99NJLLF++nMzMTJYvX85zzz0X6JBGtO07CwHYuL+Ov735GU1NTQGOSF2F697FoY8iRK8jNTWV7//kPuKsZWQ3fEzG6pv49OHrzvjRWGfdIRSho76+kdTUVEwmE+FhnkTy41tuoL6+ngceeMBn53/ssccwGo3cfvvtp9w2O9uTWINhGvGPf/wj9913X6DDCAoygfXiueee40c/+tFxj9188838/ve/Z+HChTz77LMsW7as1+2kgdHZ22isr+WqK6/g2+fnse2TtwMdkqpqSnYAMHHuFcceW/Cd+zHc/jlbLWm4R53Nxy//iaKiokCFGHDttZ5CjT0HqsjJyQHAaAxF47Zjstdw11138dxzz7Fx40bVz11bW8urr77K9773PQayOnzPpr6B9sorr/DCCy/INcqQCaxXRUVFTJ48+aTHt23bxvTp00+5ndS/9qZaohPTSHdXM2NaPlfeeh/2ev9UnfnLU+99xdYPXiQtO/+4x+NGmZnz6D60bjuffraW6dOn8/vf/faMHI1pdQYSXTWs/nLXsQQmNBqmtX/CKNs+HnzwQUaPHs2yZcuw2+2qnvupp57Cbrdz9913D2j7jIwM9Hp9wBOYzWajuLiYxsZGjhwJ/NppgSYTWC8KCwsHlMD62k6u6Ny/Hatfx63RY0pIJTwqDkN7BUpY4NeBUktraysff7YBTdpUdlQ10Wk/+b6mhd+5j/975h2uvvpqIlt2s+aNZylc957/gw2ghMkLGT/vGnaUVB9LYAAZoe3ENu8kIiKCp556ij179vDII4+odl6r1cpTTz3FFVdccWxq8FR0Oh3jxo0LeCHH3r17cbvdgOfz50wnE1gvdu/eTW5u7kmP79q1i7y8vFNu9+CDD/LQQw+xYsUKduzYEdC1zYJRW2MtGredqYtvAEB0tWKLGEVzbVWAI1PHlg9e5PG7riZq4kym/bGA+Pvf5ornPufvG8uoae08tl18fDyvv/46k/Kn4zLGUlbXyYdPP3DGjMYUt5v9+z33AE6YMOHY47aocdTaQgC49NJLufrqq/ntb3+rWiunl19+maamJu65555B7RcMpfQ9k9auXbsCGElwCNpu9He9vZWd1epWIE1Jj+GJa2b0u01VVRWRkZFERUWd9Nzrr78+oO3kis6nEJmCofUgETGeaw9RCWl0Cg27173L3Ot/EuDghs/RcIBRMy7mny0RJEW6uGbqaD4oqub9Ik+T2umjYrlschqX5qYxbVQsC2/6GTUH97B99Zt0Jk5nzRvPMjpzHHnzrzjFmUa2T958DmGpAzhuBFapH09h2nQub6vDYErkySefZPXq1dx+++2sXr0aIcSQz+lyuXj88ceZNWsW55xzzqD2zc7O5sMPP8TpdKLTBeajs6ioCKPRSEJCgkxgyBHYSQZ6Xau/7bwrOhsMBrmi8wkO7d6MLSwVreubkUju/KsQipO2hpoARqYOxe0m//C/iNv6Jz7cX8+NMzL423UzKf/NlRQ+cDG/vywfg07DgwVFzPjTKtJ/8S63vbaJrZYoFtzyf8R1HsBpjGXvUStPP/00XV2BWRvL59wuUls2Y2+sJDw8nI21Ts557GPcboX0vHmclxOLNiQCgNTUVB5++GE++eQTXnvttWGd9v3336esrIx777130InQbDbjcDgoLy8fVgzDUVhYSG5uLlOnTpUJjCAegZ1qpOQrfV3XGuh2PVd0/slPfsKqVau46KKLfBHqiPTp14U88pv7ePs/39wLFZ2QSmPdUWyu5ABGpo4DX3/IuAiFj3XnYK9xc8P0MYBnYcTJaTFMTovhgQtzqW+38dGeI6zcc5g3tpfz9y/LMOq1LMo+iwtGG3CUbWdMWgr/eeVpcrMzyZt/ZWD/YWprq2ZS7TusKcskJyeHt3ZU8uXBBqpaLIxJHkdY8rjjNl++fDmvvvoqd999N0uWLCE2NnZIp33kkUfIzMzkW9/61qD37dnUd9y4cafY2jcKCwu59NJLSU1NZeXKldhsNoxGY0BiCQZyBHaCoqIinn/+eTIyMsjIyODss88e8HZyRedT+/jjj+lwhzJpxvHTNzaXhsTEJDo6RnbfwNKdG1k/+i4KDHPJjIvgrDFxvW6XEGnku7PH8tb359Lwh2tYc8dCbjtnHHuPtnFnQTn3lsbyzoF2wiOjaT24lU9/cymOrs5ejzUSOesP4NAY+bK4jpycHDaVNwJQXNuO4nZT9eXbNO7bcGx7rVbL888/T1NTEz/72c+GdM6vvvqKL7/8krvvvntI0/qBLqWvra2lrq6OyZMnk5+fj9vtZs+ePQGJJVjIBHaCFStW0NjYSHl5OeXl5X2uyNzbdt4VnRcvXgzIFZ1PZLd1cv2cTO777hKEEKwsqib5gf9Q29bJuPR4dDodOz99K9BhDku7JppmTSzvVGm5YfqYAU1TGXRazs9J4S/XzODAry9nz88v5Y9XTKHKkMY9W+0crdjBImU9O34zm9Id6/3wr/C9iqrD/HfCU+yp7SItO5fqFisA+2tbERoNO6osVOzfcdw+eXl53HPPPbzwwgt88cUXgz7no48+SkxMDDfffPOQYo6LiyMmJiZgCcxbwJGXl0d+vuf2jDN9GlHVBCaEuFsIsUcIsVsI8boQ4swd20on2f3pG4QnZTJx/FgA/vTJXmrbbby9o5KzZs0CxU1b1b4ARzl0LS0tuKLGsKU5DJdb4cbu6cPBEEIwMSWKny2exPq7L2DTg9+j65K/8b/KrVizrmTf3r18tmaVD6L3rw5dDBrFxf7qZpTEscceL65tAyBc6cBiP/lG3V/+8pdkZGSwbNmyQV0fPHDgAO+88w633347ERERQ4pZCBHQSkRvAps8eTJjx44lLCzsjC+lVy2BCSHSgJ8AMxRFyQW0wA1qHV8a+dq2/psLSu5jyqJr2H2khfUH6gF4c0cl8WlZZG/9BUllw7tIH0ifr1uHXq+n0B7FxOQoclOjh33MuIgQvn1WJg/96hE+sY+l4GAj59/7OI899hhul2v4QQdIhzYGpyJwuxWa9DHotRomp0ZTXOfpixiudWFRQk7aLzw8nKeffpr9+/fzpz/9acDne/zxx9Hr9dxxxx3DijuQCayoqIiUlBQSEhLQarVMnjxZjsBUPp4OCBVC6IAwQN4qLh0T27yTfa2hxI0az7MbSgnRafjxeWbWH6ijprWTJk0sEyLasHeOzOtg2sObwdXFR1X2AU8fDpQQggdvu4mquFko595E66EtFPzjt7TWH1btHP7U0dZKe3s7Go2G0jaF/LRopqTHsL+2FYCwEB1WjQnFdfJN4EuWLOH666/noYceGtCNxY2Njbz44ossXbqUlJSUYcVtNpupqamhvb19WMcZisLCwuPuQ83Pz2fXrl1ndEsp1RKYoiiHgUeASqAGaFUUZbVax5dGtvqqMipm/Y7D6VfS0eXgn5sPcu3U0Sw/dzyKAu/srESbfRG7M37ArhF4HUxxu1Gi0tG3leNUxLHqQzVpNRrevPU8ZmXGEzFmAp2xE1lf8A4lm0bWj5nidmFpbyW6dQ9js8axvbqZWRnxmBNNHG7ppKPLQURkJG6Nns6Gil6P8cQTT2A0Glm+fPkpP8CfffZZOjs7B33jcm96ViL6k9PpZM+ePSclsObmZg4fHpm/xKhBzSnEGOAKIBNIBcKFEN8+YZvbhBBbhRBb6+vr1Tq1NAJsWv8ZXfpoosfP4rUt5bTbnNw+N5uJKVFMSonizR2VZM27hpqwCVQeGHnrLhVv/oQuYyKH2p1MHxXL+ESTT84TZtDxwbL5PG+Zwsf7D+HSR7CnvJb1bzzhk/P5QmfdIdwaPYcPHyFt8ll0dDmZlRFHTpLnNSupaycsazYAFtH79ark5GT++Mc/snbtWv75z3/2eS6bzcZf//pXlixZwqRJk4Yde6C60peUlGC3249LYN6vz+RpRDWnEM8HDimKUq8oigN4B5jTcwNFUZ5XFGWGoigzBtIBWjp9lNZasFqtTLlwKc9sKCUvLZqzMz39D6+dOpr1B+oQ8Vk88LtHeeHjkfcDWb7LUxX3r6Nx3Dgjw6fnSog0UvDDBbxnyeJvxS701lpqdem8+vxfjvXJC2Yd3V3od+wpxTjGk1RmjYnH3J3A9h9tJTzGc0+gxdr3rQM/+MEPmDNnDvfcc0+f63StWLGC2tpa7r33XlViHzduHEIIvyewngUcXjKBqZvAKoHZQogw4Zn8XwSM3JIySTVul4uIiHAaGxvZcaSdndXN3H7u+GPXiK6dOgZFgf/srGTevPPYsGEDTocjwFEPjlOEEGKrY5s1huumjfb5+cYlRLJy+Xw2tkbwx9qxtFftITQ2jaeffprG+lqfn384OpqOArB1fyXWyFRiwgyMT4xkXEIkQkBxXTvh4eGAgqWy7yo7jUbDc889R2tra68Jyu128+ijjzJlyhQWLFigSuxGo5GMjAy/TyEWFhai0+mOa7llMpnIzMw8oysR1bwGtgl4G9gOFHUf+3m1ji+NXPu//piYmFiyImw8s76EiBAdS2dmHnveO4341o5KLp89jn89/UcK1/4ngBEPjs1mY9umjRQdrmNuVgKjYsL9ct5ZGfG8cfO5fHnYxjuh82hobCI+Po6Nq99l3xfv+SWGoehob0fjdrC3qpEjLiNnjYlDCIFRryUzLoL9ta1oNBpCna1Y6sv7PVZubi4/+9nPeOWVV1i7du1xz61atYp9+/YNqW1UfwJRiVhUVEROTg4hIcdXZubl5ckRmFoURfmVoig5iqLkKopyk6Iop2kjN2kwKoq+BGBU7iz+vb2Cm87KJNKoP26b66aNYf2BOpImzsJuTKD2wO5AhDok69ev59fv7eHnVeO5YXqGX899eV46f7tuBit3H2GnKZ/0ECtaVxfxX9zPzpf/n19jGajkDDPGxiLcWgOHWh3MyvhmKR1zooniWk+F39yuT5nS9ukpj/eLX/yCrKwsli1bhs1mO/b4I488Qnp6Otddd52q8ZvNZkpKSvxa/XdiBaJXfn4+JSUldHaePl1aBkN24uhFfystT5s2DccIm94KNJcmhJDOo3xmTaHL6eb2c8eftM21U0ejKPBVZyIhtjpcmqBt03mSko3vM3HOPLQawTVTfT99eKLb52Zz/+KJPLexjPVhs8ibNY+DR1vIr3iedU/8AEeQ3ZaQmLeId7bVEZ09DbcCszK+abdlTjJRUteG261gio7B0HzqkU5oaCjPPPMMpaWlPPzww4Bn7b61a9dy1113odfrT3GEwcnOzsZisfit+q+lpYXKyso+E9iZ3FJKJrBe9Ndpfs6cOT5Z4vx0ZWltxB49FtF2mGc3lHLO2AQmp8WctN2E5G+mEUXbYVymMbicI+MXhdFjx/PQt6awKDuZxMjANJ956LIpLJ2Zwf9+sIt1rVHk/bGUlc7zaEi/kFf/cCetra0BietEittF476N1JSXEmP2NOzu2S8yJ8lEp8NFVYuFlojx7DHOxNV16vXRFi9ezNKlS3n44YfZt28fjz76KJGRkdx6662q/xv83ROxqKgIoNcEdqYXcsgE1ov+OtIvWbKEVav6buUjV2M+3o41b+DWhGAJiaOsvp3b5548+vLyTiOiC8Ghj2Tvxo/8GOnQVO/5irlHnmNb5RFunKH+vV8DpdEIXlw6mwXZSdzyr6/5strCpb/5L6JuD7c//CozZ85kz84tAYvPq7OhgrV7ajjPHIOSlEVWfATxEd8kfXP37QfFte20hqSxL+EyrHXlAzr2Y489RmRkJEuXLuXNN9/ktttu63W9vuHy971gvVUgeo0dO5aIiIgzNoEF9zzNy5ec/NikK2HmD8BhhRXXnvz8lP+BKUvB2ghvfuf457734YBO29dKy+BJUL/5zW/63PfBBx/kl7/8JXV1dezYsYP3339/QOc8XX21q4ww2wY2Zi4lPsLGNVP6nmK7dupofvVhIQcjJ5GKwp7SCiaf58dgh+DQ6ueZ21XNey2jWJ83KqCxGHRa3rl1HnMfX81Vf/+C9Xcv5uof/opPJi/kf3/yfcr27qJh12rm3fQAQhOY310NbVXMqXiSf31dQtO5V3Fpj+tfwLFS+uLaNhadfQnpCLQhYQM6dmJiIn/+85/5/ve/j06n484771Q9foC0tDTCw8P9NgIrLCwkJiaGtLS0k57TaDRMnjz5jK1ElCOwE/S30jJAWFgY0dHRHDnSe5esnqsxv/HGG2f8asz/ev8zXtvVzpv727hldhYh+r5fjwnJUeSmRPGf2kiam5upaQ/+Xn9ddge7QmeRlTON6DBDoMMhOszARz9cQKRRx8XPrKWq2cLcuXNZ8dZ7iJYK6sPNrH7xd3S1NwYkPl3rIVI7drGjxk6bS3vc9S+AZJMRk1HP/tpWtCHhA05eXjfffDPXX389P/3pTxk1yje/UAghyM7O9msCy8vL67OS0luJeCa2lAruEVh/IyZ9WP/Ph8UNeMTV00BWZL7wwgtZtWoVt9xyS6/719TUEBcXd8avxlxVWsicDCNHJy/G3aqw7NxTLwJ47bQx/PqjQi4bayUhyoTb5UITpL8E2KwdtGdcSE1jBTfOzAh0OMeMigmn4PYFnPv4GpY8vZYNd1/A6HETSUz7X1Y+/QDto+fw2YrHWbL8d36PraHuKI7wSVSHea5vzjphBCaEwJxkOtbUt/D9pzFFxZBx3o0DOr4QgjfeeEPdoHuRnZ3N5s2bfX4et9vN7t27+10CJj8/n+eee46qqipGj/Z/EVEgyRHYCQayInNf18F6rsYcERHR77WyM8H+L95j0U3/D4MeLpyQwtj4Uyd0bzVivK6VcFMUpVvXnnKfQFm/8Stc2lD+05DIpbnpgQ7nOJPTYnjnB/MoqWvnqn98QZfDhTE0lGvueQJjczGu0PhTH8QHSjrC2J78P4jUHAxaDVN6KegxJ0YeW1alxqqlpi742s6ZzWbKy8sHtaTLUJSXl9PR0dFrAYeXd22wM3EaUSawEwxkReYJEyZQUlKCq8dyFnI15pOF7nuTvOJHebs+luW9lM73xjuNuK4zEXP9h9Rs+a+Poxy6ffuLcboVQpPHER4SfJMZi8zJvLB0FmtLavn+a1/jdnummCxdTjpDU+kIQEd1S/gYapstGMdMYkp6TK9TyjlJUVS3WOnochAuurC4gu+1NZvNKIpCWVmZT8/TcxHLvnh/4T4TCzlkAjvBQFdknj17Nl9//fWx7+VqzMdzu5zk6KoobNOTGh3BJZNOvgDdl2unjeGfVREkV7yLrjx4R2BJ4dDQ3sGNs7MDHUqfbjprLL+/LJ8VW8r5+Qc7AdCl5iE0GrZt3+7XWBRFoaPLzY7SI9hMKSdNH3qZezT1DQ/RYBHBNxXvr1L6wsJChBD9NiKOjIxk7NixMoFJA/fss89yzjnnBDqMoLXr07eoGXM1BWImt50zDp124G81zzSiYId7HLGRoT6Mcugq921Fa0rG3VbFhROGt8aUr91/wSSWnzueP6zZyzPrS5g2bRoAVSVFfo3D1lKLy+XiSG0tLqE7qYDDy5zoSVjFtW2Eh4Xh0IZib6vzZ6inNH68Z0bBHwksKyuruzdk37xrg51pZAKTfOJw2W6KEy5mgzObW+ecunijJ+80YknKZeyddB8HdwXfjePee9Rqdcn9VlYGAyEEf712BpfmpnHHm1spatdj6GokxuXfa0sd1Z5uEZEhnkUq+xqBjU80IQTsr20jPMqT5CyNwbU2rslkIiUlxS8JrL/pQ6/8/HxKS0uxWq0+jSfYyAQm+USZI5Ej7TbyJkwkJWrwo6hrp43h+SPxfPL6k2zaFZgl3PvT5VTQO9o4b2Ev9yoGIZ1Wwxs3n8v00bHc8NIG9Ee+IqX561PvqKKORk8X+kJbFNEhWrLie1/ry6jXkhEb4RmBmT03Alr0gSk66Y+3J6KvWK1WysrKBpTA8vLyUBSF3btHTg9RNQTf1VEJ8FwvsDQexun2lNK2WD2/tcaE6xHi+N873Aja2tr4y1/+QoauHoO9idCGIhAaOhOm0ubUsLslnCuuuIIZM2b4PPampiaSk5P5oFrh9ksHVrxxIs9NzdGUVsXg3vA1N37n5FsWAsXR1YkSnYGtpZpLcoJ7+rCn8BAdK5fPZ8rDH1HU5GCJ8WuaqkuJTR/a/9FgdbS3ItyxFGrHsSgzvt8O8eakSIrr2o5NnVksp24n5W9ms5m33vLd6uF79uxBUZQBj8DAU8hx1lln+SymYCNHYEHIZmnDWl1EhL0eveIAjZY2h0J7lxOh0YHWcNIfjUZDdHQ0rrhsQk3xzGQXs9iBJjYDFPjd737HxUsupP5Ipc/j37HqVXRaLe02Gwuyk4Z0DO804uJ5U5lsalM5wuHZuPZjNPZW6rrEoK7tBYPESCPXTRvN6q5xWPTxFK9/x2/n7rA5CbE34opNZ87YxH63zUmKori2Da1WhwEHlrIv/RTlwJnNZpqamvpcTHO4BlKB6JWRkUFkZOQZV0ovR2BBxOVy0dpYi9CFEKoPocoRQoMrEpcChHr6xZV1r5oghMCg1aDXajBoBQ6NgZbRswiPDiMkagmN37qPlKhQLuz+gM1ZtJSK7Z+y6b1nufSHv/fpv6OjuR5tfBzzp/fdPWAgrps2hvB920kZfQ3VxTtJN09RL8hh+Mu6Mt7rSOGj74+M6cMTXTY5nRUbRlMw/mFC63b47bwdLj0uSz2I6D6vf3mZEyPpdLiobrES4WjA7Qy+azvZ2Z7q0+LiYuLj1Z/iLCwsJDw8nMzMzFNu620pdaYVcsgEFiRaW1rocjjR6YwoLjuV7jjiYyNJDzOgAA6XG4fLjd3Z/bfrm78tdjftNgd3/ef4+W8hICnSSFpUGGnRYXzX2Y47cQq71r5L/oJv+ezfoolKw9VxmJsv66VX5SBcO3U0928M49ujoeTrVUGTwDYetmAwtnNh/thAhzIkc7MSsOsi2bXzS9qqy7mk95WDVDf73PlcduevISXruA70venZE/F83RZE7R7gPt8HOQg9m/r6oiK5sLCQ3NxcNAPsW5mfn89rr72GoiiqLuAZzGQCC7CuTgvW9lYUnRE0Ghq7ID4qhvGhhmNvQgGE6LSE6LQQ0vtxdK3hNPzhGqpbrBxutXK4pZPD3V9Xt1jZXdPCXa2jeDLOStWBI0yed7lPWjTt3LiaLmMCTQ21xIT1EewA5SRHUWnMQuuyYO0IjuVAivfu5LlLs6ioLEajGZkfEgadlgsnpPDo9jxCP1zBE376wGtyhfF5ZyqJBjex4f2/N3KSPL1I99e2sTg6A4oLQHGDCJ4p24yMDPR6vU8qERVFobCwkKuvvnrA++Tn5/PMM89QWVnJmDGBWxnBn2QCG6KXXnqJTZs28fHHH3PhhRcydepUli1bNuD9XS4XLQ1H0ehDQBfCgbJi/vK3Z7FZLbz99ttDiikuIoS4iBDy009uz2NzuLjkmbXsqfoKc+YE1q14hIXfUf832qLtXxKaksso81RVjvet6eOg5mOIGNq1NLV98dFrzIhsR585M9ChDMuluWl8uXs/S684m7LCTYzPn+3T87VX7aFq/QdkjEllfErv1Yc9JZuMRBp1FNe1UZ86ln3pdzCzoYLQhFNPp/mLTqdj3LhxPklgNTU1NDU1Dej6l1fPtcH8ncDa29vZt28fM2bMGPCIUQ3B8+tMEOns7OS8887D5XL1uTrzzTffzO9//3sWLlzIs88+y7Jly3rd1m63M2/ePJxOTxWh261Q09BIe3MDQh+KcDtRhIYZM2fzr3++4rN/k1Gv5b3bzuMDVz6GzqO0iBg6OtRdqVdRFI5Y3ejbyrnwgktVOea1U0dT3WbFFpZKbdUhVY45HNH1X5N++D2WXHlToEMZlosnpTIlrJ2ZS75D+fbPfH6+xoM7OWocR1xkKAsnnrrhrBDiWCEHUaNxGONxWP3f+upUzGazTxLYYAo4vCZPnowQIiDXwT7++GNmzZrl9+5DMoH14sUXX+Sqq65Cq9X2251+27ZtTJ8+/dj3vW1rMBhYtGgRr7/+BjUtFt5as57rrr+R6//n29x4w/V8+3u34nQ4/DKFE2nUs/KOC3i1MgR3aCxPv7xC1eOvLT7C/VVmHt/Srtr0ZE5yFB9bM0Fo+GpbYC9QVze2MSXGxSbbGLQ6dZep97f4CCOWmGw0bgddFt9XeY6xl3LRvrvZZTWxcNLARgfmxEj217aRMHkhi274EaYxA/8w95fs7GzKysqO/YKqlv4WsexLREQEWVlZAalELCgoIDo6mlmzZvn1vDKB9WLFihVcccUVQP/d6U9MYL1t63K7OWfRRbz08kuEOjvIHjeWl156iQ8/KuDj1WtYuXIliYl9lxSrvcJzfISRx374P2yqtZOWEMMXG9cP63g9Pf7+BjRd7SxblK/aMQFm5E7E7lI4UFmt6nEH673332TXuLtxjhuZ1YcnujAvE11nLYRG+/xcouUgtZ0Cl1thSi9T3L0xJ5mobrFi6VI3OajJbDbjcDioqKhQ9biFhYWMGjWKmJiBvVZe3rXB/ElRFFatWsXixYvR6fx7VeqMTmAOh52Olnpa64/QUldNS101dYcPceBAGYmJibhcrn5XZ961a9dxQ/ye2zrdbo60Wik+XM/00eEU7dwBKJgTIxg3Ou2k/+jGxkaWL1/Ojh07ePjhh489/uCDD/LQQw+xYsUKduzYwRNPPDHsf/eomHAunJ6DUbio27Oewy3DL1Gua7dxqbGYdxdouWi+uhVZN5w1jg5LC6Mj3Koed7BKmzzd3GcsuCKgcajlsslpNHV04IgYhc2q7nTyiYo6k9ljmks8Fgy6gY3OvYUcJXVtbHzzSXa89zdfhjgkvmrqO9AWUifKz8+nrKzMrzd+FxUVceTIEZYsWeK3c3oFdRHHunXrTrlNSkrKsTfRunXrji2D0tXVdWw+VnG7UdwuZuZm4dIYsNm6ONrUTohOkJQ6CrRaBJ4Pp/r6VkymKGw2GwcOHCA8PBzR2UhT+1EcQo+iNdKh6HEJA7998nlqLC401g6OHjlMWHgEFvS0NVto6rCRYugiI8SOweFAbzCg0YcSFtn7Ss9xcXE8++yzJz3ec4XndevWqbbC8/mzp/HupteYwj7u+bOTp//3vlNWhvXnpa8PcHbnDhy1lcTE/0CVGL1ykqPY2HGE0IQ0WusPE5Uw8M72ajnU0EF8VBSVDW1cMz74prKGYmJyFG9bYFJSCLs3FjBj8fBue+iL4nZTZsynNTwCc9TA37/epr77a9tIUQQtNp+ENyw9E9jFF1+syjHtdjv79u3jkksGP9LPz88/1lLKX9N5BQUFAFx00UV+OV9Pqo7AhBDRQoi3hRD7hRD7hBAnL6blI4rixu12YbO00VR/lPr6ehwOB06nA8XlQOPuIsLdCloDOp2W6OhowmOTsXZ1cdTipN6hw6EPQxcajq2rC4tTYWdhERNzzOB2Ei5sxGi7MBiMaJw22i0WDPZWYkUnUUoH5UWbmZCTjdvaSmdnJymhoNMbsaNHic/B7nASGja45dHhmxWeDQaD6is8X/i9+9Ed2cz94g0ueepTOrocQzqO263wxudbOLfzM7TtNarG6NXo1HNJyT1sX/VPnxz/VP79+RbMUQLhCL4baodKCEFbvCcZb6/w3XWwLrsdlyaE9zsymJ2ZMOD9xiVEIkR3V3odWAm+lQni4+OJjY1VdQS2f/9+nE7nkEZgPSsR/aWgoID8/HxSUvzfVk3tEdhfgFWKolwjhDAAg//E7mH+/Pn9Pt/c3IywW2hpOIqi0TNlyjel20ajjry8PAzCiQY3Or0BZ2gkUSGhON0K7S1W6ixdGLQa0uPCiOm+7yoxMgMUhQRTOIerKpk2YyamVM8d926XizCbBZ02kki7A+G0gcuO0GjZt7+ESZNyCQsJIQxwOp3o9CGYYtNobGwkPj4evX5wF/57rvD8k5/8hFWrVqn6W05YVDw7s28h0VrCRZbNXPX3ED5YNn/Q3dU/3neEmcp+rCGJJEy/QbX4errg0htwvvZnavatBx7wyTn6Yz3wFZqx2cwZE3wfosOxeNZ0aou+pKat02fn8Fa7HurUccf0ga+dFmrQeZr61rVxXVIIne5IXF0WtCH9Ly3ib9nZ2aomsKIizzI3Q0lgGRkZmEwmvyWwtrY2Nm7cyL333uuX851ItRGYECIKmAe8AKAoil1RlBa1jt8bq9XqmfhT3AhnJ1pXJwaNi8jwUOLj40lKSiImMY2oxFGExyShCwmlrsPG7iMtNFm6SDaFMiklmtiwkOOqAC+44AI2bNhw0urM55x7LsZwE6aoaBISEohPGUV0YhrR8cmUHTjIq6++ytSpU5g6ZQpXXHEFpijPdOHatWsHPR3grxWeZ3/v9xSHnsWkcBdr9h/lpn9+ics9uGtNz6wvZdGoCD7J/Dnm+depHiPAlOyxrIu5nqgxvm9GfKK9Na2YIxV0LitTL7jR7+f3pQXZybR3tDI+2neXwzsObQWgpbmJuXnmQe1rTvJUIoZHRoHQYK096IsQh0XtrvSFhYUYDIZjraoGQwhBXl6e3yoRP/30U5xOZ0Cuf4G6I7BMoB54SQiRD2wD7lQUxWdXE1NTUwdcft5uc1DZbKHT4cJk1DM6JhxjHyONH/3oRzz++OOsWDHwMvP+tn3ttdf4wx/+MOBjwTcrPHv5aoVnjVZLev48ps2exzm3/5a3dkBMmIFnbzhrQK9tZZOFD/cc4ZqZo3E0VKEzDK/7Rn9qiMcoQik70sC4VP8tr/H6loPMjEpCtBzEYBzWpELQCdFribJVY0w001h7mLgk9a8vdtQeQigxtDbWD3oWwpxo4ouyOsISMqC2GkunnWBbn9lsNvPKK6/Q3t6uyjR/YWEhEydOHPRr5ZWfn8+rr77ql5ZSBQUFmEwmzj7bb1eLjqPmr106YBrwjKIoUwELcH/PDYQQtwkhtgohttbXD38xvYH859idbg42dFBc14bLrZAVH8H4hMg+kxfAtGnTWLBgAS6Xa9gx2u12rrzyyiH9NuUv+TPPYfny5VhWPcmv8hWe31jGLz4Y2BTE8xtLGRXmSbhK1KlvUB0OS9JMri8czZMf+W8dK0VRKCnciN0QTUhwr1s5ZC4huKz4Lj5f5ZulQdqsdvT2FlIMg/95ykkyYbW7aIv2LPli0UWrHN3w9eyJqIahViB65eXl0dbWRnl5uSrx9EVRFAoKCjj//POHnGyHS80EVg1UK4qyqfv7t/EktGMURXleUZQZiqLMSEgY+MXcoXArCrVtneyuaaHZ2kVK93RhzAnThX255ZZbVKn4MxgMfOc73xn2cXzt1//3cx588DfMEJX8YM5Yfr96D499uq/ffexOF//48gDfTfYsJ+GLhqY93XjRedBYyeq9/rsfbHtVE9OMTQBkz/Z/lZU/zDv/W+jdNmpKNvvk+O1OHU5bO/nJg7925W3qe6CpC41Gg6UjOLtxgDql9A0NDRw5cmRQNzCfyLs2mK+nEffu3Ut1dXXApg9BxQSmKMpRoEoI4Z3kXgTsVev4g9Fuc7DvaCtVLVYiQ3RMSokmLToM7QhtvuoPCcmpGDqqsEVnc53zc66dOpp73t3OS18d6HOf9wqrqW23MSPSQoj1MGPH+rY7e3R0NO+c5+APkztUuXdtIN7YVsHPD43h/X89Q0aub/sFBspYcx5boi8jMb7/NbqGQnG76dSaaLN1MX/C4Efo5kRPAiupbyfc0YSl5Au1Qxy2rKwshBCqjMCGU8DhlZub65eWUoEsn/dS+8rtj4EVQohCYArg24WnTmB3uo6bLhwXH8m4U0wXSt9Y+N0HMFqqsWqjeeby8SzOSebW1zbx3q6qXrd/Zn0pk2O1OEwZiPajfolR4+rCHZ7KW5vU7z93Irdb4Y2t5bir9pCcPf3UO4xgh0PNiMgUjqj8i4HD0ohQnNS0WpmemzPo/VOiQj1NfWvbSFFqMHX6fkHWwTIajWRkZKgyAlMjgYWHhzNu3Di/JLDc3FzS09N9ep7+qJrAFEXZ2T1FmKcoypWKojSrefy+uBWFo22d7K5pPW66MDrMcMasi6MGgzGM2MhQ7CHxbHrrL7zzg3nMHBPLDS9tYF1J7XHb7jvayrrSWpYnVePW6P12c3FkZBRujYFDuz73+bm+PFTPefpSXpnr4uKFgblI7S+b2+K4dmc6/1pfpOpx9RHxfPtLLb/4rPHYVNtgCCEwJ5rYX9tGXmQLk2reVDU+tajV1LewsJCEhASSkoa3+kJ+fr5PpxDb29tZv359QKcPIQhbSSmKMqjt22wO9ta0Un0GTxcO9jXrz5yrlmFsKMISm0tNZTkfLl9AVnwklz+/jm2Vjce2e3ZDKXqthnSa0LjtTF18vWox9CfnHE+3g0xdm8+nEd/YVsHCiFqi0ydw1pwFPj1XoH3rvJnQ3sBbW/ueMh6KymYLHW4tJnszERGnXkalN+YkE8V1bRCTgWJrRbE2qRqjGryl9MP9WfQWcAz3F+/8/HwOHDig+ooTXmvXrsXhcMgE1pPRaKSxsXHAb4LqFisldW0oCoyLj2R8oumMmy5UFIXGxkaMRqNqx8yefwMOt2DlypXERYSw+o6FxIWHcNHTaymubcPS5eSVTQe5ZsooNOHxGFoPEhHj26Icr9SsXEKsNYyOMvKfnb6bTnK63Ly1o4IFTW+RsPlhwkzRPjtXMJg8aQLvzu3kOlMpNsfwq2+9Dq79F29MrsQcNfQP5JwkE1XNVqpEGu/lPEXLYfXuuVJLdnY2FouFw4cPD/kY3t6rw5k+9MrLy0NRlGNTkmorKCggIiLC54VbpxJUvRDT09Oprq5moCX2nQ4XDqeLMKOemjaBb5oYBT+j0ajqPHR2zgQ++Wwto0aNYuP7L3HO5Tez+kcLOffxNSz+26d8/+wsWjsdXJUdxY2L7+fx3/9KtXMPREdrMySM563t5fxk/uCvqwzE2pJaoqyVZMa2URV3pU/OEUyMYRFoQyIZGyVYW3KUJZPUmRJWWqqIMkQwPSN5yMfwFnI0GNPJNG5BH2pSJTY19SylH+rP4oEDB+js7FQlgXkrEXft2qX6PVre8vlFixZhMBhUPfZgBVUC0+v1ZGYGz4qrZ7Kblt7I2pVv0tLejtPexfhEE6t+uID5f/mEX39UxKSUKJr2fE1Hp4OzF1/p19hEQjY6nY7DdU0cbrGSFq3+zcWvbyvn1tEdrE56kPETp6h+/GCktdahM43h/cJK1RJYyuEPqWhzM2nC8iEfw1tKX+xK5IYrTl5cNhj0LKVfuHDhkI4xlDXA+jJ69GiioqJ8ch2suLiYiooKHnjA/y3dThRUU4hS8IiMiiHSXse8o8/z5d+WATB1VCwrl88nKlTPfYsnEtu+lyfvuZ6JEyf6NbaZM2cCsDCm3SfTiF0OF+/sqiI+IgqrS0/mtPmqnyMYGQ06HHoT+/YWqXJd1eF0keqqobRZkJMz9JHyeG9T37o2XF0WupqODDs2taWlpREeHj6sQo6ioiI0Go0qP0/ellK+qEQMhvJ5L5nApD7N/+7POVBrYVLduzQdOQTA3HGJNPzhGm6ckkp8VDhjMzP9XumZlZVFiK2Oi2ObeGuH+gls1b4jdHY5CIlMpKIleBdTVFtqlmctu7yQeoqOtAz7eEUlJXxp/jXNIWOZMGHCkI8TatAxJjac/bVtrHv3ZTZ/8vawY1ObEGLYTX0LCwvJzs4mNFSdhtHeSkT3IHubnkpBQQETJkxgzJiBraztSzKBSX0SGg2hVz1J8fjlfPXu88ce12k17Pt0BfMP/5XokMB8wBur1pPbWMDGA7WqVyO+sa2COfFuQgx6n9+cHUzGnXUBuJ2YIqL5oGjoxQhexeUVWAwJ1DRaSE4e+jUw8FwHK65tI0zrwur2Xb/N4cjOzh7WzczDbSF1ovz8fDo6OlRtKWWxWPj8888DXn3oJROY1C/zvKtpsHouTu/evfvY4w2b3sStKEy8+PaAxBUaGU121y4maI+qMo1oc7h4Y2s5i//6Kf/eXsGyuDKEy86C8+apEO3IoDOGU9/YjCHExAe7h9+ua3eLpz/eoVbNsEfpOd2l9OEhOiwaE4pbvUpJtZjNZsrLy+nq6hr0vu3t7Rw8eFDVBOaLtcHWrVuH3W6XCUwaOc75n5/x21fXcueddx67NmIdtYDP4r5LTGpgRiijzr2BxtAsro+rGdY04o6qJu54cwsp//sON768kdL6dn61ZDLhkfGEtB0kwtT7CtqnK61WS6ZJy9aKemqHuUZYS2sbbrcy7NEXeAo5rHYXIiQUt0aPrSH4OnKYzWbcbjdlZWWD3tf7y6GaCSw3NxeNRqNqAisoKCAsLIy5c+eqdszhkAlMOqW4uDh++5vfkB9v57MVj1FXe5RO01ismsCVM4+afC4b05czOSmaDQfqBzWN2GTp4m+fFzP1Dx8x7Y8F/OPLMpZMTGHNHQs5+OsrWJrcTFdYClpXEK5h72PmSCuhIQbmhDfx0Z6hF0u0WO3M1pQibE1D6sBxopzuSsRWPA2BO+rKh31MtQ2nqa+aFYheYWFhjB8/XrVKRG/5/MKFCwkJCY5p3KAqo5eC1w9uvYXVkU6sGPnsk9XoQsKInHh+wOLRaLXs3rKRd7/cDzN/wn92VvZ7T5jbrfBp8VFe+OoA7xZWYXe6mTYqlr9dO4MbZ2QQG/7ND+SBrZ9CbB5jJs/xxz8lqIyfPB3jpveZaVBYufswN5+dNaTjbKloJCo0BJe1lgkThj+q8N4LVuZOIoJ6rJrgGxl7l0waagKLjIxUvTAiPz+frVu3qnKssrIyDh48yD333KPK8dQgR2DSgHj6JBrpMsajEZ4VowN9F35czhy2bt6MOT6UN7f3PqVU3tjBrz8sJPNX73HBU5+xen8Ny84Zz477l7DtviX86DzzcckLwKloCbE1kDP7Qn/8M4JK6sQ5TDr4d6ZYtrB6fw1dQ+zKselQHe6QGNobaoZVQu+VEhVKRIiO7e2eCj0L6nWeUUtkZCQpKSlDKuQoKipSpYXUifLy8jh48CBtbW3DPlYwlc97yQQmDdicq5ZjbChCYwgjxnow4Hfhzz37LB758ZXcErmfjQe/mUa0OVy8vrWc8//6KZm/+i+/WVVETlIUb9x8Dkceuoonr53BlPTYk47X2trKL37xC95f+SHNFUVoVFgPbsTRaKlwxpIjaujocvJ5Wd2QDlNWUY5TG0bd0aNkZQ1tFNeTEIKcJBP769oJDTFgaQy+e8FgaE19FUVRvQLRy9uRo2cB1lAVFBSQnZ0dVJW5cgpRGpQJsxaxu/ggYcbAz4HnTMqj9OzLEC3lAPz5k7043QortpTT0mknIy6cBy/J43uzxjI6tu/FFDvbmvj81d9j00Tw0EMPceONN3LRD/zbHiuY1Iy9gdaYPGK/svNBUTUXTEgZ1P6KouBuPAQJ6bRYbKqt1mtOMvFFWR3hCYexWBQgcFPYfTGbzbz11uBWtq6qqqK1tdWnCWzXrl3MmTP0KfHOzk7WrVvHsmXL1ApNFTKBSYOSNXUeGZPPRqsLzBLiPWm0WrRtFSiRqeSlRfOXdcWE6DRcPWU0t5ydxYLxSWj6WZXAbrPy9XN3Mr76LSakzWZ3+Dls/3ItU8+e779/RBAypeewdeVrTE66ipV7DvOkMmNQU1vljRbqO91oG/ZiEUPrQN8bc6KJFVvKydDWoWkoxrP8YHAxm800NTXR0NBAfHz8gPbxFln4IoGlp6cTHR097ErEzz//HJvNFjTl814ygUmDFgzJy0uruLAY4/nzWQYqQ2dx9ZRRxIT1Pzp0uVx8+OaLCGcXZm0LDQ4jzozLuOTK4Oyz5295i67j3G/dysIfn0N5l549Na3kpkYPeP9N5Q2sak3ikxef5t7vXataXN5KxBCDIKX2Y3DaQBdc18J6NvUdbALLzc1VPR4hhCprgxUUFGA0Gpk3L7jui5TXwKQRLWW8Z4pEVGzi1jnj+k1ebpeLNe+/ydNPP41dH4PT5eZIzCxyHzvCVJm8jjEajXzr/NlMbPVUr63cPbiuHJsqGgnXgbP2kCoFHF7epr7lrnhaQtJwNJSrdmy1DKUSsbCwkIyMDEwm39yWokZLqYKCAhYsWKBamyu1yAQmjWi5cy9H57TQanX0u93Wgn/x0Ut/pNWuwRgSQldXF5d9+4fMX3ovQiN/DE70vasuYMG8uUxLjxl0V45N5Q28Pq2ef//5LlUTmLepb4k9lk/GPUhjd3/OYJKRkYFerx9UAvNWIPpKXl4eFouFgwcPDmn/AwcOUFpaGnTThyATmDTC6QwhlNc0Uq/tvdvDng0rWfncrym3GHGFJxPRuJOlN17P0qVL0enkDHpfQjQuusJSWZhg56tDDTR0DOymbrvTxfaqJsa0bqajslDVBOZt6vtlRxyz0gTRY9S76VctOp2OcePGDTiB2Ww2iouLfZrAvIUcQ51GXLVqFYBMYJLkC2HhESQkJFBZ+c29YJWVlTx8zy3sq7HiiM4irG4b8xYu5qJlvyMsMvhugg02Ceme0vfJtj0oCgPuylF4uIUwVzt5TR9SuX8nUVHqvtbmRBNb6t2MOvtqjHHqLeKqpsGU0u/btw+Xy+XTBDZp0qRhtZQqKCggKyuLcePGqRzZ8MkEJo14uWM9Zd4la9+g5uAeXnrox4wfP54Hn3oNTfUmZs+czsU/fJiYpFEBjnTkGD/TU6IebmsgxRQ64Otgm8obmGhowKY14TSp/3qbk0yU1LXTVPwVdYWfqH58NWRnZ1NWVobLdeqbwH1ZgegVGhpKdnb2kBKYzWbjs88+C8rRF8gEJp0Gps9ZgNHeRPjRrzi45h/EjJvJbd9bSklJCVfd/SgpY/274ObpwBiTjNFWh84YwSW5qazadwS789QfyJsqGrkgVbAy53Eixp6lelw5SSYsdidFOzZTuHfoS5f4ktlsxuFwDGgZk8LCQoxGo89HN0OtRFy/fj2dnZ0ygUmSr4SERZC45fecbfsMpXw949Ni+etzLzJ69OhAhzaitXY6qdens3h8PO02J+sP1J9yn03lDUREJaMobiJTx6sek7cnohCKqveYqWkwTX0LCwuZNGkSWh93fcnPz+fQoUODbilVUFBASEgI8+fP901gwyQTmHRaGHPHfylb/C/OfXgrk869NNDhnBbC4kcRHRuHqa2SEJ2GD4r6r0ZstnZRUteOzhhFfX0D4yeoX2ThLaXvdGtwaMOwt506qfrbYBKYrysQvbznGOworKCggPPOO4+wsDBfhDVsqicwIYRWCLFDCLFS7WNLUl+SsvIZN+eyQIdxWpk8wTOt1bjvSxaZk/lg9+Fj68H1ZnN5IwDRdFJbe5QJEyaoHlNqd1Pfo3ZPH05L7dBKw30pPj6e2NjYUzb1ra2tpba21i8JrGdLqYEqLy9n//79QTt9CL4Zgd0J7PPBcSVJ8qPMjEyE4iKkq4FLc9M42NDB/tq+p6A2VTQiBETpHGQbG0lLS1M9JiEE5kQTuzu6E1iQNvXNzs4+5QisqKgI8G0Bh1daWhqxsbGDGoEFc/m8l6oJTAiRDlwC/EPN40qS5H9aYwTZ+/9K/IG3uTTXk4z6m0bcVN7AeSk6HLoIOq0WND66QdycZGJVnac5s8U0/E73vjCQUnpfLGLZF29LqcGMwAoKCsjIyDjWXSQYqf0OewL4GTD0niWSJAUNt9ZAvqkNva2N/LSYPsvpFUVhU3kjF6faAXC4fVeUkJNkYnejE71ej8Xm9Nl5hsNsNnPkyBHa29v73KawsJCUlBQSEhL8ElNeXh5FRUUDKu/v6uri008/ZcmSJaqvUaYm1RKYEOJSoE5RlG39bHObEGKrEGJrfX3wXXyVJOl4unHzqRl9GUXrP+SyyWlsPNhAY0fXSdsdbOig0dLFhFDPmmw6U5LPYvIWcuhwYDl6wGfnGY6eTX374qs1wPqSn5+P1WodUEupjRs3YrFYgnr6ENQdgZ0DXC6EKAfeABYKIf7VcwNFUZ5XFGWGoigz/PVbhyRJQxc/eTF7E66gvmIfl+am4VYUVu07+brTpvIGAMKdnmtksZnqd1b38nalD7VUYm1r8tl5huNUCczpdLJ3716/TB96DaaQo6CgAIPBwIIFC3wd1rColsAURXlAUZR0RVEygBuAzxRF+bZax5ckyf8Ss2fy9BN/5qXVhcwcHUdipJEPik6eRtxU0UiYQYvFoaH0k5cxT/TdyMLb1FdrPcLsyqdACb4rFllZWQgh+rwOVlpaSldXl19HYBMnTkSr1Q44gc2dO5eIiOC8185L3gcmSVKfhFZH9uTpbNmyBVC4ZJKnK4fDdXzS2FTewIzRcWw51MYv/l7g084SoQYdo2PCKbMaiOqsgPajPjvXUBmNRjIyMvpMYP5oIdVbTGaz+ZSViFVVVezZsyfopw/BRwlMUZR1iqLIu0kl6TRw2YxRvPjbH7F/724um5xOa6eDDQfqjj3f5XCxo7qZWRlxhHcc4pxpEzAafbvQZE6Sid3WaA7EnEdHEF8H6y+B6XQ6Vbv1D8RAKhFHQvm8lxyBSZLUr7SkBNwpUynd9DGLc5Ix6DTHVSPuOtyM3enmnGQtY8++nNuuONfnMZmTTOzqCGdH6ndorB3cgpv+YjabKSkp6fXm78JCz1IzISH9rx6utry8PCoqKmhpaelzm4KCAkaNGuWTG9HVJhOYJEn9GjvVs4y8rbGKiBA9C8YnHXcdbFN3B44ZEW3MLX8Et73T5zGZE01saI1kxpSJjD7nWp+fbyjMZjMWi4UjR04uevF3BaKXt5DDexP1iex2O5988knQl897yQQmSVK/IlOz0Tva0Rs8o4VLc9MorW+npLsrx6aKBlKjQtHVFpFk2UeED5r4nignyYRD0XLAFYvQ+LYR7lB5bwA+cRqxpaWFyspKv1Ygep2qEvGrr76ivb19REwfgkxgkiSdgtBoCOk8ij46DZvN9k1Xju5pxE3ljczKiOdI5UEOR04lZeLZPo/Jey+Ybdf7FH8cnI1/+mrqu3v3bsC/BRxeKSkpxMXF9ZnACgoK0Ol0LFy40M+RDY1MYJIknVKIXkNXeCrbtm4mIy6C3JQoVu4+TGNHF2X17czKiKPBbWJb0v+QPWmKz+PxNvUVna2UNQfnVFdaWhrh4eEnJbBAVCB6eVtK9VWJWFBQwLnnnovJZPJzZEMjE5gkSaeUOO1SEBoKi/YAcNnkdNYfqGP1/hoAZo2J54iSSNXReuLi4nwej7epb0uXm05tJK4ui8/POVhCCLKzs0+6mbmwsJCYmBifNDseiPz8/F5bSh0+fJjCwsIRM30IMoFJkjQA3vu6jh71JKxLc9NwuRV+u6oIjRDMGBOLMIRR3+7wW0zmJBMVFgWEBmvtIb+ddzB660rvLeAIVJFEXl4enZ2dlJWVHff4xx9/DIyM8nkvmcAkSTqlkJAQtLYm8uI8CWpWRhzxESHsO9rGpJQoQpwWwsLCiArx34eyOcnEjmZPAYelocpv5x0Ms9lMeXk5XV2e/pFut9tvi1j2xVvIceI0YkFBAWlpaeTm+q4NmNpkApMkaUCirOXEixYaGhrQajRcPDEV8CSzI8VbAciM9N8IzHMzs6fVkaW973XKAslsNuN2u4+NdsrLy+no6AhoAps4cSI6ne64Qg6n08maNWu46KKLRkT5vJdMYJIkDcjoUCvnNb3Gzo1rAM91MIBZGfEcPeRZw9aUPNpv8ZgTTey3RaIgsMQE5023Jzb19d5/FYgSeq+QkBBycnKOS2BfffUVra2tI2r6EGQCkyRpgFJnerrD1e4oAODyyWn88YopXD9tDO3NnpuZx+TO8Vs84xM9ycsu9FgswVfEASffC1ZYWIgQgkmTJgUyLPLy8o6bQly1ahVarZZFixYFMKrBkwlMkqQBMWacRcH4h9EaPSXWBp2Wny2eRKRRj8OloLe3kDHefyOhMIOOMbHhaDvrsRzpf/XjQImMjCQlJeW4BJaVlRXwLu/5+flUVlbS3NwMeK5/zZkzh+jo6IDGNVgygUmSNCAaowlHQzk7ivae1N/PrQ9HY61Hq/VvVwxzogltZx1dDv9dexusnk19A9VC6kQ9CzmOHj3Kjh07Rtz0IcgEJknSINSGjudPr63lwIHjO8A/+vy/2LC1/2U6fMGcZGLXoYNcXHwv2Fr8fv6B8CYwq9VKaWlpUCQwbwyFhYUjsnzeSyYwSZIG7KyzziI7LYZtX31+7DGbzcbnW/YQmmz2ezw5SSb22aIQAM0Vfj//QJjNZpqamvjiiy9QFCUoElhycjIJCQns2rWLgoICkpOTj43KRhKZwCRJGrD00C4eeuJ5HNXfVLCVbvucx+68iilZKX6Px5xkolabxOa071NffdDv5x8IbyXi22+/DQS2AtHL21Jq+/btrF69esSVz3vJBCZJ0oDFZOajcdvRa765BlZftp20OdczJtX3LaROZE40ccARQ134RDrtrlPvEADeSsR3332XsLAwxo4dG+CIPPLy8tixYwfNzc0jcvoQZAKTJGkQNPoQQjtrMMakYLfbPQ9WbOTKvbczvnvdMH9Kiw6lXRPJGv0URp9zjd/PPxAZGRno9XqampqYPHkyGk1wfOx6pww1Gg3nn39+gKMZmuB4JSVJGjFCseGKHsPO7dsA0LSU02RxEBGb6PdYhBCYk0wU1wZnJw4AnU53rJdkMFz/8vImsNmzZxMbGxvgaIZGJjBJkgYlISkFtyaEg9s+BcCZPoviuAsDFk9OkolvKV+x8c0nAxbDqXivgwVTApswYQIJCQlcd911gQ5lyHSBDkCSpJFl9JT57NuwndKjHbjdbizJZ+NoqwxYPOYkE7p2N7UkoLhdQblCczAmMIPBQHl5OUajMdChDJkcgUmSNCgRSZl0dXXRYVeoqKjAYYimMXRMwOIxJ0ZSYwO3Ro+tIXCJtD8LFixg9OjRTJkyJdChHCcsLCxorskNxciNXJKkgBBCIJydjEtPYPPmzQAkpowKWDw5SVGUW/UAWOqD816wCy+8kIqKihGz0vFIoVoCE0KMEkKsFULsFULsEULcqdaxJUkKLqN1DcQmj+Lwdk9n+nHp8QGLZXxiJHs6wwCwNB0NWByS/6l5DcwJ3KMoynYhRCSwTQixRlGUvSqeQ5KkIDB+3DiyNvwFTfgoXED66IyAxRJm0NFsSAZFweIOCVgckv+pNgJTFKVGUZTt3V+3A/uANLWOL0lS8EiaNJeUjkJGpcRjcLRiiAhsGfaYxHjaXBosYekBjUPyL59cAxNCZABTgU2+OL4kSQEWkcRBw0TKY+ah62oKdDSYk0zUWN1Buy6Y5BuqJzAhRATwH+AuRVHaTnjuNiHEViHE1vr6erVPLUmSHx1MuRwAnbMzwJF4KhGT7RV01AZnP0TJN1RNYEIIPZ7ktUJRlHdOfF5RlOcVRZmhKMqMhIQENU8tSZKfpYyfgs5lJSIs8PcR5SRHYeloJspageKwBTocyU9UK+IQnlbGLwD7FEV5TK3jSpIUnCads4SkhgbigqANkTnRxCs1bfzE8k9ouwnixgU6JMkP1ByBnQPcBCwUQuzs/nOxiseXJCnIxMfHI4LgRti06FCOapI83zSXBzQWyX9UG4EpirIBGHkLykiSNOIJIQhNyKQg7ffkVB4hUw7AzgiB/9VJkiRJBRHx6Vg72zFGBe6masm/ZAKTJOm0kJ0cw7W7RhE9+YJAhyL5iUxgkiSdFnKSTCgKlFTXBDoUyU9kApMk6bRgTjLxQs5Byrd8FuhQJD+RCUySpNPC+AQTLXYFhzYce7tslHAmkAlMkqTTQniIjha356Zqy1HZkeNMIBOYJEmnDVtoHADWJnkd7EwgE5gkSacNXVwmAB2tjQGORPIHmcAkSTptpKWk4XLaadQmBjoUyQ9kApMk6bRhTjJRatFR0+ampSnwy7xIviUTmCRJp42cpCie2e/E7Xby+Scf0bhvQ6BDknxIJjBJkk4badGhtLq0lHUZMLrasa/+NRz6PNBhST4iE5gkSacNIQRT0mP40w4b2nGzSdF3wIpr6dzzUaBDk3xAJjBJkk4r//zO2YyJDeeCf+7lT+l/pibtIgr2tFK3a02gQ5NUJhOYJEmnlbHxkXx5zwV8e2Ym962u5Ked15FhaCQ2e3agQ5NUJhOYJEmnnTCDjlduOpu/XTuDt/e3cd3OUextcuLoaKJiw5uBDk9SiUxgkiSdloQQ/Og8M5/ftRir3cXsRz5m/cpX2XJUw96PnkNxuwMdojRMMoFJknRamzM2ge33L2HmmDgu2hhDmOUQe61xFK58RiaxEU4mMEmSTnvJplA++fEi7pg/icu2JENzKaX2JLa/9xSKyxno8KQhkglMkqQzgl6r4bGrp7Pie3P57r4M2mv3c8idwuavN+KWI7ERSRfoACRJkvzphhkZ5KZGc9Xfv+AsawtXUo/zyy+ZPXMa2pCwQIcnDYIcgUmSdMbJTY1my88uot00hr+XOKg5epQN776A09oS6NCkQZAJTJKkM1JUqIF3fzCPedMms6NsP5rOemz/vAZsLYEOTRogVROYEOIiIUSxEKJMCHG/mseWJElSm0Yj+PlFucy7/Bb+UWLHcHQ79c9fjq3pcKBDkwZAtQQmhNACTwFLgInAjUKIiWodX5IkyVcunJjKr+/5BXcb/h9FURextuA9XA5HoMOSTkHNEdhZQJmiKAcVRbEDbwBXqHh8SZIkn8mMj+CRe/8fO13J/PdgG5f9fQNNlq5AhyX1Q80qxDSgqsf31cAsFY8vSZLkU6EGHXfffDPPbSjlxbe38fzzjzM5RoPSYxubJpyqkEwAMmwlGB0tRLTtBaDDNJE2jYnVIXMAuML+BRpx/Dk6tFHUGEYBkGXbR4i9ibD2UgDao/NpIJLPQ84C4FuOL06KsUUXT70+GY3iJsu2F0NXPaGWCgBaY2dQ447k65CpRLraON+986T9G/TJNOviMbi7GNNVSkjnEYydR3ALPe0x+RxU4thlmESK8yizlZKT9j9qSKddG02oy0K6/RChlgoMXfVsjjyPa6/+HqNjwwf+gg+TX8vohRC3AbcBjB492p+nliRJGhAhBMvnZjMl0UDD5jpcuuM/kIWiI8Jl9XyjN6F3d5DVtgWAvTGT0Ti7WL2vBoArs4249ceX5msU/bH9FUM0Rnv9sf13JZyN0t7O6oOe/a+YFHtSfLru/QUK7pBYIjoryOjef2vKBdjra1l9sIYxujYWmk/e36BoiXBZ0eHCHRJLdPse0tq2YNdGUJi8gLYj9axurmGOsYazsk7eP0QBxWXF0L1/fPMmEtq2835zKu1d/p12FYqinHqrgRxIiLOBXyuKcmH39w8AKIrycG/bz5gxQ9m6dasq55YkSZJOD0KIbYqizBjItmpeA9sCjBdCZAohDMANwPsqHl+SJEmSjlFtClFRFKcQ4g7gY0ALvKgoyh61ji9JkiRJPal6DUxRlI8AuXa3JEmS5HOyE4ckSZI0IskEJkmSJI1IMoFJkiRJI5JqZfSDPrEQ9UCFCoeKBxpUOE4gyNj9b6TGDTL2QBmpsY/UuMcoipIwkA0DlsDUIoTYOtB7BoKNjN3/RmrcIGMPlJEa+0iNezDkFKIkSZI0IskEJkmSJI1Ip0MCez7QAQyDjN3/RmrcIGMPlJEa+0iNe8BG/DUwSZIk6cx0OozAJEmSpDPQiElgQoiLhBDFQogyIcT9vTwfIoT4d/fzm4QQGQEI8yRCiFFCiLVCiL1CiD1CiDt72Wa+EKJVCLGz+88vAxFrb4QQ5UKIou64Tlo+QHg82f26FwohpgUizhNiMvd4LXcKIdqEEHedsE3QvOZCiBeFEHVCiN09HosVQqwRQpR2/x3Tx77f7d6mVAjxXf9Ffez8vcX+ZyHE/u73w7tCiOg+9u33veVrfcT+ayHE4R7vi4v72LffzyNf6iPuf/eIuVwIsbOPfQP6mqtOUZSg/4OnOfABYCxgAHYBE0/Y5ofAs91f3wD8O9Bxd8eSAkzr/joSKOkl9vnAykDH2kf85UB8P89fDBQAApgNbAp0zL28d47iubckKF9zYB4wDdjd47E/Afd3f30/8Mde9osFDnb/HdP9dUwQxH4BoOv++o+9xT6Q91aAYv81cO8A3lP9fh75O+4Tnn8U+GUwvuZq/xkpI7CzgDJFUQ4qimIH3gCuOGGbK4BXur9+G1gkhDhhLVT/UxSlRlGU7d1ftwP78Kxefbq4Avin4vE1EC2ESAl0UD0sAg4oiqLGTfM+oSjKF0DTCQ/3fD+/AlzZy64XAmsURWlSFKUZWANc5Ks4e9Nb7IqirFYUxdn97ddAuj9jGqg+XveBGMjnkc/0F3f3Z951wOv+iieQRkoCSwOqenxfzclJ4Ng23T88rUCcX6IboO5pzanApl6ePlsIsUsIUSCEmOTfyPqlAKuFENu6V9Q+0UD+bwLpBvr+YQ7W1xwgSVGUmu6vjwJJvWwT7K89wC14Rui9OdV7K1Du6J7+fLGPqdtgft3nArWKopT28XywvuZDMlIS2IgnhIgA/gPcpShK2wlPb8czxZUP/BV4z8/h9edcRVGmAUuAHwkh5gU6oIHqXlj1cuCtXp4O5tf8OIpn7mfElQsLIX4OOIEVfWwSjO+tZ4AsYApQg2c6biS5kf5HX8H4mg/ZSElgh4FRPb5P736s122EEDogCmj0S3SnIITQ40leKxRFeefE5xVFaVMUpaP7648AvRAi3s9h9kpRlMPdf9cB7+KZPulpIP83gbIE2K4oSu2JTwTza96t1jsV2/13XS/bBO1rL4T4HnApsLQ7AZ9kAO8tv1MUpVZRFJeiKG7g733EFJSve/fn3lXAv/vaJhhf8+EYKQlsCzBeCJHZ/Vv1DcD7J2zzPuCtwroG+KyvHxx/6p6TfgHYpyjKY31sk+y9XieEOAvP/0vAk68QIlwIEen9Gs/F+d0nbPY+8J3uasTZQGuPqa9A6/O30WB9zXvo+X7+LvDfXrb5GLhACBHTPdV1QfdjASWEuAj4GXC5oijWPrYZyHvL7064fvsteo9pIJ9HgXA+sF9RlOrengzW13xYAl1FMtA/eKrdSvBU//y8+7Hf4PkhATDimSoqAzYDYwMdc3dc5+KZ/ikEdnb/uRhYDizv3uYOYA+eaqavgTmBjrs7rrHdMe3qjs/7uveMXQBPdf+/FAEzAh13d1zheBJSVI/HgvI1x5NkawAHnusp38dz/fZToBT4BIjt3nYG8I8e+97S/Z4vA24OktjL8Fwj8r7fvdXBqcBH/b23giD2V7vfx4V4klLKibF3f3/S51Eg4+5+/GXv+7vHtkH1mqv9R3bikCRJkkakkTKFKEmSJEnHkQlMkiRJGpFkApMkSZJGJJnAJEmSpBFJJjBJkiRpRJIJTJIkSRqRZAKTJEmSRiSZwCRJkqQRSSYwSZIkaUSSCUySJEkakWQCkyRJkkYkmcAkSZKkEen/A9hj/nCEifVwAAAAAElFTkSuQmCC' width=432.0/>\n",
       "            </div>\n",
       "        "
      ],
      "text/plain": [
       "Canvas(toolbar=Toolbar(toolitems=[('Home', 'Reset original view', 'home', 'home'), ('Back', 'Back to previous …"
      ]
     },
     "metadata": {
      "application/vnd.jupyter.widget-view+json": {
       "colab": {
        "custom_widget_manager": {
         "url": "https://ssl.gstatic.com/colaboratory-static/widgets/colab-cdn-widget-manager/a8874ba6619b6106/manager.min.js"
        }
       }
      }
     },
     "output_type": "display_data"
    }
   ],
   "source": [
    "fig, ax = plt.subplots(figsize=(6, 3))\n",
    "ax.plot(x_noise, \"k\", label=r\"$x$\")\n",
    "ax.plot(shifted_back_noise_adj, label=r\"$L^T L x$\")\n",
    "ax.plot(shifted_back_noise_lsqr, \"--\", label=\"$L$ \\ $x$\")\n",
    "ax.plot(shifted_back_noise_dense, \"-.\", label=\"$(L^T L)^{-1} x$\")\n",
    "ax.legend(loc=2)\n",
    "fig.tight_layout()"
   ]
  },
  {
   "cell_type": "markdown",
   "metadata": {
    "id": "S2wej0hkrEbT"
   },
   "source": [
    "## Reshape/Ravel/Reshape/Ravel/...\n",
    "\n",
    "One of the biggest pain points for me when using PyLops often was the reshape/ravel combo that pollutes your code. In PyLops 2.0, we have introduced some changes to alleviate that. Some of these are on the user side:"
   ]
  },
  {
   "cell_type": "code",
   "execution_count": 27,
   "metadata": {
    "colab": {
     "base_uri": "https://localhost:8080/",
     "height": 35
    },
    "id": "wCR4F-uErEbT",
    "outputId": "3d7857f2-ad26-48ca-d0d0-e6d753a8126f"
   },
   "outputs": [
    {
     "data": {
      "text/plain": [
       "(2, 3, 9)"
      ]
     },
     "execution_count": 27,
     "metadata": {},
     "output_type": "execute_result"
    }
   ],
   "source": [
    "y = LOp @ x_3d\n",
    "y.shape"
   ]
  },
  {
   "cell_type": "markdown",
   "metadata": {
    "id": "brO8vQ7jrEbT"
   },
   "source": [
    "In version 1.x, this code would error requiring always `x_3d.ravel()` as input, and always outputting a flat array. This is what we were doing in this tutorial so far.\n",
    "\n",
    "The magic 🪄 here is revamped `LinearOperator` class which understands model dimensions (`LOp.dims`) and data dimensions (`LOp.dimsd`). So whereas it still works with flattened arrays, it is now smart enough to reshape internally when needed.\n",
    "\n",
    "Moreover, it can also \"propagate\" dims/dimsd across multiple operators, as well as apply to matrices.\n",
    "Here are some examples:"
   ]
  },
  {
   "cell_type": "code",
   "execution_count": 28,
   "metadata": {
    "colab": {
     "base_uri": "https://localhost:8080/",
     "height": 162
    },
    "id": "MnY4-0wzrEbT",
    "outputId": "3d50352c-0634-4235-ae48-e1cb846ab2bb"
   },
   "outputs": [
    {
     "name": "stdout",
     "output_type": "stream",
     "text": [
      "(2, 3, 9)\n"
     ]
    },
    {
     "data": {
      "text/plain": [
       "array([[[1.  , 2.  , 3.  , 4.  , 5.  , 6.  , 7.  , 8.  , 4.25],\n",
       "        [1.  , 2.  , 3.  , 4.  , 5.  , 6.  , 7.  , 8.  , 4.25],\n",
       "        [1.  , 2.  , 3.  , 4.  , 5.  , 6.  , 7.  , 8.  , 4.25]],\n",
       "\n",
       "       [[1.  , 2.  , 3.  , 4.  , 5.  , 6.  , 7.  , 8.  , 4.25],\n",
       "        [1.  , 2.  , 3.  , 4.  , 5.  , 6.  , 7.  , 8.  , 4.25],\n",
       "        [1.  , 2.  , 3.  , 4.  , 5.  , 6.  , 7.  , 8.  , 4.25]]])"
      ]
     },
     "execution_count": 28,
     "metadata": {},
     "output_type": "execute_result"
    }
   ],
   "source": [
    "y = LOp.T @ LOp @ x_3d\n",
    "print(y.shape)\n",
    "y"
   ]
  },
  {
   "cell_type": "code",
   "execution_count": 29,
   "metadata": {
    "colab": {
     "base_uri": "https://localhost:8080/",
     "height": 35
    },
    "id": "TUcm8QqprEbU",
    "outputId": "b8cefb5e-47db-4feb-a4a9-0ee3a8f506ab"
   },
   "outputs": [
    {
     "data": {
      "text/plain": [
       "(2, 3, 9, 2)"
      ]
     },
     "execution_count": 29,
     "metadata": {},
     "output_type": "execute_result"
    }
   ],
   "source": [
    "X_3d = np.concatenate((x_3d[..., np.newaxis], x_3d[..., np.newaxis]), axis=-1)\n",
    "X_3d.shape"
   ]
  },
  {
   "cell_type": "code",
   "execution_count": 30,
   "metadata": {
    "colab": {
     "base_uri": "https://localhost:8080/",
     "height": 35
    },
    "id": "knss_ET9rEbU",
    "outputId": "9e8ed251-55c6-48c5-b5d5-3c2f832a90f2"
   },
   "outputs": [
    {
     "data": {
      "text/plain": [
       "(2, 3, 9, 2)"
      ]
     },
     "execution_count": 30,
     "metadata": {},
     "output_type": "execute_result"
    }
   ],
   "source": [
    "y = LOp.T @ LOp @ X_3d\n",
    "y.shape"
   ]
  },
  {
   "cell_type": "markdown",
   "metadata": {
    "id": "KBik2lfFrEbU"
   },
   "source": [
    "The class needs no change, as long as it has a nontrivial `dims`/`dimsd`, it will work out of the box. We also included some goodies when implementing new operators. The following pattern is very common:\n",
    "\n",
    "```python\n",
    "    def _matvec(self, x: npt.NDArray[np.float32]):\n",
    "        x = x.reshape(self.dims)\n",
    "        y = kernel_which_operates_on_reshaped(x)\n",
    "        y = y.ravel()\n",
    "```\n",
    "\n",
    "In fact, the following pattern is even more common:\n",
    "\n",
    "```python\n",
    "    def _matvec(self, x: npt.NDArray[np.float32]):\n",
    "        x = x.reshape(self.dims)\n",
    "        x = x.swapaxes(self.axis, -1)\n",
    "        y = kernel_which_operates_on_reshaped(x)\n",
    "        y.swapaxes(self.axis, -1)\n",
    "        y = y.ravel()\n",
    "```\n",
    "\n",
    "The swapaxes is often used so that we can always assume that the axis on which to apply an operation is always the last one.\n",
    "This creates allows us to use the `ellipsis` operator in a smart way: we always operate on `x[..., i]`, instead of having to construct indexers.\n",
    "Previously, we used to do thing like this 🤢:\n",
    "\n",
    "```python\n",
    "i_ndim = [ slice(None) ] * len(self.dims)\n",
    "i_ndim[self.axis] = i\n",
    "x[i_ndim]\n",
    "```\n",
    "\n",
    "\n",
    "Swapaxes is also super cheap since it returns a view of the array."
   ]
  },
  {
   "cell_type": "markdown",
   "metadata": {
    "id": "HVCT39d7rEbU"
   },
   "source": [
    "Using our new `reshaped` decorator, we can simplify our LinearShift functions like this\n",
    "\n",
    "```python\n",
    "    def _matvec(self, x: npt.NDArray[np.float32]):\n",
    "        x = x.reshape(self.dims)\n",
    "        y = shiftnd_linear(x, shift=self.shift, axis=self.axis)\n",
    "        y = y.ravel()\n",
    "        return y\n",
    "```\n",
    "\n",
    "to this:\n",
    "    \n",
    "```python\n",
    "    from pylops.utils.decorators import reshaped\n",
    "                     ⋮\n",
    "    @reshaped\n",
    "    def _matvec(self, x: npt.NDArray[np.float32]):\n",
    "        y = shiftnd_linear(x, shift=self.shift, axis=self.axis)\n",
    "        return y\n",
    "```\n",
    "\n",
    "or this\n",
    "\n",
    "```python\n",
    "    from pylops.utils.decorators import reshaped\n",
    "                     ⋮\n",
    "    @reshaped(swapaxis=True)\n",
    "    def _matvec(self, x: npt.NDArray[np.float32]):\n",
    "        y = shiftnd_linear(x, shift=self.shift, axis=-1)\n",
    "        return y\n",
    "```\n",
    "\n"
   ]
  },
  {
   "cell_type": "markdown",
   "metadata": {
    "id": "NBfkjM8ZrEbU"
   },
   "source": [
    "To finish this tutorial, let's see the full standalone `LinearShift` operator with some extra goodies."
   ]
  },
  {
   "cell_type": "code",
   "execution_count": 31,
   "metadata": {
    "id": "N1xFByKMrEbU"
   },
   "outputs": [],
   "source": [
    "import logging\n",
    "import pylops\n",
    "from math import floor\n",
    "from pylops.utils.decorators import reshaped\n",
    "\n",
    "try:\n",
    "    from numba import jit\n",
    "\n",
    "    NUMBA_AVAILABLE = True\n",
    "except ImportError:\n",
    "    NUMBA_AVAILABLE = False\n",
    "\n",
    "logger = logging.getLogger()\n",
    "logger.setLevel(logging.INFO)\n",
    "\n",
    "\n",
    "class LinearShift(pylops.LinearOperator):\n",
    "    \"\"\"LinearShift shifts an N-dimensional array by a single real value along a given axis.\n",
    "\n",
    "    Since we are responsible coders, this is the entirety of our very long\n",
    "    and detailed documentation for this class. At least we're annotating...\n",
    "    \"\"\"\n",
    "\n",
    "    def __init__(\n",
    "        self,\n",
    "        shift: float,\n",
    "        dims: Tuple[int, ...],\n",
    "        axis: int = -1,\n",
    "        dtype: npt.DTypeLike = np.float32,\n",
    "        name: str = \"L\",\n",
    "        engine: str = \"numba\", # Use numpy for GPU\n",
    "    ):\n",
    "        self.shift = shift\n",
    "        self.axis = axis\n",
    "\n",
    "        if engine == \"numba\" and not NUMBA_AVAILABLE:\n",
    "            engine = \"numpy\"\n",
    "            logger.warning(\"Numba engine not available.\")\n",
    "        self.engine = engine\n",
    "        logger.info(f\"Using {self.engine} engine.\")\n",
    "\n",
    "        super().__init__(dtype=dtype, dims=dims, dimsd=dims, name=name)\n",
    "\n",
    "        self._register_shiftnd_linear()\n",
    "\n",
    "    def _register_shiftnd_linear(self):\n",
    "        \"\"\"\n",
    "        Register the correct method depending on whether Numba\n",
    "        is available or not.\n",
    "        \"\"\"\n",
    "        # CuPy- and Numba-accepted functions: relies only on ndarray properties;\n",
    "        # remove dependency on `np`.\n",
    "        #\n",
    "        # An alternative design choice is to register both a CPU and a GPU method,\n",
    "        # and decide which one to call on _(r)matvec using cupy.get_array_module(x)\n",
    "\n",
    "        def shiftnd(x: npt.NDArray, shift: int):\n",
    "            out = x * 0.0 # replaces np.zeros_like\n",
    "            if abs(shift) > x.shape[-1]:\n",
    "                return out\n",
    "            if shift == 0:\n",
    "                out[:] = x[:]\n",
    "            elif shift > 0:\n",
    "                out[..., shift:] = x[..., :-shift]\n",
    "            else:\n",
    "                out[..., :shift] = x[..., -shift:]\n",
    "            return out\n",
    "\n",
    "        def shiftnd_linear(x: npt.NDArray, shift: float):\n",
    "            shift_floor = int(floor(shift))\n",
    "            w = shift - shift_floor\n",
    "            return (1 - w) * shiftnd(x, shift_floor) + w * shiftnd(x, shift_floor + 1)\n",
    "\n",
    "        if self.engine == \"numba\":\n",
    "            numba_opts = dict(nopython=True, fastmath=True, nogil=True, parallel=True)\n",
    "            shiftnd = jit(**numba_opts)(shiftnd) # Must jit all functions used by `shiftnd_linear`\n",
    "            shiftnd_linear = jit(**numba_opts)(shiftnd_linear)\n",
    "        self._shiftnd_linear = shiftnd_linear\n",
    "\n",
    "    @reshaped(swapaxis=True)\n",
    "    def _matvec(self, x: npt.NDArray):\n",
    "        return self._shiftnd_linear(x, shift=self.shift)\n",
    "\n",
    "    @reshaped(swapaxis=True)\n",
    "    def _rmatvec(self, y: npt.NDArray):\n",
    "        return self._shiftnd_linear(y, shift=-self.shift)"
   ]
  },
  {
   "cell_type": "code",
   "execution_count": 32,
   "metadata": {
    "colab": {
     "base_uri": "https://localhost:8080/",
     "height": 162
    },
    "id": "ahXXQeOb5A36",
    "outputId": "bb4c34b6-052b-44fc-cb10-7d55d479344c"
   },
   "outputs": [
    {
     "name": "stderr",
     "output_type": "stream",
     "text": [
      "INFO: Using numba engine.\n"
     ]
    },
    {
     "data": {
      "text/plain": [
       "array([[[1.  , 2.  , 3.  , 4.  , 5.  , 6.  , 7.  , 8.  , 4.25],\n",
       "        [1.  , 2.  , 3.  , 4.  , 5.  , 6.  , 7.  , 8.  , 4.25],\n",
       "        [1.  , 2.  , 3.  , 4.  , 5.  , 6.  , 7.  , 8.  , 4.25]],\n",
       "\n",
       "       [[1.  , 2.  , 3.  , 4.  , 5.  , 6.  , 7.  , 8.  , 4.25],\n",
       "        [1.  , 2.  , 3.  , 4.  , 5.  , 6.  , 7.  , 8.  , 4.25],\n",
       "        [1.  , 2.  , 3.  , 4.  , 5.  , 6.  , 7.  , 8.  , 4.25]]])"
      ]
     },
     "execution_count": 32,
     "metadata": {},
     "output_type": "execute_result"
    }
   ],
   "source": [
    "# Taking it for a spin: CPU\n",
    "LOp = LinearShift(0.5, dims=x_3d.shape)\n",
    "LOp.T @ LOp @ x_3d"
   ]
  },
  {
   "cell_type": "code",
   "execution_count": 33,
   "metadata": {
    "colab": {
     "base_uri": "https://localhost:8080/",
     "height": 162
    },
    "id": "i3bqICJz5Bvn",
    "outputId": "e8407408-2022-43de-d4ce-6364e25bb79f"
   },
   "outputs": [
    {
     "name": "stderr",
     "output_type": "stream",
     "text": [
      "INFO: Using numpy engine.\n"
     ]
    },
    {
     "data": {
      "text/plain": [
       "array([[[1.  , 2.  , 3.  , 4.  , 5.  , 6.  , 7.  , 8.  , 4.25],\n",
       "        [1.  , 2.  , 3.  , 4.  , 5.  , 6.  , 7.  , 8.  , 4.25],\n",
       "        [1.  , 2.  , 3.  , 4.  , 5.  , 6.  , 7.  , 8.  , 4.25]],\n",
       "\n",
       "       [[1.  , 2.  , 3.  , 4.  , 5.  , 6.  , 7.  , 8.  , 4.25],\n",
       "        [1.  , 2.  , 3.  , 4.  , 5.  , 6.  , 7.  , 8.  , 4.25],\n",
       "        [1.  , 2.  , 3.  , 4.  , 5.  , 6.  , 7.  , 8.  , 4.25]]])"
      ]
     },
     "execution_count": 33,
     "metadata": {},
     "output_type": "execute_result"
    }
   ],
   "source": [
    "# Taking it for a spin: GPU\n",
    "LOp = LinearShift(0.5, dims=x_3d.shape, engine=\"numpy\")\n",
    "x_3d_gpu = cp.asarray(x_3d) # move to GPU\n",
    "LOp.T @ LOp @ x_3d_gpu"
   ]
  },
  {
   "cell_type": "code",
   "execution_count": 33,
   "metadata": {
    "id": "m0lPeGo7zqJx"
   },
   "outputs": [],
   "source": []
  }
 ],
 "metadata": {
  "@webio": {
   "lastCommId": null,
   "lastKernelId": null
  },
  "accelerator": "GPU",
  "colab": {
   "collapsed_sections": [],
   "name": "PyLops_v2.ipynb",
   "provenance": []
  },
  "kernelspec": {
   "display_name": "Python 3",
   "language": "python",
   "name": "python3"
  },
  "language_info": {
   "codemirror_mode": {
    "name": "ipython",
    "version": 3
   },
   "file_extension": ".py",
   "mimetype": "text/x-python",
   "name": "python",
   "nbconvert_exporter": "python",
   "pygments_lexer": "ipython3",
   "version": "3.8.10"
  },
  "toc": {
   "base_numbering": 1,
   "nav_menu": {},
   "number_sections": true,
   "sideBar": true,
   "skip_h1_title": false,
   "title_cell": "Table of Contents",
   "title_sidebar": "Contents",
   "toc_cell": false,
   "toc_position": {
    "height": "calc(100% - 180px)",
    "left": "10px",
    "top": "150px",
    "width": "220.86956787109375px"
   },
   "toc_section_display": true,
   "toc_window_display": true
  },
  "widgets": {
   "application/vnd.jupyter.widget-state+json": {
    "17fe01e151c14d2cb7a7fb6c46d23a32": {
     "model_module": "jupyter-matplotlib",
     "model_module_version": "1.0.0",
     "model_name": "MPLCanvasModel",
     "state": {
      "_cursor": "default",
      "_data_url": "data:image/png;base64,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",
      "_dom_classes": [],
      "_figure_label": "Figure",
      "_image_mode": "full",
      "_message": "",
      "_model_module": "jupyter-matplotlib",
      "_model_module_version": "1.0.0",
      "_model_name": "MPLCanvasModel",
      "_rubberband_height": 0,
      "_rubberband_width": 0,
      "_rubberband_x": 0,
      "_rubberband_y": 0,
      "_size": [
       432,
       216
      ],
      "_view_count": null,
      "_view_module": "jupyter-matplotlib",
      "_view_module_version": "1.0.0",
      "_view_name": "MPLCanvasView",
      "capture_scroll": false,
      "footer_visible": true,
      "header_visible": true,
      "layout": "IPY_MODEL_1595011ffaf84022a93e25e0b9980891",
      "pan_zoom_throttle": 33,
      "resizable": true,
      "toolbar": "IPY_MODEL_62747e44110742e5bc9d496554401bdc",
      "toolbar_position": "left",
      "toolbar_visible": "fade-in-fade-out"
     }
    },
    "501f7173ad144e3eaf871debccb3558e": {
     "model_module": "jupyter-matplotlib",
     "model_module_version": "1.0.0",
     "model_name": "MPLCanvasModel",
     "state": {
      "_cursor": "default",
      "_data_url": "data:image/png;base64,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",
      "_dom_classes": [],
      "_figure_label": "Figure",
      "_image_mode": "full",
      "_message": "",
      "_model_module": "jupyter-matplotlib",
      "_model_module_version": "1.0.0",
      "_model_name": "MPLCanvasModel",
      "_rubberband_height": 0,
      "_rubberband_width": 0,
      "_rubberband_x": 0,
      "_rubberband_y": 0,
      "_size": [
       432,
       216
      ],
      "_view_count": null,
      "_view_module": "jupyter-matplotlib",
      "_view_module_version": "1.0.0",
      "_view_name": "MPLCanvasView",
      "capture_scroll": false,
      "footer_visible": true,
      "header_visible": true,
      "layout": "IPY_MODEL_73020f75778149d7b8ca0c04a49bfc19",
      "pan_zoom_throttle": 33,
      "resizable": true,
      "toolbar": "IPY_MODEL_9f44c7540ba4473095ed4423ea622524",
      "toolbar_position": "left",
      "toolbar_visible": "fade-in-fade-out"
     }
    },
    "5a0f1c5b6bb04e688b01e714ff9a4b79": {
     "model_module": "jupyter-matplotlib",
     "model_module_version": "1.0.0",
     "model_name": "MPLCanvasModel",
     "state": {
      "_cursor": "default",
      "_data_url": "data:image/png;base64,iVBORw0KGgoAAAANSUhEUgAAAbAAAADYCAYAAACKnrapAAAAOXRFWHRTb2Z0d2FyZQBNYXRwbG90bGliIHZlcnNpb24zLjUuMSwgaHR0cHM6Ly9tYXRwbG90bGliLm9yZy/YYfK9AAAACXBIWXMAAAsTAAALEwEAmpwYAAAh00lEQVR4nO3deVxVdeL/8ddHQAHFBdxFBZfMXQRcCTFNLROndbTt1zZmTaalzUxN00zTLN9vqTW2215jNWVZauZSuWsIaIhCkrsoKqIiIshyP78/4juPVkGEe+69vJ+Ph48H994j5+3Cfd/P+XzOOcZai4iIiLep53QAERGR6lCBiYiIV1KBiYiIV1KBiYiIV1KBiYiIV1KBiYiIV1KBiYiIV1KBiYiIV1KBiYiIV1KBiYiIV/Kv7R00b97cRkRE1PZuRETEB6Smph6z1raoyra1XmARERGkpKTU9m5ERMQHGGP2VXVbHUIUERGvpAITERGvpAITERGvVOtzYD+ntLSU7OxsiouLndi92wUGBhIeHk5AQIDTUUREfIYjBZadnU1ISAgREREYY5yI4DbWWvLy8sjOziYyMtLpOCIitaKkrJz6/n5u3acjhxCLi4sJCwvz+fICMMYQFhZWZ0abIlK3pCct4/3Zkxk8aznWWrfu25ERGFAnyuv/1KU/q4j4vrLSUjYte4OQLS/R2/Ut4TaYb3tdR0mZiwYB7huFOVZgIiLiXQqKS1m4YgmXpE5niMlln23J6q4ziE68lz+GNHN7HhWYiIic08F9WXy4Lpk/bQnAnj3FilZtORT9R2Ivu4mO/s4tTqvTBTZ8+HAefvhhLrvsMh555BHy8/N55plnnI4lIuIRMlJXcuLLpxhYuJZLyttyeY+XeODSSxkQcafT0QAPKLBp81P4OvtEjX7PfuHNePramEq3e+yxx3j00Uc5evQoW7ZsYeHChTWaQ0TE27hclg0rP6LRxpn0K8/glA1kXYtr6DJ2Bu9FXOx0vB9wvMCcFB8fj7WW2bNns2rVKvz83LsEVETEUxQW5DMvZS9PrtnHoFOr+WfIEVZ1uo/+ifeT0DTU6Xg/y/ECq8pIqbakp6eTk5NDWFgYISEhjuUQEXHK4ezdfLN4Fn0OL+DbwlGEtpxA4tiptO47k/CA+k7HO6c6eympnJwcbrzxRj755BMaNWrE0qVLnY4kIuI2O9LWs27W1YS+EkP84XlkBfXhpmtv5KsZo7kupjP+Hl5e4AEjMCecOXOGq6++mlmzZtG9e3f+9Kc/8fvf/54xY8Y4HU1EpNa4XJalmYeY/eU3/O7wwwwJ2MPGsEQiLp/OoC69nY533upkgQUHB7Nx48b/Po6Pj//BYxERX1JcVMimRc/TMvMt7sqbhCukHXsG/pUBcf0YFtrK6XjVVicLTESkLsg9coBtC2fT6+AHxJsCvjEdeWlcJ0YOH+P26xbWBhWYiIiPycjJ54XPU/jHrokMN2fZ1CCWg3FT6Dt0HBfX852lDyowEREfYF0utqxZwDfJS7lxXwKBAX7EdruHuOHjGdAtyul4tUIFJiLixc4WnSF5yVxabH+V/nY/4bYxT465lVsTomneKNDpeLVKBSYi4oXyTp9l0dIFjNn2e+LMSb4lnLU9/0zs2LuYEdTQ6XhuoQITEfEie7O+5oMNafw5rQENygro1rYrBwfdRf9h19DVh+a3qqJaBWaMuR+4E7BAOnCbtVZ3bBQRqQXW5WLrxk8pXjuH2OJk4ssjmBjzIvcPv5hebX/jdDzHnHeBGWPaAfcBPay1RcaY94EJwBs1nE1EpE4rLXexftm7tEyZSV+7mzzbiDVtb6HnuOm82qaj0/EcV91DiP5AkDGmFAgGDtVcJGe9/vrrJCUlsWzZMkaPHk1UVBR33XWX07FEpA7JP57LG8n7mbVuPyOLNvBISBFruj1E7Lh7SGjY2Ol4HuO8C8xae9AYMxPYDxQBy621y2s8mRu89NJLbN26leeee+6/z912222MHz+e0tJSXnzxxV/cTkSkph3YncHuJTPpf2wxuwvH0aX9RK4Z9iARvebQSXfL+InqHEJsBowHIoGTwAfGmJustf/+3jaTgEkAHTp0qJmktSA9PZ3evX96/a/U1FSio6Mr3U5EpCakJy3j9Op/MeDMBlpjSGqUwOSrbqd736FOR/No1VmyMhLYY63NtdaWAh8BQ76/gbV2rrU2xlob06JFi5rIWSu2bt1apQL7pe2GDx/OihUrAHjkkUeYMmVK7YUVEZ9SXl7O/C37GTJrGXkL/0j3M1tY02oix+5MIW7GApVXFVRnDmw/MMgYE8x3hxBHACk1mspNtm3bRq9evX7yfFpaGlOnTq10O93RWUTOV0H+cTYvmkP4zveYcvw+gkPbsf+SJ4gZGsXwkGZOx/Mq1ZkDSzLGzAc2A2XAFmDuBaV4Y+xPn+v5K4j9DZSegXnX/fT1fjdAvxvhTB68f8sPX7v100p3eeDAAUJCQmjSpMlPXnv33XertJ3u6CwiVXVofxZZi2cSdXQhw0wRaf4X8/Z1FzN8aAJ+dez8rZpSrVWI1to/A3+u4SxuVdV5rXNtpzs6i0hlUvfn8dLyJOZk30wcLjYFx9Fk+DT6xo5wOprX84wrcZxrxBQQfO7Xg8OqNOL6sV+a16rqdt+/o/N9993H0qVLdUNMEQHAVV5O8ufzyNqykluyRxIS6M+l3R8gbsQ1DIm42Ol4PsMzCswB6enpLF269L+HC9u0afOzN7X8ue2++OIL3dFZRH6isCCflMXP0iHrLQZymLa2OXPG/Zb/F9+XxkEBTsfzOcZaW6s7iImJsSkpP1zjkZmZSffu3Wt1v56mLv6ZReqKnPwiPl38Lld/+wihppBt9bpwKuouBoy+Ff+A+k7H8yrGmFRrbUxVtq2zIzARkQu1I20972/awePbgmhiS+neLoqQ+HvpPXA0Rgszap0KTETkPLjKy9m88j/US3qB/mVbGVZ2EblxLzA1oRudW+iyc+6kAhMRqYLi0nLWLX6VyK1PEcMhcmxTVnW8m37j7yc+tJXT8eokFZiIyDnkHjnA3KQc/rVhP1eXpTKtcQDre/+d2CvuIKFBkNPx6jTHCsxaizHGqd27VW0vlBGRmrczI5lDy2YyIP9zDp6+hoFdbuDXCY/S7aI2mt/yEI4UWGBgIHl5eYSFhfl8iVlrycvLIzAw0OkoIlIJ63KxZc0Cyjc+S2zJZtrZADY1Hc30CXfT+eIop+PJjzhSYOHh4WRnZ5Obm+vE7t0uMDCQ8PBwp2OIyC84W1LKe5sPMHtlJs8X/o2L/I+xKvxOeic+QHzLdk7Hk1/gSIEFBAQQGRnpxK5FRP7reO5hti6aReT+BczIm0Gr1uEcvHQO0YP7kxDU0Ol4Ugkt4hCROmdvVhr7PnuSmBPLSDAlpNTvx4Kb+zA0drDPT2v4EhWYiNQJ1lrW7jrKa8s38MrR22lDPTY1HkHrUdOJ6TXQ6XhSDSowEfFppSVn2fTZq+xI/4o7Do8mrGEDPu7xMPGjrueSNh2djicXQAUmIj4p/3guWxY9Tdc97zDUHKcVbXn5uge5YXB3guvrrc8X6F9RRHzKnmOnWb7oTW7Y9xgJ5iybA3pxMPZxYkZMpItuOutTVGAi4hPSk5bzTup+nsgMpnU9P3q0j6PFiGn0j4p3OprUEhWYiHitstJSkpe/SaPNL9HblcXwst7Ykc8wZVg32jWd7HQ8qWUqMBHxOgXFpaz/+Dl6fPMsg00u+2xLVnedwZDEexkV0szpeOImKjAR8RqH9mfxTHIez288wC1so23TUA5F/5HYy26io7/ueFzXqMBExONlpK7ixJezGVi4luOnJzKmx0RuGv4P+kS2dDqaOEgFJiIeyVXuInnF2zRIeZF+5RmcsoGsa3ENj9w6lfYR3ZyOJx5ABSYiHqWw6CxvJu/jqZWZvFM6k+b+hazqdB9RidNIaBrmdDzxICowEfEIRw7tJWPhTLrmfMojxx+iS4cO5Ax+maiB/QkPqO90PPFAKjARcdSOrRvIXTGLAQUrGYaLTcGDWHZ1DDF9onRhXTknFZiIuJ3LZVmWeYh5K9bw7/zJtLMN2BA6jsgrZjCoS2+n44mXUIGJiNsUFxWSvOh5vvkmjUlHL6dtkyAW9nqM+NETSQht5XQ88TIqMBGpdblHDrD9k1n0PDSfS0wBoaYT8256lGtjOlPfX9cnlOpRgYlIrcnIyWfVope5/dA/STBlbGoQQ3bcFPoNTaRnvXpOxxMvpwITkRplXS42r/2Yf3+dy9PfNqJT/Yb06jCa8NHTGdA92ul44kNUYCJSI84WF5H86Uu02P4q0XY/h8qjCR37LybHdaVFyN1OxxMfVK0CM8Y0BV4BegEWuN1au7EGc4mIl8g7fZakj2bSf/dc4sxJviWctT0f5bKxkxkX1NDpeOLDqjsC+xew1Fp7rTGmPhBcg5lExAvszUrjqdQCXt6UzWT/XbRsFkH2oN8SnXAtXTW/JW5w3gVmjGkCxAO3AlhrS4CSmo0lIp7Iulxs3biEorVzGFC8icIzNzMh+gZuS5hJ7/BQp+NJHVOdEVgkkAu8bozpC6QCU621hTWaTEQ8RmlZGcmfvkyTtLn0tbvJs41Y3fYW/jFuOi3bdHQ6ntRR1Rnn+wP9gRestVFAIfCH729gjJlkjEkxxqTk5ubWQEwRccLJgkJmfp5B58cWEpzyLMH2DGu6PUTQg5kMnzRH5SWOqs4ILBvIttYmVTyez48KzFo7F5gLEBMTYy8ooYi43YHdGez+9EkuOvYFfzv+J/p3jSR30Nv0ie5LpJ9OPBbPcN4FZq09bIw5YIzpZq3dAYwAMmo+moi4W3rSck6vfpoBZzbQGkNSyDDWThxK74t7OB1N5CequwpxCjCvYgXibuC2moskIu5U7nKxIC2b+Z9/wXtnpnHSBrO21QQuuvJB4tp3djqeyC+qVoFZa78GYmo2ioi4U0H+cTYvmkPmzizuPjaWTs1DWdLzf4gfM4GEkGZOxxOplK7EIVLHHNqfRdbimUQdXcgwU0Qj/558eMcQxvftiJ/O3xIvogITqSNS9+fx1cLnmXRsNq2wJAXH0Xj4NKJjR6IrFIo3UoGJ+DBXeTnJn8/jtfTTzN3bhO5BYfTseDVdxs5gSGR3p+OJXBAVmIgPKizIJ2Xxc3TIepOBHCbbNYSLrprNnUM60yToHqfjidQIFZiID8nJL2LzB48zOPsNhplCttfrzIZ+/8v4MbfjH1Df6XgiNUoFJuIDdmzdyBNfl/F2ajb3NzhIWFgfguPvo/fAMRgtzBAfpQIT8VKuchepq96n3lfPEV22FdeZO7hr6ER+k/AMXVo2djqeSK1TgYl4meKzZ9m08BnaZrxGLAfJsU1Z1XEys8fdT7PmrZ2OJ+I2KjARL3H0RD4vbNzHc2t2sDLgFcoC6rOu998YcMWdJDQIcjqeiNupwEQ83K7MFA4tnUmXk+uZefwvDOvRiRNDP2Ror+5crPktqcNUYCIeyLpcbFn7CeUb5hBbspm2NoDkZqPYfGsCXSN1fUIRUIGJeJSSsnLeTdnHoi+WMb/sD+TaxqwKv5NeiQ8Q37Kd0/FEPIoKTMQDnDiWQ9rC2Wzbk82UE1fSs017VvR7iktG/ZqEoIZOxxPxSCowEQftzUpj32dPEntiKQmmlAZBsSybmMBl3dtijHE6nohHU4GJuJm1lrW7jpK++F/cffJ52uBHcuNLaTVqOoN7DXI6nojXUIGJuElpyVmSP3uNlzLLeSu7Gf0btadn5M30SJxBXJuOTscT8ToqMJFaln88ly2LnqbrnncYYo6zn0sZMuEJbh4QSXB9/QiKVJd+ekRqyZ5jp8n44BHij7xDgjnL5oBeHIx9nOtHTKSen5/T8US8ngpMpIalb/qcv231Z37aIX4fdIKmLYcQOuIB+kfFOx1NxKeowERqQHlZKZuWvUWjzS/S25VFUNFkHhw5gXvif0V4s2Cn44n4JBWYyAUoKCwkdcFMOu18m8Eml322Jau7TufZxCk0CmnmdDwRn6YCE6mG7KO5zNlwgJfXZ5EU+G9ONgjlUP8/EjvqJjr6BzgdT6ROUIGJnIfMzas4/sVTdD69meePP87YqM6cGvoZMd26OB1NpM5RgYlUwlVeTvLn82iQ/AL9yjM4ZQPZ3GIcGZNG0qFduNPxROosFZjILzhTUsabSbv54stPmc9fyLZhrOp0H1GJU0lo2tzpeCJ1ngpM5EeOHNpL5sInSTtwjGn5icR27M7qXs8zdOR1hAfUdzqeiFRQgYlUyNq6nqMrZjOgYCXxuKjXJJ61t41kaOeWurCuiAdSgUmdZq1lacYh9ix5knvOvE47W5+NoVcSccWDxHfp7XQ8ETkHFZjUScVFhSQvep45OwKZfySUuCYX0aPLZPol3s+wsNZOxxORKlCBSZ2Se+QA2xfOpufBD7jEFLDX7wrG3/IPru/fgfr+uj6hiDdRgUmdkHk4n73vP8jw4x+SYMrY1CCW7Lh7uWloIqZePafjiUg1qMDEZ1mXi83rF/Po1oYsyTzMnxoV07D1KMJHz2BA92in44nIBapWgRlj/IAU4KC19sqajSRyYUrOFpG0eC4ttr9KtN1HWMkU/jr219x9yTU0bxTodDwRqSHVHYFNBTKBxjWYReSCHM/PJ+3Dv9N9/3+4xJzkW8JZ2/NR5o6dTGBQQ6fjiUgNO+8CM8aEA2OBvwMP1HgikfO0M/sQT63P5q2knXzd6EOyAyPIHvRbohOupavmt0R8VnVGYE8DvwNCajaKSNVZl4utG5dQvHYOHYoyeTv/71wX05XioSuJiezgdDwRcYPzKjBjzJXAUWttqjEm4RzbTQImAXTooDcTqTmlJWdJ/uw1mqbNpa/dTZ5tRHrbq/l2yuW0at7C6Xgi4kbGWlv1jY35J3AzUAYE8t0c2EfW2pt+6ffExMTYlJSUC80pdVx+UQkvr9/JV6sXMt//n+yhNQe63UbMuHsIbqipWBFfYYxJtdbGVGXb8xqBWWsfAh6q2EkCMONc5SVyoQ7szmD3kpkkHzrDg6fGMbxrNBt7vcrAhKuI9NOJxyJ1mc4DE4+0bdMKClY9zYAz62mNoTxsNKl3X07/9qFORxMRD1HtArPWrgJW1VgSqfPKXS4+Tssmd+nfmVzyHidtMGtbTaDb2Blc2kF3PBaRH9IITBxXkH+c1EXPMPPbpnya15zLmvele5d2RI+fQkJIM6fjiYiHUoGJY3L272TH4ieIOrqQBFPE7sBrueM3fyGxdzv8dP6WiFRCBSZul7o/j7wP7mN4wRJaYkkKjqPx8GncHjvS6Wgi4kVUYOIWrvJykr78gIe2NWP1rmP8tbEfDdpeTeexMxgS2d3peCLihVRgUqsKT58iZdGzdMh6k8Ecpn35dGZddR13DLmOJkH1nY4nIl5MBSa14vCxY2TO/wt9D3/EMFPI9nqd2dDvf3l9zO34B6i4ROTCqcCkRm3fvZcn1+fwfsoutjdZQlbDPgTH30fvgWN040gRqVEqMLlg1uUi5cv/UC/peVqf3cfHp//BHUO7YeM2MqhtK6fjiYiPUoFJtRUXFZK86HnaZL5OLAfJsU3ZETmRPVePpVkTnb8lIrVLBSbnLbegmOfXZpG+7mPmN5jFDtOR9b3/RuwVd5LQIMjpeCJSR6jApMp2ZaZwcOlMNh6x/OV0Ilf2vITNfaKJGnw53TS/JSJupgKTc7IuF1vWfkL5hmeILUmlrQ2guO14Mq+/kotbN3E6nojUYSow+VklZeW8l7qP0uV/4Q7XJ+TaxqwKv5Ne4+5nVKtwp+OJiKjA5IdOHDtM2sLZPL6rHV/mN2d868Fc1KMvsVdOJiGoodPxRET+SwUmAOzNSmPfZ08Sc2IZCaaEnU1v4Xc3Xseo7m0wxjgdT0TkJ1RgdZi1lrW7jlL+0V0MO7OKNviR3Hg4LS+bzp29BzsdT0TknFRgdVBpyVk2rniX6dtaknLgBP9o0gTT4WZ6JM4grk1Hp+OJiFSJCqwOOXniGF8vfIque94h3hynGw9z54SruXnArwmur/8KIuJd9K5VB+w9eIi9Hz1CdN5iEsxZtgT05GDsX3lrxA3U8/NzOp6ISLWowHxYcsY3PLExl0Vf7+GbZitJazyEsBEPEBUV73Q0EZELpgLzMeVlpWxa9haNNr9Iq9JcVhX9k2kje+M/JJW4FqFOxxMRqTEqMB9RkH+c1EXP0Gnn2ww2uey3Ldhz0e3suWocjRo2cjqeiEiNU4F5uewTZ5iz+ht2f7WA+UFz2OrXjZyYh4m57GY6+Ac4HU9EpNaowLxU5pY15H0xm9W5gcw6k8h1/Uayre9w+sRc6nQ0ERG3UIF5EVd5Ocmfz6NB8gv0K8/glA2kMOJ6dl2fSESYDhOKSN2iAvMCZ0rKeDNpN0FfPsKtLOOgDWV15BT6jZ/G6KbNnY4nIuIIFZgHO3JoH5mLnuTh3V3YWNiCie1HcFGPSxkw5nbaBdR3Op6IiKNUYB4oK30jR5bPYkDBSuIp59Y2d/HEuBsY2qmFLqwrIlJBBeYhrLUsyzhEo09uI640iXa2Pl+FjiXiigeZ1KW30/FERDyOCsxhxUWFrFv6NlO3tSPjyCmeaNaGsk6T6Tf+AYaFtnI6noiIx1KBOeTYkWy2LZxFz4MfMNIUEB3wVx66JZHr+0+gvr+uTygiUpnzLjBjTHvgLaAVYIG51tp/1XQwX5W1dy+HF/yBAfkrSDBlbGoQQ/bQe3kzbjymXj2n44mIeI3qjMDKgOnW2s3GmBAg1RizwlqbUcPZfIZ1uVi3NZ3/2XicL7bvY0fYJjY1G0346OkM6B7tdDwREa903gVmrc0Bciq+LjDGZALtABXYj5ScLWLTp3Npse1V2pWdZnPp//LHsdEED04jvmmI0/FERLzaBc2BGWMigCggqUbS+IgTxw6TtnA2F+//D3HmJN8SzsE+v2XPleMIDAx0Op6IiE+odoEZYxoBHwLTrLWnfvTaJGASQIcOHS4ooDf59kg+T6/awbHUj/hPw5dIrd+X7EFPEp1wLV01vyUiUqOqVWDGmAC+K6951tqPfvy6tXYuMBcgJibGXlBCD2ddLrZ+9RlFa+aw7EQor5xN5KboK8nq9yuiew9yOp6IiM+qzipEA7wKZFprZ9d8JO9QWnKW5M9eo+nWufR17SbPNuJk15vZd/2vaN04yOl4IiI+rzojsKHAzUC6MebriucettYuqbFUHiy/qIRXNuyizZrfc0O91eyhNWu6/YGYcb9lTMPGTscTEakzqrMKcR1Q5y7Il70nk12fPsn9+/qypag5d0SOo0vv64gZcQORfjrxWETE3XQljkps2/Q5BaueYsCZ9bTCMLlje2LG30z/9qFORxMRqdNUYD+j3OXi468P0GHJjcSWp5Nvg1jbagLdxs5gUocuTscTERFUYD9QkH+c9Uvf5p6MCPbknWZ2866c6TqK6MQpJIQ0czqeiIh8jwoMyNm/kx2LZxJ19GPGmCLiGz3BzKsuZ3yfifjp/C0REY9Upwts644dFCz8HQMK19ASS1JwHE2GT+WN2MucjiYiIpWocwXmKi/ni+RU/v5VPsk7D7A9LJ31La6hy9jpDIns7nQ8ERGpojpTYGcKT5Gy8FnaZ71JxzIXe/gf/nrVYJoN2k5EQ514LCLibXy+wI4c2kfmoifpk/MR8aaQDNOJk7GT2Hl5IgEBAU7HExGRavLZAtuancdTK7Mo3voh8xr+m02BAwkeNpXeA8foxpEiIj7ApwrMulykrvoAs/E5Ps5vz/tl47hj4LUciL6FQV36OB1PRERqkE8UWHFRIcmLX6BNxmvEcJAc25ShvUZx/zVXEdqwgdPxRESkFnh1geUWFPPCum/psXEG1/p9xTemI+t6P86AK37DmAZamCEi4su8ssB2ZaZwcNksJh8YQubZUO696Ho695tMv7jxXKz5LRGROsFrCsy6XHy97hPK1j9DbEkqbW0A93frR1ziLXRv3cTpeCIi4mZeUWCfpO0l8pNriLI7ybWNWRV+B73GPcBvWoU7HU1ERBziFQW2O6+IA/TlZI8bGHDlZBKCGjodSUREHOYVBXbvsG74D38VY+rcfTRFROQXeEWBBfhpYYaIiPyQmkFERLySCkxERLySCkxERLySCkxERLySCkxERLySsdbW7g6MyQX21cC3ag4cq4Hv407K7D7emFuZ3UOZ3aOmMne01raoyoa1XmA1xRiTYq2NcTrH+VBm9/HG3MrsHsrsHk5k1iFEERHxSiowERHxSt5UYHOdDlANyuw+3phbmd1Dmd3D7Zm9Zg5MRETk+7xpBCYiIvJfXlFgxpgxxpgdxpidxpg/OJ2nMsaY14wxR40x25zOUlXGmPbGmJXGmAxjzHZjzFSnM1XGGBNojNlkjEmryPyY05mqyhjjZ4zZYoxZ7HSWqjDG7DXGpBtjvjbGpDidpyqMMU2NMfONMd8YYzKNMYOdzlQZY0y3ir/j//t1yhgzzelclTHG3F/xM7jNGPOuMSbQLfv19EOIxhg/IAu4DMgGkoGJ1toMR4OdgzEmHjgNvGWt7eV0nqowxrQB2lhrNxtjQoBU4Fce/vdsgIbW2tPGmABgHTDVWvuVw9EqZYx5AIgBGltrr3Q6T2WMMXuBGGut15ybZIx5E1hrrX3FGFMfCLbWnnQ4VpVVvPcdBAZaa2viXNpaYYxpx3c/ez2stUXGmPeBJdbaN2p7394wAhsA7LTW7rbWlgDvAeMdznRO1to1wHGnc5wPa22OtXZzxdcFQCbQztlU52a/c7riYUDFL8/+RAYYY8KBscArTmfxVcaYJkA88CqAtbbEm8qrwghglyeX1/f4A0HGGH8gGDjkjp16Q4G1Aw5873E2Hv7G6u2MMRFAFJDkcJRKVRyK+xo4Cqyw1np8ZuBp4HeAy+Ec58MCy40xqcaYSU6HqYJIIBd4veJQ7SvGGG+7lfsE4F2nQ1TGWnsQmAnsB3KAfGvtcnfs2xsKTNzIGNMI+BCYZq095XSeylhry621/YBwYIAxxqMP2RpjrgSOWmtTnc5ynuKstf2By4HfVhwm92T+QH/gBWttFFAIePz8+f+pOOSZCHzgdJbKGGOa8d1RsUigLdDQGHOTO/btDQV2EGj/vcfhFc9JDauYR/oQmGet/cjpPOej4vDQSmCMw1EqMxRIrJhTeg+41Bjzb2cjVa7iUzbW2qPAAr47tO/JsoHs743I5/NdoXmLy4HN1tojTgepgpHAHmttrrW2FPgIGOKOHXtDgSUDXY0xkRWfSiYACx3O5HMqFkS8CmRaa2c7nacqjDEtjDFNK74O4ruFPt84GqoS1tqHrLXh1toIvvu//KW11i2fVqvLGNOwYmEPFYfhRgEevcLWWnsYOGCM6Vbx1AjAYxck/YyJeMHhwwr7gUHGmOCK95ERfDeHXuv83bGTC2GtLTPG3AssA/yA16y12x2OdU7GmHeBBKC5MSYb+LO19lVnU1VqKHAzkF4xpwTwsLV2iXORKtUGeLNitVY94H1rrVcsS/cyrYAF37034Q+8Y61d6mykKpkCzKv44LsbuM3hPFVS8SHhMuAup7NUhbU2yRgzH9gMlAFbcNNVOTx+Gb2IiMjP8YZDiCIiIj+hAhMREa+kAhMREa+kAhMREa+kAhMREa+kAhMREa+kAhMREa+kAhMREa+kAhMREa+kAhMREa+kAhMREa+kAhMREa/0/wGjEiu2zIbEMgAAAABJRU5ErkJggg==",
      "_dom_classes": [],
      "_figure_label": "Figure",
      "_image_mode": "full",
      "_message": "",
      "_model_module": "jupyter-matplotlib",
      "_model_module_version": "1.0.0",
      "_model_name": "MPLCanvasModel",
      "_rubberband_height": 0,
      "_rubberband_width": 0,
      "_rubberband_x": 0,
      "_rubberband_y": 0,
      "_size": [
       432,
       216
      ],
      "_view_count": null,
      "_view_module": "jupyter-matplotlib",
      "_view_module_version": "1.0.0",
      "_view_name": "MPLCanvasView",
      "capture_scroll": false,
      "footer_visible": true,
      "header_visible": true,
      "layout": "IPY_MODEL_653cb935f9024f279a4607f7cec22dfb",
      "pan_zoom_throttle": 33,
      "resizable": true,
      "toolbar": "IPY_MODEL_35d15a18441e42d4a434ddf966ff6c0c",
      "toolbar_position": "left",
      "toolbar_visible": "fade-in-fade-out"
     }
    },
    "9514404cd5354755a56f90ecf5e03d9a": {
     "model_module": "jupyter-matplotlib",
     "model_module_version": "1.0.0",
     "model_name": "MPLCanvasModel",
     "state": {
      "_cursor": "default",
      "_data_url": "data:image/png;base64,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",
      "_dom_classes": [],
      "_figure_label": "Figure",
      "_image_mode": "full",
      "_message": "",
      "_model_module": "jupyter-matplotlib",
      "_model_module_version": "1.0.0",
      "_model_name": "MPLCanvasModel",
      "_rubberband_height": 0,
      "_rubberband_width": 0,
      "_rubberband_x": 0,
      "_rubberband_y": 0,
      "_size": [
       432,
       216
      ],
      "_view_count": null,
      "_view_module": "jupyter-matplotlib",
      "_view_module_version": "1.0.0",
      "_view_name": "MPLCanvasView",
      "capture_scroll": false,
      "footer_visible": true,
      "header_visible": true,
      "layout": "IPY_MODEL_06e54a606e1345719938e0052c033d97",
      "pan_zoom_throttle": 33,
      "resizable": true,
      "toolbar": "IPY_MODEL_0dbcba818cf24e9398c22a2db12cfa65",
      "toolbar_position": "left",
      "toolbar_visible": "fade-in-fade-out"
     }
    }
   }
  }
 },
 "nbformat": 4,
 "nbformat_minor": 1
}
